{
 "cells": [
  {
   "cell_type": "markdown",
   "metadata": {},
   "source": [
    "# Classification of Images of Clothes Using CNN"
   ]
  },
  {
   "cell_type": "markdown",
   "metadata": {},
   "source": [
    "<p><img src=\"https://www.googleapis.com/download/storage/v1/b/kaggle-user-content/o/inbox%2F549262%2Fd6f4f6e13fa211c9e773479566d89ac9%2FExample-for-fashion-MNIST-Each-class-is-represented-by-nine-cases.png?generation=1576784453715625&alt=media\" width=\"1000\" height = \"800\" alt=\"Fashion Mnist Challenge\"></p>\n",
    "\n",
    "#### Image source : Kaggle\n"
   ]
  },
  {
   "cell_type": "code",
   "execution_count": 1,
   "metadata": {
    "execution": {
     "iopub.execute_input": "2023-04-03T16:34:43.066272Z",
     "iopub.status.busy": "2023-04-03T16:34:43.064972Z",
     "iopub.status.idle": "2023-04-03T16:34:43.079586Z",
     "shell.execute_reply": "2023-04-03T16:34:43.078073Z",
     "shell.execute_reply.started": "2023-04-03T16:34:43.066225Z"
    }
   },
   "outputs": [
    {
     "name": "stdout",
     "output_type": "stream",
     "text": [
      "C:\\Users\\Anurag\\Desktop\\mpr-6-ml\\input\\fashionmnist\\fashion-mnist_test.csv\n",
      "C:\\Users\\Anurag\\Desktop\\mpr-6-ml\\input\\fashionmnist\\fashion-mnist_train.csv\n",
      "C:\\Users\\Anurag\\Desktop\\mpr-6-ml\\input\\fashionmnist\\t10k-images-idx3-ubyte\n",
      "C:\\Users\\Anurag\\Desktop\\mpr-6-ml\\input\\fashionmnist\\t10k-labels-idx1-ubyte\n",
      "C:\\Users\\Anurag\\Desktop\\mpr-6-ml\\input\\fashionmnist\\train-images-idx3-ubyte\n",
      "C:\\Users\\Anurag\\Desktop\\mpr-6-ml\\input\\fashionmnist\\train-labels-idx1-ubyte\n"
     ]
    }
   ],
   "source": [
    "# This Python 3 environment comes with many helpful analytics libraries installed\n",
    "# It is defined by the kaggle/python Docker image: https://github.com/kaggle/docker-python\n",
    "# For example, here's several helpful packages to load\n",
    "\n",
    "import tensorflow as tf\n",
    "import matplotlib.pyplot as plt\n",
    "import seaborn as sn\n",
    "import numpy as np # linear algebra\n",
    "import pandas as pd # data processing, CSV file I/O (e.g. pd.read_csv)\n",
    "import math\n",
    "import datetime\n",
    "import platform\n",
    "import imageio\n",
    "import PIL\n",
    "import time\n",
    "import os\n",
    "import glob\n",
    "import zipfile\n",
    "\n",
    "from IPython import display\n",
    "\n",
    "# Input data files are available in the read-only \"../input/\" directory\n",
    "# For example, running this (by clicking run or pressing Shift+Enter) will list all files under the input directory\n",
    "\n",
    "import os\n",
    "for dirname, _, filenames in os.walk(r'C:\\Users\\Anurag\\Desktop\\mpr-6-ml\\input'):\n",
    "    for filename in filenames:\n",
    "        print(os.path.join(dirname, filename))\n",
    "\n",
    "# You can write up to 20GB to the current directory (/kaggle/working/) that gets preserved as output when you create a version using \"Save & Run All\" \n",
    "# You can also write temporary files to /kaggle/temp/, but they won't be saved outside of the current session"
   ]
  },
  {
   "cell_type": "code",
   "execution_count": 2,
   "metadata": {
    "execution": {
     "iopub.execute_input": "2023-04-03T16:34:43.083381Z",
     "iopub.status.busy": "2023-04-03T16:34:43.082496Z",
     "iopub.status.idle": "2023-04-03T16:34:43.092843Z",
     "shell.execute_reply": "2023-04-03T16:34:43.091215Z",
     "shell.execute_reply.started": "2023-04-03T16:34:43.083331Z"
    }
   },
   "outputs": [
    {
     "name": "stdout",
     "output_type": "stream",
     "text": [
      "Python version: 3.9.13\n",
      "Tensorflow version: 2.12.0\n",
      "Keras version: 2.12.0\n"
     ]
    }
   ],
   "source": [
    "print('Python version:', platform.python_version())\n",
    "print('Tensorflow version:', tf.__version__)\n",
    "print('Keras version:', tf.keras.__version__)"
   ]
  },
  {
   "cell_type": "code",
   "execution_count": 3,
   "metadata": {
    "execution": {
     "iopub.execute_input": "2023-04-03T16:34:43.096156Z",
     "iopub.status.busy": "2023-04-03T16:34:43.095269Z",
     "iopub.status.idle": "2023-04-03T16:34:47.807593Z",
     "shell.execute_reply": "2023-04-03T16:34:47.806422Z",
     "shell.execute_reply.started": "2023-04-03T16:34:43.096104Z"
    }
   },
   "outputs": [],
   "source": [
    "train = pd.read_csv(r'C:\\Users\\Anurag\\Desktop\\mpr-6-ml\\input\\fashionmnist\\fashion-mnist_train.csv')\n",
    "test = pd.read_csv(r'C:\\Users\\Anurag\\Desktop\\mpr-6-ml\\input\\fashionmnist\\fashion-mnist_test.csv')"
   ]
  },
  {
   "cell_type": "markdown",
   "metadata": {},
   "source": [
    "## 3. Data Overview <a class=\"anchor\" id=\"dOverview\"></a>\n",
    "This kernel uses the Fashion-MNIST dataset of Zalando's article images which contains 60,000 grayscale images of a training set and 10,000 of test set in 10 categories. The images show individual articles of clothing at 28X28 pixcels resolution. \n",
    "\n",
    "[Back to Table of Contents](#bcImp)\n",
    "### 3.1. Diamension of train and test data <a class=\"anchor\" id=\"dTrainTest\"></a>\n",
    "[Back to Table of Contents](#bcImp)"
   ]
  },
  {
   "cell_type": "code",
   "execution_count": 4,
   "metadata": {
    "execution": {
     "iopub.execute_input": "2023-04-03T16:34:47.809406Z",
     "iopub.status.busy": "2023-04-03T16:34:47.809025Z",
     "iopub.status.idle": "2023-04-03T16:34:47.829794Z",
     "shell.execute_reply": "2023-04-03T16:34:47.828527Z",
     "shell.execute_reply.started": "2023-04-03T16:34:47.809373Z"
    }
   },
   "outputs": [
    {
     "data": {
      "text/html": [
       "<div>\n",
       "<style scoped>\n",
       "    .dataframe tbody tr th:only-of-type {\n",
       "        vertical-align: middle;\n",
       "    }\n",
       "\n",
       "    .dataframe tbody tr th {\n",
       "        vertical-align: top;\n",
       "    }\n",
       "\n",
       "    .dataframe thead th {\n",
       "        text-align: right;\n",
       "    }\n",
       "</style>\n",
       "<table border=\"1\" class=\"dataframe\">\n",
       "  <thead>\n",
       "    <tr style=\"text-align: right;\">\n",
       "      <th></th>\n",
       "      <th>label</th>\n",
       "      <th>pixel1</th>\n",
       "      <th>pixel2</th>\n",
       "      <th>pixel3</th>\n",
       "      <th>pixel4</th>\n",
       "      <th>pixel5</th>\n",
       "      <th>pixel6</th>\n",
       "      <th>pixel7</th>\n",
       "      <th>pixel8</th>\n",
       "      <th>pixel9</th>\n",
       "      <th>...</th>\n",
       "      <th>pixel775</th>\n",
       "      <th>pixel776</th>\n",
       "      <th>pixel777</th>\n",
       "      <th>pixel778</th>\n",
       "      <th>pixel779</th>\n",
       "      <th>pixel780</th>\n",
       "      <th>pixel781</th>\n",
       "      <th>pixel782</th>\n",
       "      <th>pixel783</th>\n",
       "      <th>pixel784</th>\n",
       "    </tr>\n",
       "  </thead>\n",
       "  <tbody>\n",
       "    <tr>\n",
       "      <th>0</th>\n",
       "      <td>2</td>\n",
       "      <td>0</td>\n",
       "      <td>0</td>\n",
       "      <td>0</td>\n",
       "      <td>0</td>\n",
       "      <td>0</td>\n",
       "      <td>0</td>\n",
       "      <td>0</td>\n",
       "      <td>0</td>\n",
       "      <td>0</td>\n",
       "      <td>...</td>\n",
       "      <td>0</td>\n",
       "      <td>0</td>\n",
       "      <td>0</td>\n",
       "      <td>0</td>\n",
       "      <td>0</td>\n",
       "      <td>0</td>\n",
       "      <td>0</td>\n",
       "      <td>0</td>\n",
       "      <td>0</td>\n",
       "      <td>0</td>\n",
       "    </tr>\n",
       "    <tr>\n",
       "      <th>2</th>\n",
       "      <td>6</td>\n",
       "      <td>0</td>\n",
       "      <td>0</td>\n",
       "      <td>0</td>\n",
       "      <td>0</td>\n",
       "      <td>0</td>\n",
       "      <td>0</td>\n",
       "      <td>0</td>\n",
       "      <td>5</td>\n",
       "      <td>0</td>\n",
       "      <td>...</td>\n",
       "      <td>0</td>\n",
       "      <td>0</td>\n",
       "      <td>0</td>\n",
       "      <td>30</td>\n",
       "      <td>43</td>\n",
       "      <td>0</td>\n",
       "      <td>0</td>\n",
       "      <td>0</td>\n",
       "      <td>0</td>\n",
       "      <td>0</td>\n",
       "    </tr>\n",
       "    <tr>\n",
       "      <th>3</th>\n",
       "      <td>0</td>\n",
       "      <td>0</td>\n",
       "      <td>0</td>\n",
       "      <td>0</td>\n",
       "      <td>1</td>\n",
       "      <td>2</td>\n",
       "      <td>0</td>\n",
       "      <td>0</td>\n",
       "      <td>0</td>\n",
       "      <td>0</td>\n",
       "      <td>...</td>\n",
       "      <td>3</td>\n",
       "      <td>0</td>\n",
       "      <td>0</td>\n",
       "      <td>0</td>\n",
       "      <td>0</td>\n",
       "      <td>1</td>\n",
       "      <td>0</td>\n",
       "      <td>0</td>\n",
       "      <td>0</td>\n",
       "      <td>0</td>\n",
       "    </tr>\n",
       "    <tr>\n",
       "      <th>4</th>\n",
       "      <td>3</td>\n",
       "      <td>0</td>\n",
       "      <td>0</td>\n",
       "      <td>0</td>\n",
       "      <td>0</td>\n",
       "      <td>0</td>\n",
       "      <td>0</td>\n",
       "      <td>0</td>\n",
       "      <td>0</td>\n",
       "      <td>0</td>\n",
       "      <td>...</td>\n",
       "      <td>0</td>\n",
       "      <td>0</td>\n",
       "      <td>0</td>\n",
       "      <td>0</td>\n",
       "      <td>0</td>\n",
       "      <td>0</td>\n",
       "      <td>0</td>\n",
       "      <td>0</td>\n",
       "      <td>0</td>\n",
       "      <td>0</td>\n",
       "    </tr>\n",
       "    <tr>\n",
       "      <th>5</th>\n",
       "      <td>4</td>\n",
       "      <td>0</td>\n",
       "      <td>0</td>\n",
       "      <td>0</td>\n",
       "      <td>5</td>\n",
       "      <td>4</td>\n",
       "      <td>5</td>\n",
       "      <td>5</td>\n",
       "      <td>3</td>\n",
       "      <td>5</td>\n",
       "      <td>...</td>\n",
       "      <td>7</td>\n",
       "      <td>8</td>\n",
       "      <td>7</td>\n",
       "      <td>4</td>\n",
       "      <td>3</td>\n",
       "      <td>7</td>\n",
       "      <td>5</td>\n",
       "      <td>0</td>\n",
       "      <td>0</td>\n",
       "      <td>0</td>\n",
       "    </tr>\n",
       "  </tbody>\n",
       "</table>\n",
       "<p>5 rows × 785 columns</p>\n",
       "</div>"
      ],
      "text/plain": [
       "   label  pixel1  pixel2  pixel3  pixel4  pixel5  pixel6  pixel7  pixel8  \\\n",
       "0      2       0       0       0       0       0       0       0       0   \n",
       "2      6       0       0       0       0       0       0       0       5   \n",
       "3      0       0       0       0       1       2       0       0       0   \n",
       "4      3       0       0       0       0       0       0       0       0   \n",
       "5      4       0       0       0       5       4       5       5       3   \n",
       "\n",
       "   pixel9  ...  pixel775  pixel776  pixel777  pixel778  pixel779  pixel780  \\\n",
       "0       0  ...         0         0         0         0         0         0   \n",
       "2       0  ...         0         0         0        30        43         0   \n",
       "3       0  ...         3         0         0         0         0         1   \n",
       "4       0  ...         0         0         0         0         0         0   \n",
       "5       5  ...         7         8         7         4         3         7   \n",
       "\n",
       "   pixel781  pixel782  pixel783  pixel784  \n",
       "0         0         0         0         0  \n",
       "2         0         0         0         0  \n",
       "3         0         0         0         0  \n",
       "4         0         0         0         0  \n",
       "5         5         0         0         0  \n",
       "\n",
       "[5 rows x 785 columns]"
      ]
     },
     "execution_count": 4,
     "metadata": {},
     "output_type": "execute_result"
    }
   ],
   "source": [
    "labels_to_drop = [5, 7, 8, 9]\n",
    "mask = train['label'].isin(labels_to_drop)\n",
    "train=train[~mask]\n",
    "train.head()"
   ]
  },
  {
   "cell_type": "code",
   "execution_count": 5,
   "metadata": {
    "execution": {
     "iopub.execute_input": "2023-04-03T16:34:47.834341Z",
     "iopub.status.busy": "2023-04-03T16:34:47.833452Z",
     "iopub.status.idle": "2023-04-03T16:34:47.851838Z",
     "shell.execute_reply": "2023-04-03T16:34:47.850942Z",
     "shell.execute_reply.started": "2023-04-03T16:34:47.834302Z"
    }
   },
   "outputs": [
    {
     "data": {
      "text/html": [
       "<div>\n",
       "<style scoped>\n",
       "    .dataframe tbody tr th:only-of-type {\n",
       "        vertical-align: middle;\n",
       "    }\n",
       "\n",
       "    .dataframe tbody tr th {\n",
       "        vertical-align: top;\n",
       "    }\n",
       "\n",
       "    .dataframe thead th {\n",
       "        text-align: right;\n",
       "    }\n",
       "</style>\n",
       "<table border=\"1\" class=\"dataframe\">\n",
       "  <thead>\n",
       "    <tr style=\"text-align: right;\">\n",
       "      <th></th>\n",
       "      <th>label</th>\n",
       "      <th>pixel1</th>\n",
       "      <th>pixel2</th>\n",
       "      <th>pixel3</th>\n",
       "      <th>pixel4</th>\n",
       "      <th>pixel5</th>\n",
       "      <th>pixel6</th>\n",
       "      <th>pixel7</th>\n",
       "      <th>pixel8</th>\n",
       "      <th>pixel9</th>\n",
       "      <th>...</th>\n",
       "      <th>pixel775</th>\n",
       "      <th>pixel776</th>\n",
       "      <th>pixel777</th>\n",
       "      <th>pixel778</th>\n",
       "      <th>pixel779</th>\n",
       "      <th>pixel780</th>\n",
       "      <th>pixel781</th>\n",
       "      <th>pixel782</th>\n",
       "      <th>pixel783</th>\n",
       "      <th>pixel784</th>\n",
       "    </tr>\n",
       "  </thead>\n",
       "  <tbody>\n",
       "    <tr>\n",
       "      <th>0</th>\n",
       "      <td>0</td>\n",
       "      <td>0</td>\n",
       "      <td>0</td>\n",
       "      <td>0</td>\n",
       "      <td>0</td>\n",
       "      <td>0</td>\n",
       "      <td>0</td>\n",
       "      <td>0</td>\n",
       "      <td>9</td>\n",
       "      <td>8</td>\n",
       "      <td>...</td>\n",
       "      <td>103</td>\n",
       "      <td>87</td>\n",
       "      <td>56</td>\n",
       "      <td>0</td>\n",
       "      <td>0</td>\n",
       "      <td>0</td>\n",
       "      <td>0</td>\n",
       "      <td>0</td>\n",
       "      <td>0</td>\n",
       "      <td>0</td>\n",
       "    </tr>\n",
       "    <tr>\n",
       "      <th>1</th>\n",
       "      <td>1</td>\n",
       "      <td>0</td>\n",
       "      <td>0</td>\n",
       "      <td>0</td>\n",
       "      <td>0</td>\n",
       "      <td>0</td>\n",
       "      <td>0</td>\n",
       "      <td>0</td>\n",
       "      <td>0</td>\n",
       "      <td>0</td>\n",
       "      <td>...</td>\n",
       "      <td>34</td>\n",
       "      <td>0</td>\n",
       "      <td>0</td>\n",
       "      <td>0</td>\n",
       "      <td>0</td>\n",
       "      <td>0</td>\n",
       "      <td>0</td>\n",
       "      <td>0</td>\n",
       "      <td>0</td>\n",
       "      <td>0</td>\n",
       "    </tr>\n",
       "    <tr>\n",
       "      <th>2</th>\n",
       "      <td>2</td>\n",
       "      <td>0</td>\n",
       "      <td>0</td>\n",
       "      <td>0</td>\n",
       "      <td>0</td>\n",
       "      <td>0</td>\n",
       "      <td>0</td>\n",
       "      <td>14</td>\n",
       "      <td>53</td>\n",
       "      <td>99</td>\n",
       "      <td>...</td>\n",
       "      <td>0</td>\n",
       "      <td>0</td>\n",
       "      <td>0</td>\n",
       "      <td>0</td>\n",
       "      <td>63</td>\n",
       "      <td>53</td>\n",
       "      <td>31</td>\n",
       "      <td>0</td>\n",
       "      <td>0</td>\n",
       "      <td>0</td>\n",
       "    </tr>\n",
       "    <tr>\n",
       "      <th>3</th>\n",
       "      <td>2</td>\n",
       "      <td>0</td>\n",
       "      <td>0</td>\n",
       "      <td>0</td>\n",
       "      <td>0</td>\n",
       "      <td>0</td>\n",
       "      <td>0</td>\n",
       "      <td>0</td>\n",
       "      <td>0</td>\n",
       "      <td>0</td>\n",
       "      <td>...</td>\n",
       "      <td>137</td>\n",
       "      <td>126</td>\n",
       "      <td>140</td>\n",
       "      <td>0</td>\n",
       "      <td>133</td>\n",
       "      <td>224</td>\n",
       "      <td>222</td>\n",
       "      <td>56</td>\n",
       "      <td>0</td>\n",
       "      <td>0</td>\n",
       "    </tr>\n",
       "    <tr>\n",
       "      <th>4</th>\n",
       "      <td>3</td>\n",
       "      <td>0</td>\n",
       "      <td>0</td>\n",
       "      <td>0</td>\n",
       "      <td>0</td>\n",
       "      <td>0</td>\n",
       "      <td>0</td>\n",
       "      <td>0</td>\n",
       "      <td>0</td>\n",
       "      <td>0</td>\n",
       "      <td>...</td>\n",
       "      <td>0</td>\n",
       "      <td>0</td>\n",
       "      <td>0</td>\n",
       "      <td>0</td>\n",
       "      <td>0</td>\n",
       "      <td>0</td>\n",
       "      <td>0</td>\n",
       "      <td>0</td>\n",
       "      <td>0</td>\n",
       "      <td>0</td>\n",
       "    </tr>\n",
       "  </tbody>\n",
       "</table>\n",
       "<p>5 rows × 785 columns</p>\n",
       "</div>"
      ],
      "text/plain": [
       "   label  pixel1  pixel2  pixel3  pixel4  pixel5  pixel6  pixel7  pixel8  \\\n",
       "0      0       0       0       0       0       0       0       0       9   \n",
       "1      1       0       0       0       0       0       0       0       0   \n",
       "2      2       0       0       0       0       0       0      14      53   \n",
       "3      2       0       0       0       0       0       0       0       0   \n",
       "4      3       0       0       0       0       0       0       0       0   \n",
       "\n",
       "   pixel9  ...  pixel775  pixel776  pixel777  pixel778  pixel779  pixel780  \\\n",
       "0       8  ...       103        87        56         0         0         0   \n",
       "1       0  ...        34         0         0         0         0         0   \n",
       "2      99  ...         0         0         0         0        63        53   \n",
       "3       0  ...       137       126       140         0       133       224   \n",
       "4       0  ...         0         0         0         0         0         0   \n",
       "\n",
       "   pixel781  pixel782  pixel783  pixel784  \n",
       "0         0         0         0         0  \n",
       "1         0         0         0         0  \n",
       "2        31         0         0         0  \n",
       "3       222        56         0         0  \n",
       "4         0         0         0         0  \n",
       "\n",
       "[5 rows x 785 columns]"
      ]
     },
     "execution_count": 5,
     "metadata": {},
     "output_type": "execute_result"
    }
   ],
   "source": [
    "labels_to_drop = [5, 7, 8, 9]\n",
    "mask = test['label'].isin(labels_to_drop)\n",
    "test=test[~mask]\n",
    "test.head()"
   ]
  },
  {
   "cell_type": "code",
   "execution_count": 6,
   "metadata": {
    "execution": {
     "iopub.execute_input": "2023-04-03T16:34:47.853623Z",
     "iopub.status.busy": "2023-04-03T16:34:47.853112Z",
     "iopub.status.idle": "2023-04-03T16:34:47.907410Z",
     "shell.execute_reply": "2023-04-03T16:34:47.905970Z",
     "shell.execute_reply.started": "2023-04-03T16:34:47.853591Z"
    }
   },
   "outputs": [
    {
     "name": "stdout",
     "output_type": "stream",
     "text": [
      "<class 'pandas.core.frame.DataFrame'>\n",
      "Int64Index: 36000 entries, 0 to 59996\n",
      "Columns: 785 entries, label to pixel784\n",
      "dtypes: int64(785)\n",
      "memory usage: 215.9 MB\n"
     ]
    },
    {
     "data": {
      "text/plain": [
       "(None, (36000, 785))"
      ]
     },
     "execution_count": 6,
     "metadata": {},
     "output_type": "execute_result"
    }
   ],
   "source": [
    "train.info(), train.shape"
   ]
  },
  {
   "cell_type": "code",
   "execution_count": 7,
   "metadata": {
    "execution": {
     "iopub.execute_input": "2023-04-03T16:34:47.909970Z",
     "iopub.status.busy": "2023-04-03T16:34:47.909413Z",
     "iopub.status.idle": "2023-04-03T16:34:47.958567Z",
     "shell.execute_reply": "2023-04-03T16:34:47.957439Z",
     "shell.execute_reply.started": "2023-04-03T16:34:47.909920Z"
    }
   },
   "outputs": [
    {
     "name": "stdout",
     "output_type": "stream",
     "text": [
      "<class 'pandas.core.frame.DataFrame'>\n",
      "Int64Index: 6000 entries, 0 to 9999\n",
      "Columns: 785 entries, label to pixel784\n",
      "dtypes: int64(785)\n",
      "memory usage: 36.0 MB\n"
     ]
    },
    {
     "data": {
      "text/plain": [
       "(None, (6000, 785))"
      ]
     },
     "execution_count": 7,
     "metadata": {},
     "output_type": "execute_result"
    }
   ],
   "source": [
    "test.info(),  test.shape"
   ]
  },
  {
   "cell_type": "markdown",
   "metadata": {},
   "source": [
    "## 3.2. Training and testing dataset<a class=\"anchor\" id=\"splitData\"></a>\n",
    "[Back to Table of Contents](#bcImp)\n",
    "\n",
    "We will train the network with 60,000 images (training set) and evaluate it's accuracy with 10,000 images (testing set)."
   ]
  },
  {
   "cell_type": "code",
   "execution_count": 8,
   "metadata": {
    "execution": {
     "iopub.execute_input": "2023-04-03T16:34:47.961334Z",
     "iopub.status.busy": "2023-04-03T16:34:47.960252Z",
     "iopub.status.idle": "2023-04-03T16:34:47.967577Z",
     "shell.execute_reply": "2023-04-03T16:34:47.966415Z",
     "shell.execute_reply.started": "2023-04-03T16:34:47.961296Z"
    }
   },
   "outputs": [],
   "source": [
    "X_train = train.iloc[:, 1:785]\n",
    "y_train = train.iloc[:, 0]\n",
    "\n",
    "X_test = test.iloc[:, 1:785]\n",
    "y_test = test.iloc[:, 0]"
   ]
  },
  {
   "cell_type": "markdown",
   "metadata": {},
   "source": [
    "## 3.3. Visualizing the data using TSNE <a class=\"anchor\" id=\"tsne\"></a>\n",
    "[Back to Table of Contents](#bcImp)\n",
    "\n",
    "<b>TSNE</b> - t-Distributed Stochastic Neighbor embedding. This is a dimensionality reduction algorithm that is designed to keep local structure in the high dimensional data set, but cares less about global structure. Here, we use it to go from the 784 pixel-dimension of the images to two dimensions. This makes plotting easier. The color scale is the original MNIST label and one can see that the separation of the labels is apparent."
   ]
  },
  {
   "cell_type": "code",
   "execution_count": 9,
   "metadata": {
    "execution": {
     "iopub.execute_input": "2023-04-03T16:34:47.969289Z",
     "iopub.status.busy": "2023-04-03T16:34:47.968915Z",
     "iopub.status.idle": "2023-04-03T16:34:47.978528Z",
     "shell.execute_reply": "2023-04-03T16:34:47.977144Z",
     "shell.execute_reply.started": "2023-04-03T16:34:47.969256Z"
    }
   },
   "outputs": [],
   "source": [
    "# WARNING: running t-SNE on the full data set takes a while.\n",
    "# X_tsn = X_train/255\n",
    "\n",
    "# from sklearn.manifold import TSNE\n",
    "# tsne = TSNE()\n",
    "\n",
    "# tsne_res = tsne.fit_transform(X_tsn)"
   ]
  },
  {
   "cell_type": "code",
   "execution_count": 10,
   "metadata": {
    "execution": {
     "iopub.execute_input": "2023-04-03T16:34:47.980704Z",
     "iopub.status.busy": "2023-04-03T16:34:47.980322Z",
     "iopub.status.idle": "2023-04-03T16:34:47.989425Z",
     "shell.execute_reply": "2023-04-03T16:34:47.988226Z",
     "shell.execute_reply.started": "2023-04-03T16:34:47.980672Z"
    }
   },
   "outputs": [],
   "source": [
    "# plt.figure(figsize=(14, 12))\n",
    "# plt.scatter(tsne_res[:,0], tsne_res[:,1], c=y, s=2)\n",
    "# plt.xticks([])\n",
    "# plt.yticks([])\n",
    "# plt.colorbar();"
   ]
  },
  {
   "cell_type": "markdown",
   "metadata": {},
   "source": [
    "## 3.4. Diamension of training and testing data<a class=\"anchor\" id=\"dTrainVal\"></a>\n",
    "[Back to Table of Contents](#bcImp)"
   ]
  },
  {
   "cell_type": "code",
   "execution_count": 11,
   "metadata": {
    "execution": {
     "iopub.execute_input": "2023-04-03T16:34:47.991542Z",
     "iopub.status.busy": "2023-04-03T16:34:47.991108Z",
     "iopub.status.idle": "2023-04-03T16:34:48.000520Z",
     "shell.execute_reply": "2023-04-03T16:34:47.999327Z",
     "shell.execute_reply.started": "2023-04-03T16:34:47.991499Z"
    }
   },
   "outputs": [
    {
     "name": "stdout",
     "output_type": "stream",
     "text": [
      "X_train: (36000, 784)\n",
      "y_train: (36000,)\n",
      "X_validation: (6000, 784)\n",
      "y_validation: (6000,)\n"
     ]
    }
   ],
   "source": [
    "print('X_train:', X_train.shape)\n",
    "print('y_train:', y_train.shape)\n",
    "print('X_validation:', X_test.shape)\n",
    "print('y_validation:', y_test.shape)"
   ]
  },
  {
   "cell_type": "markdown",
   "metadata": {},
   "source": [
    "### 3.5. Converting training, and testing dataset into NumPy arrays<a class=\"anchor\" id=\"reTrainTestVal\"></a>\n",
    "[Back to Table of Contents](#bcImp)\n",
    "\n",
    "The images are NumPy arrays of 28x28 pixels with values ranging from 0 to 255. The labels are an array of integers numbered 0 to 9. These correspond to the clothing class represented by the image."
   ]
  },
  {
   "cell_type": "code",
   "execution_count": 15,
   "metadata": {
    "execution": {
     "iopub.execute_input": "2023-04-03T16:34:48.003135Z",
     "iopub.status.busy": "2023-04-03T16:34:48.002137Z",
     "iopub.status.idle": "2023-04-03T16:34:48.012808Z",
     "shell.execute_reply": "2023-04-03T16:34:48.011736Z",
     "shell.execute_reply.started": "2023-04-03T16:34:48.003087Z"
    }
   },
   "outputs": [],
   "source": [
    "x_train_re = X_train.to_numpy().reshape(36000, 28, 28)\n",
    "y_train_re = y_train.values\n",
    "x_test_re = X_test.to_numpy().reshape(6000, 28, 28)\n",
    "y_test_re = y_test.values"
   ]
  },
  {
   "cell_type": "markdown",
   "metadata": {},
   "source": [
    "### 3.6. Diamension of training, and testing data after reshape<a class=\"anchor\" id=\"dreshape\">\n",
    "[Back to Table of Contents](#bcImp)"
   ]
  },
  {
   "cell_type": "code",
   "execution_count": 16,
   "metadata": {
    "execution": {
     "iopub.execute_input": "2023-04-03T16:34:48.014900Z",
     "iopub.status.busy": "2023-04-03T16:34:48.014521Z",
     "iopub.status.idle": "2023-04-03T16:34:48.024933Z",
     "shell.execute_reply": "2023-04-03T16:34:48.023842Z",
     "shell.execute_reply.started": "2023-04-03T16:34:48.014868Z"
    }
   },
   "outputs": [
    {
     "name": "stdout",
     "output_type": "stream",
     "text": [
      "x_train: (36000, 28, 28)\n",
      "y_train: (36000,)\n",
      "x_test: (6000, 28, 28)\n",
      "y_test: (6000,)\n",
      "x_test: (6000, 28, 28)\n"
     ]
    }
   ],
   "source": [
    "print('x_train:', x_train_re.shape)\n",
    "print('y_train:', y_train_re.shape)\n",
    "print('x_test:', x_test_re.shape)\n",
    "print('y_test:', y_test_re.shape)\n",
    "print('x_test:', x_test_re.shape)"
   ]
  },
  {
   "cell_type": "markdown",
   "metadata": {},
   "source": [
    "Each image is associated with a single label. Since the clothing class names are not included with the dataset, store  them here for later use when plotting the images:"
   ]
  },
  {
   "cell_type": "code",
   "execution_count": 17,
   "metadata": {
    "execution": {
     "iopub.execute_input": "2023-04-03T16:34:48.031685Z",
     "iopub.status.busy": "2023-04-03T16:34:48.031066Z",
     "iopub.status.idle": "2023-04-03T16:34:48.036709Z",
     "shell.execute_reply": "2023-04-03T16:34:48.035481Z",
     "shell.execute_reply.started": "2023-04-03T16:34:48.031643Z"
    }
   },
   "outputs": [],
   "source": [
    "clothing_class_names = ['T-shirt/top', 'Trouser', 'Pullover', 'Dress', 'Coat', 'Shirt']"
   ]
  },
  {
   "cell_type": "markdown",
   "metadata": {},
   "source": [
    "The labels are an array of integers numbered 0 to 9."
   ]
  },
  {
   "cell_type": "code",
   "execution_count": 18,
   "metadata": {
    "execution": {
     "iopub.execute_input": "2023-04-03T16:34:48.038720Z",
     "iopub.status.busy": "2023-04-03T16:34:48.038091Z",
     "iopub.status.idle": "2023-04-03T16:34:48.049807Z",
     "shell.execute_reply": "2023-04-03T16:34:48.048433Z",
     "shell.execute_reply.started": "2023-04-03T16:34:48.038670Z"
    }
   },
   "outputs": [
    {
     "data": {
      "text/plain": [
       "(array([2, 6, 0, ..., 0, 2, 1], dtype=int64), 36000)"
      ]
     },
     "execution_count": 18,
     "metadata": {},
     "output_type": "execute_result"
    }
   ],
   "source": [
    "y_train_re, len(y_train_re)"
   ]
  },
  {
   "cell_type": "code",
   "execution_count": 20,
   "metadata": {
    "execution": {
     "iopub.execute_input": "2023-04-03T16:34:48.052144Z",
     "iopub.status.busy": "2023-04-03T16:34:48.051135Z",
     "iopub.status.idle": "2023-04-03T16:34:48.063843Z",
     "shell.execute_reply": "2023-04-03T16:34:48.062992Z",
     "shell.execute_reply.started": "2023-04-03T16:34:48.052103Z"
    }
   },
   "outputs": [
    {
     "data": {
      "text/plain": [
       "(array([0, 1, 2, ..., 0, 6, 1], dtype=int64), 6000, {0, 1, 2, 3, 4, 6})"
      ]
     },
     "execution_count": 20,
     "metadata": {},
     "output_type": "execute_result"
    }
   ],
   "source": [
    "y_test_re, len(y_test_re), set(y_test_re)"
   ]
  },
  {
   "cell_type": "code",
   "execution_count": 21,
   "metadata": {
    "execution": {
     "iopub.execute_input": "2023-04-03T16:34:48.066263Z",
     "iopub.status.busy": "2023-04-03T16:34:48.065318Z",
     "iopub.status.idle": "2023-04-03T16:34:48.075162Z",
     "shell.execute_reply": "2023-04-03T16:34:48.073824Z",
     "shell.execute_reply.started": "2023-04-03T16:34:48.066225Z"
    }
   },
   "outputs": [
    {
     "name": "stdout",
     "output_type": "stream",
     "text": [
      "IMAGE_WIDTH: 28\n",
      "IMAGE_HEIGHT: 28\n",
      "IMAGE_CHANNELS: 1\n"
     ]
    }
   ],
   "source": [
    "# Save image parameters to the constants that we will use later for data re-shaping and for model traning.\n",
    "(_, IMAGE_WIDTH, IMAGE_HEIGHT) = x_train_re.shape\n",
    "IMAGE_CHANNELS = 1\n",
    "\n",
    "print('IMAGE_WIDTH:', IMAGE_WIDTH);\n",
    "print('IMAGE_HEIGHT:', IMAGE_HEIGHT);\n",
    "print('IMAGE_CHANNELS:', IMAGE_CHANNELS);"
   ]
  },
  {
   "cell_type": "markdown",
   "metadata": {},
   "source": [
    " ### In summary <a class =\"anchor\" id =\"summaryData\"></a>\n",
    " [Back to Table of Contents](#bcImp)"
   ]
  },
  {
   "cell_type": "markdown",
   "metadata": {},
   "source": [
    "## 4. Explore the data <a class=\"anchor\" id=\"exploreData\">\n",
    "[Back to Table of Contents](#bcImp)\n",
    "    \n",
    "Here is how each image in the dataset looks like. It is a 28x28 matrix of integers (from 0 to 255) and each integer represents a color of a pixel."
   ]
  },
  {
   "cell_type": "code",
   "execution_count": 22,
   "metadata": {
    "execution": {
     "iopub.execute_input": "2023-04-03T16:34:48.077876Z",
     "iopub.status.busy": "2023-04-03T16:34:48.076925Z",
     "iopub.status.idle": "2023-04-03T16:34:48.109426Z",
     "shell.execute_reply": "2023-04-03T16:34:48.108143Z",
     "shell.execute_reply.started": "2023-04-03T16:34:48.077832Z"
    }
   },
   "outputs": [
    {
     "data": {
      "text/html": [
       "<div>\n",
       "<style scoped>\n",
       "    .dataframe tbody tr th:only-of-type {\n",
       "        vertical-align: middle;\n",
       "    }\n",
       "\n",
       "    .dataframe tbody tr th {\n",
       "        vertical-align: top;\n",
       "    }\n",
       "\n",
       "    .dataframe thead th {\n",
       "        text-align: right;\n",
       "    }\n",
       "</style>\n",
       "<table border=\"1\" class=\"dataframe\">\n",
       "  <thead>\n",
       "    <tr style=\"text-align: right;\">\n",
       "      <th></th>\n",
       "      <th>0</th>\n",
       "      <th>1</th>\n",
       "      <th>2</th>\n",
       "      <th>3</th>\n",
       "      <th>4</th>\n",
       "      <th>5</th>\n",
       "      <th>6</th>\n",
       "      <th>7</th>\n",
       "      <th>8</th>\n",
       "      <th>9</th>\n",
       "      <th>...</th>\n",
       "      <th>18</th>\n",
       "      <th>19</th>\n",
       "      <th>20</th>\n",
       "      <th>21</th>\n",
       "      <th>22</th>\n",
       "      <th>23</th>\n",
       "      <th>24</th>\n",
       "      <th>25</th>\n",
       "      <th>26</th>\n",
       "      <th>27</th>\n",
       "    </tr>\n",
       "  </thead>\n",
       "  <tbody>\n",
       "    <tr>\n",
       "      <th>0</th>\n",
       "      <td>0</td>\n",
       "      <td>0</td>\n",
       "      <td>0</td>\n",
       "      <td>0</td>\n",
       "      <td>0</td>\n",
       "      <td>0</td>\n",
       "      <td>0</td>\n",
       "      <td>0</td>\n",
       "      <td>0</td>\n",
       "      <td>0</td>\n",
       "      <td>...</td>\n",
       "      <td>0</td>\n",
       "      <td>0</td>\n",
       "      <td>0</td>\n",
       "      <td>0</td>\n",
       "      <td>0</td>\n",
       "      <td>0</td>\n",
       "      <td>0</td>\n",
       "      <td>0</td>\n",
       "      <td>0</td>\n",
       "      <td>0</td>\n",
       "    </tr>\n",
       "    <tr>\n",
       "      <th>1</th>\n",
       "      <td>0</td>\n",
       "      <td>0</td>\n",
       "      <td>0</td>\n",
       "      <td>0</td>\n",
       "      <td>0</td>\n",
       "      <td>0</td>\n",
       "      <td>0</td>\n",
       "      <td>0</td>\n",
       "      <td>0</td>\n",
       "      <td>0</td>\n",
       "      <td>...</td>\n",
       "      <td>0</td>\n",
       "      <td>0</td>\n",
       "      <td>0</td>\n",
       "      <td>0</td>\n",
       "      <td>0</td>\n",
       "      <td>0</td>\n",
       "      <td>0</td>\n",
       "      <td>0</td>\n",
       "      <td>0</td>\n",
       "      <td>0</td>\n",
       "    </tr>\n",
       "    <tr>\n",
       "      <th>2</th>\n",
       "      <td>0</td>\n",
       "      <td>0</td>\n",
       "      <td>0</td>\n",
       "      <td>0</td>\n",
       "      <td>0</td>\n",
       "      <td>0</td>\n",
       "      <td>0</td>\n",
       "      <td>0</td>\n",
       "      <td>0</td>\n",
       "      <td>0</td>\n",
       "      <td>...</td>\n",
       "      <td>0</td>\n",
       "      <td>0</td>\n",
       "      <td>0</td>\n",
       "      <td>0</td>\n",
       "      <td>0</td>\n",
       "      <td>0</td>\n",
       "      <td>0</td>\n",
       "      <td>0</td>\n",
       "      <td>0</td>\n",
       "      <td>0</td>\n",
       "    </tr>\n",
       "    <tr>\n",
       "      <th>3</th>\n",
       "      <td>0</td>\n",
       "      <td>0</td>\n",
       "      <td>0</td>\n",
       "      <td>0</td>\n",
       "      <td>4</td>\n",
       "      <td>0</td>\n",
       "      <td>0</td>\n",
       "      <td>0</td>\n",
       "      <td>0</td>\n",
       "      <td>0</td>\n",
       "      <td>...</td>\n",
       "      <td>0</td>\n",
       "      <td>0</td>\n",
       "      <td>0</td>\n",
       "      <td>0</td>\n",
       "      <td>0</td>\n",
       "      <td>0</td>\n",
       "      <td>0</td>\n",
       "      <td>0</td>\n",
       "      <td>0</td>\n",
       "      <td>0</td>\n",
       "    </tr>\n",
       "    <tr>\n",
       "      <th>4</th>\n",
       "      <td>0</td>\n",
       "      <td>0</td>\n",
       "      <td>0</td>\n",
       "      <td>0</td>\n",
       "      <td>0</td>\n",
       "      <td>0</td>\n",
       "      <td>0</td>\n",
       "      <td>88</td>\n",
       "      <td>201</td>\n",
       "      <td>228</td>\n",
       "      <td>...</td>\n",
       "      <td>255</td>\n",
       "      <td>135</td>\n",
       "      <td>0</td>\n",
       "      <td>0</td>\n",
       "      <td>0</td>\n",
       "      <td>0</td>\n",
       "      <td>0</td>\n",
       "      <td>0</td>\n",
       "      <td>0</td>\n",
       "      <td>0</td>\n",
       "    </tr>\n",
       "    <tr>\n",
       "      <th>5</th>\n",
       "      <td>0</td>\n",
       "      <td>0</td>\n",
       "      <td>0</td>\n",
       "      <td>0</td>\n",
       "      <td>0</td>\n",
       "      <td>47</td>\n",
       "      <td>252</td>\n",
       "      <td>234</td>\n",
       "      <td>238</td>\n",
       "      <td>224</td>\n",
       "      <td>...</td>\n",
       "      <td>231</td>\n",
       "      <td>249</td>\n",
       "      <td>254</td>\n",
       "      <td>45</td>\n",
       "      <td>0</td>\n",
       "      <td>0</td>\n",
       "      <td>0</td>\n",
       "      <td>0</td>\n",
       "      <td>0</td>\n",
       "      <td>0</td>\n",
       "    </tr>\n",
       "    <tr>\n",
       "      <th>6</th>\n",
       "      <td>0</td>\n",
       "      <td>0</td>\n",
       "      <td>1</td>\n",
       "      <td>0</td>\n",
       "      <td>0</td>\n",
       "      <td>214</td>\n",
       "      <td>222</td>\n",
       "      <td>210</td>\n",
       "      <td>213</td>\n",
       "      <td>224</td>\n",
       "      <td>...</td>\n",
       "      <td>223</td>\n",
       "      <td>221</td>\n",
       "      <td>240</td>\n",
       "      <td>254</td>\n",
       "      <td>0</td>\n",
       "      <td>0</td>\n",
       "      <td>1</td>\n",
       "      <td>0</td>\n",
       "      <td>0</td>\n",
       "      <td>0</td>\n",
       "    </tr>\n",
       "    <tr>\n",
       "      <th>7</th>\n",
       "      <td>1</td>\n",
       "      <td>0</td>\n",
       "      <td>0</td>\n",
       "      <td>0</td>\n",
       "      <td>128</td>\n",
       "      <td>237</td>\n",
       "      <td>207</td>\n",
       "      <td>224</td>\n",
       "      <td>224</td>\n",
       "      <td>207</td>\n",
       "      <td>...</td>\n",
       "      <td>213</td>\n",
       "      <td>226</td>\n",
       "      <td>211</td>\n",
       "      <td>237</td>\n",
       "      <td>150</td>\n",
       "      <td>0</td>\n",
       "      <td>0</td>\n",
       "      <td>0</td>\n",
       "      <td>0</td>\n",
       "      <td>0</td>\n",
       "    </tr>\n",
       "    <tr>\n",
       "      <th>8</th>\n",
       "      <td>0</td>\n",
       "      <td>2</td>\n",
       "      <td>0</td>\n",
       "      <td>0</td>\n",
       "      <td>237</td>\n",
       "      <td>222</td>\n",
       "      <td>215</td>\n",
       "      <td>207</td>\n",
       "      <td>210</td>\n",
       "      <td>212</td>\n",
       "      <td>...</td>\n",
       "      <td>214</td>\n",
       "      <td>206</td>\n",
       "      <td>199</td>\n",
       "      <td>218</td>\n",
       "      <td>255</td>\n",
       "      <td>13</td>\n",
       "      <td>0</td>\n",
       "      <td>2</td>\n",
       "      <td>0</td>\n",
       "      <td>0</td>\n",
       "    </tr>\n",
       "    <tr>\n",
       "      <th>9</th>\n",
       "      <td>0</td>\n",
       "      <td>4</td>\n",
       "      <td>0</td>\n",
       "      <td>85</td>\n",
       "      <td>228</td>\n",
       "      <td>210</td>\n",
       "      <td>218</td>\n",
       "      <td>200</td>\n",
       "      <td>211</td>\n",
       "      <td>208</td>\n",
       "      <td>...</td>\n",
       "      <td>210</td>\n",
       "      <td>217</td>\n",
       "      <td>206</td>\n",
       "      <td>213</td>\n",
       "      <td>231</td>\n",
       "      <td>175</td>\n",
       "      <td>0</td>\n",
       "      <td>0</td>\n",
       "      <td>0</td>\n",
       "      <td>0</td>\n",
       "    </tr>\n",
       "    <tr>\n",
       "      <th>10</th>\n",
       "      <td>0</td>\n",
       "      <td>0</td>\n",
       "      <td>0</td>\n",
       "      <td>217</td>\n",
       "      <td>224</td>\n",
       "      <td>215</td>\n",
       "      <td>206</td>\n",
       "      <td>205</td>\n",
       "      <td>204</td>\n",
       "      <td>217</td>\n",
       "      <td>...</td>\n",
       "      <td>224</td>\n",
       "      <td>207</td>\n",
       "      <td>212</td>\n",
       "      <td>215</td>\n",
       "      <td>213</td>\n",
       "      <td>229</td>\n",
       "      <td>31</td>\n",
       "      <td>0</td>\n",
       "      <td>4</td>\n",
       "      <td>0</td>\n",
       "    </tr>\n",
       "    <tr>\n",
       "      <th>11</th>\n",
       "      <td>1</td>\n",
       "      <td>0</td>\n",
       "      <td>21</td>\n",
       "      <td>225</td>\n",
       "      <td>212</td>\n",
       "      <td>212</td>\n",
       "      <td>203</td>\n",
       "      <td>211</td>\n",
       "      <td>225</td>\n",
       "      <td>193</td>\n",
       "      <td>...</td>\n",
       "      <td>197</td>\n",
       "      <td>223</td>\n",
       "      <td>207</td>\n",
       "      <td>220</td>\n",
       "      <td>213</td>\n",
       "      <td>232</td>\n",
       "      <td>177</td>\n",
       "      <td>0</td>\n",
       "      <td>0</td>\n",
       "      <td>0</td>\n",
       "    </tr>\n",
       "    <tr>\n",
       "      <th>12</th>\n",
       "      <td>0</td>\n",
       "      <td>0</td>\n",
       "      <td>123</td>\n",
       "      <td>226</td>\n",
       "      <td>207</td>\n",
       "      <td>211</td>\n",
       "      <td>209</td>\n",
       "      <td>205</td>\n",
       "      <td>228</td>\n",
       "      <td>158</td>\n",
       "      <td>...</td>\n",
       "      <td>183</td>\n",
       "      <td>226</td>\n",
       "      <td>208</td>\n",
       "      <td>214</td>\n",
       "      <td>209</td>\n",
       "      <td>216</td>\n",
       "      <td>255</td>\n",
       "      <td>13</td>\n",
       "      <td>0</td>\n",
       "      <td>1</td>\n",
       "    </tr>\n",
       "    <tr>\n",
       "      <th>13</th>\n",
       "      <td>0</td>\n",
       "      <td>0</td>\n",
       "      <td>226</td>\n",
       "      <td>219</td>\n",
       "      <td>202</td>\n",
       "      <td>208</td>\n",
       "      <td>206</td>\n",
       "      <td>205</td>\n",
       "      <td>216</td>\n",
       "      <td>184</td>\n",
       "      <td>...</td>\n",
       "      <td>200</td>\n",
       "      <td>219</td>\n",
       "      <td>216</td>\n",
       "      <td>213</td>\n",
       "      <td>213</td>\n",
       "      <td>211</td>\n",
       "      <td>233</td>\n",
       "      <td>148</td>\n",
       "      <td>0</td>\n",
       "      <td>0</td>\n",
       "    </tr>\n",
       "    <tr>\n",
       "      <th>14</th>\n",
       "      <td>0</td>\n",
       "      <td>45</td>\n",
       "      <td>227</td>\n",
       "      <td>204</td>\n",
       "      <td>214</td>\n",
       "      <td>211</td>\n",
       "      <td>218</td>\n",
       "      <td>222</td>\n",
       "      <td>221</td>\n",
       "      <td>230</td>\n",
       "      <td>...</td>\n",
       "      <td>221</td>\n",
       "      <td>224</td>\n",
       "      <td>223</td>\n",
       "      <td>217</td>\n",
       "      <td>210</td>\n",
       "      <td>218</td>\n",
       "      <td>213</td>\n",
       "      <td>254</td>\n",
       "      <td>0</td>\n",
       "      <td>0</td>\n",
       "    </tr>\n",
       "    <tr>\n",
       "      <th>15</th>\n",
       "      <td>0</td>\n",
       "      <td>157</td>\n",
       "      <td>226</td>\n",
       "      <td>203</td>\n",
       "      <td>207</td>\n",
       "      <td>211</td>\n",
       "      <td>209</td>\n",
       "      <td>215</td>\n",
       "      <td>205</td>\n",
       "      <td>198</td>\n",
       "      <td>...</td>\n",
       "      <td>207</td>\n",
       "      <td>213</td>\n",
       "      <td>214</td>\n",
       "      <td>214</td>\n",
       "      <td>214</td>\n",
       "      <td>213</td>\n",
       "      <td>208</td>\n",
       "      <td>234</td>\n",
       "      <td>107</td>\n",
       "      <td>0</td>\n",
       "    </tr>\n",
       "    <tr>\n",
       "      <th>16</th>\n",
       "      <td>0</td>\n",
       "      <td>235</td>\n",
       "      <td>213</td>\n",
       "      <td>204</td>\n",
       "      <td>211</td>\n",
       "      <td>210</td>\n",
       "      <td>209</td>\n",
       "      <td>213</td>\n",
       "      <td>202</td>\n",
       "      <td>197</td>\n",
       "      <td>...</td>\n",
       "      <td>203</td>\n",
       "      <td>211</td>\n",
       "      <td>218</td>\n",
       "      <td>215</td>\n",
       "      <td>214</td>\n",
       "      <td>208</td>\n",
       "      <td>209</td>\n",
       "      <td>222</td>\n",
       "      <td>230</td>\n",
       "      <td>0</td>\n",
       "    </tr>\n",
       "    <tr>\n",
       "      <th>17</th>\n",
       "      <td>52</td>\n",
       "      <td>255</td>\n",
       "      <td>207</td>\n",
       "      <td>200</td>\n",
       "      <td>208</td>\n",
       "      <td>213</td>\n",
       "      <td>210</td>\n",
       "      <td>210</td>\n",
       "      <td>208</td>\n",
       "      <td>207</td>\n",
       "      <td>...</td>\n",
       "      <td>212</td>\n",
       "      <td>205</td>\n",
       "      <td>215</td>\n",
       "      <td>201</td>\n",
       "      <td>228</td>\n",
       "      <td>208</td>\n",
       "      <td>214</td>\n",
       "      <td>212</td>\n",
       "      <td>218</td>\n",
       "      <td>25</td>\n",
       "    </tr>\n",
       "    <tr>\n",
       "      <th>18</th>\n",
       "      <td>118</td>\n",
       "      <td>217</td>\n",
       "      <td>201</td>\n",
       "      <td>206</td>\n",
       "      <td>208</td>\n",
       "      <td>213</td>\n",
       "      <td>208</td>\n",
       "      <td>205</td>\n",
       "      <td>206</td>\n",
       "      <td>210</td>\n",
       "      <td>...</td>\n",
       "      <td>210</td>\n",
       "      <td>210</td>\n",
       "      <td>245</td>\n",
       "      <td>139</td>\n",
       "      <td>119</td>\n",
       "      <td>255</td>\n",
       "      <td>202</td>\n",
       "      <td>203</td>\n",
       "      <td>236</td>\n",
       "      <td>114</td>\n",
       "    </tr>\n",
       "    <tr>\n",
       "      <th>19</th>\n",
       "      <td>171</td>\n",
       "      <td>238</td>\n",
       "      <td>212</td>\n",
       "      <td>203</td>\n",
       "      <td>220</td>\n",
       "      <td>216</td>\n",
       "      <td>217</td>\n",
       "      <td>209</td>\n",
       "      <td>207</td>\n",
       "      <td>205</td>\n",
       "      <td>...</td>\n",
       "      <td>210</td>\n",
       "      <td>206</td>\n",
       "      <td>221</td>\n",
       "      <td>242</td>\n",
       "      <td>0</td>\n",
       "      <td>224</td>\n",
       "      <td>234</td>\n",
       "      <td>230</td>\n",
       "      <td>181</td>\n",
       "      <td>26</td>\n",
       "    </tr>\n",
       "    <tr>\n",
       "      <th>20</th>\n",
       "      <td>39</td>\n",
       "      <td>145</td>\n",
       "      <td>201</td>\n",
       "      <td>255</td>\n",
       "      <td>157</td>\n",
       "      <td>115</td>\n",
       "      <td>250</td>\n",
       "      <td>200</td>\n",
       "      <td>207</td>\n",
       "      <td>206</td>\n",
       "      <td>...</td>\n",
       "      <td>215</td>\n",
       "      <td>207</td>\n",
       "      <td>221</td>\n",
       "      <td>238</td>\n",
       "      <td>0</td>\n",
       "      <td>0</td>\n",
       "      <td>188</td>\n",
       "      <td>85</td>\n",
       "      <td>0</td>\n",
       "      <td>0</td>\n",
       "    </tr>\n",
       "    <tr>\n",
       "      <th>21</th>\n",
       "      <td>0</td>\n",
       "      <td>0</td>\n",
       "      <td>0</td>\n",
       "      <td>31</td>\n",
       "      <td>0</td>\n",
       "      <td>129</td>\n",
       "      <td>253</td>\n",
       "      <td>190</td>\n",
       "      <td>207</td>\n",
       "      <td>208</td>\n",
       "      <td>...</td>\n",
       "      <td>212</td>\n",
       "      <td>201</td>\n",
       "      <td>226</td>\n",
       "      <td>165</td>\n",
       "      <td>0</td>\n",
       "      <td>0</td>\n",
       "      <td>0</td>\n",
       "      <td>0</td>\n",
       "      <td>0</td>\n",
       "      <td>0</td>\n",
       "    </tr>\n",
       "    <tr>\n",
       "      <th>22</th>\n",
       "      <td>2</td>\n",
       "      <td>0</td>\n",
       "      <td>0</td>\n",
       "      <td>0</td>\n",
       "      <td>0</td>\n",
       "      <td>89</td>\n",
       "      <td>254</td>\n",
       "      <td>199</td>\n",
       "      <td>199</td>\n",
       "      <td>192</td>\n",
       "      <td>...</td>\n",
       "      <td>203</td>\n",
       "      <td>200</td>\n",
       "      <td>222</td>\n",
       "      <td>155</td>\n",
       "      <td>0</td>\n",
       "      <td>3</td>\n",
       "      <td>3</td>\n",
       "      <td>3</td>\n",
       "      <td>2</td>\n",
       "      <td>0</td>\n",
       "    </tr>\n",
       "    <tr>\n",
       "      <th>23</th>\n",
       "      <td>0</td>\n",
       "      <td>0</td>\n",
       "      <td>1</td>\n",
       "      <td>5</td>\n",
       "      <td>0</td>\n",
       "      <td>0</td>\n",
       "      <td>255</td>\n",
       "      <td>218</td>\n",
       "      <td>226</td>\n",
       "      <td>232</td>\n",
       "      <td>...</td>\n",
       "      <td>220</td>\n",
       "      <td>212</td>\n",
       "      <td>236</td>\n",
       "      <td>95</td>\n",
       "      <td>0</td>\n",
       "      <td>2</td>\n",
       "      <td>0</td>\n",
       "      <td>0</td>\n",
       "      <td>0</td>\n",
       "      <td>0</td>\n",
       "    </tr>\n",
       "    <tr>\n",
       "      <th>24</th>\n",
       "      <td>0</td>\n",
       "      <td>0</td>\n",
       "      <td>0</td>\n",
       "      <td>0</td>\n",
       "      <td>0</td>\n",
       "      <td>0</td>\n",
       "      <td>155</td>\n",
       "      <td>194</td>\n",
       "      <td>168</td>\n",
       "      <td>170</td>\n",
       "      <td>...</td>\n",
       "      <td>167</td>\n",
       "      <td>161</td>\n",
       "      <td>180</td>\n",
       "      <td>0</td>\n",
       "      <td>0</td>\n",
       "      <td>1</td>\n",
       "      <td>0</td>\n",
       "      <td>1</td>\n",
       "      <td>0</td>\n",
       "      <td>0</td>\n",
       "    </tr>\n",
       "    <tr>\n",
       "      <th>25</th>\n",
       "      <td>0</td>\n",
       "      <td>0</td>\n",
       "      <td>0</td>\n",
       "      <td>0</td>\n",
       "      <td>0</td>\n",
       "      <td>0</td>\n",
       "      <td>0</td>\n",
       "      <td>0</td>\n",
       "      <td>0</td>\n",
       "      <td>0</td>\n",
       "      <td>...</td>\n",
       "      <td>0</td>\n",
       "      <td>0</td>\n",
       "      <td>0</td>\n",
       "      <td>0</td>\n",
       "      <td>0</td>\n",
       "      <td>0</td>\n",
       "      <td>0</td>\n",
       "      <td>0</td>\n",
       "      <td>0</td>\n",
       "      <td>0</td>\n",
       "    </tr>\n",
       "    <tr>\n",
       "      <th>26</th>\n",
       "      <td>0</td>\n",
       "      <td>0</td>\n",
       "      <td>0</td>\n",
       "      <td>0</td>\n",
       "      <td>0</td>\n",
       "      <td>0</td>\n",
       "      <td>0</td>\n",
       "      <td>0</td>\n",
       "      <td>0</td>\n",
       "      <td>0</td>\n",
       "      <td>...</td>\n",
       "      <td>0</td>\n",
       "      <td>0</td>\n",
       "      <td>0</td>\n",
       "      <td>0</td>\n",
       "      <td>0</td>\n",
       "      <td>0</td>\n",
       "      <td>0</td>\n",
       "      <td>0</td>\n",
       "      <td>0</td>\n",
       "      <td>0</td>\n",
       "    </tr>\n",
       "    <tr>\n",
       "      <th>27</th>\n",
       "      <td>0</td>\n",
       "      <td>0</td>\n",
       "      <td>0</td>\n",
       "      <td>0</td>\n",
       "      <td>0</td>\n",
       "      <td>0</td>\n",
       "      <td>0</td>\n",
       "      <td>0</td>\n",
       "      <td>0</td>\n",
       "      <td>0</td>\n",
       "      <td>...</td>\n",
       "      <td>0</td>\n",
       "      <td>0</td>\n",
       "      <td>0</td>\n",
       "      <td>0</td>\n",
       "      <td>0</td>\n",
       "      <td>0</td>\n",
       "      <td>0</td>\n",
       "      <td>0</td>\n",
       "      <td>0</td>\n",
       "      <td>0</td>\n",
       "    </tr>\n",
       "  </tbody>\n",
       "</table>\n",
       "<p>28 rows × 28 columns</p>\n",
       "</div>"
      ],
      "text/plain": [
       "     0    1    2    3    4    5    6    7    8    9   ...   18   19   20   21  \\\n",
       "0     0    0    0    0    0    0    0    0    0    0  ...    0    0    0    0   \n",
       "1     0    0    0    0    0    0    0    0    0    0  ...    0    0    0    0   \n",
       "2     0    0    0    0    0    0    0    0    0    0  ...    0    0    0    0   \n",
       "3     0    0    0    0    4    0    0    0    0    0  ...    0    0    0    0   \n",
       "4     0    0    0    0    0    0    0   88  201  228  ...  255  135    0    0   \n",
       "5     0    0    0    0    0   47  252  234  238  224  ...  231  249  254   45   \n",
       "6     0    0    1    0    0  214  222  210  213  224  ...  223  221  240  254   \n",
       "7     1    0    0    0  128  237  207  224  224  207  ...  213  226  211  237   \n",
       "8     0    2    0    0  237  222  215  207  210  212  ...  214  206  199  218   \n",
       "9     0    4    0   85  228  210  218  200  211  208  ...  210  217  206  213   \n",
       "10    0    0    0  217  224  215  206  205  204  217  ...  224  207  212  215   \n",
       "11    1    0   21  225  212  212  203  211  225  193  ...  197  223  207  220   \n",
       "12    0    0  123  226  207  211  209  205  228  158  ...  183  226  208  214   \n",
       "13    0    0  226  219  202  208  206  205  216  184  ...  200  219  216  213   \n",
       "14    0   45  227  204  214  211  218  222  221  230  ...  221  224  223  217   \n",
       "15    0  157  226  203  207  211  209  215  205  198  ...  207  213  214  214   \n",
       "16    0  235  213  204  211  210  209  213  202  197  ...  203  211  218  215   \n",
       "17   52  255  207  200  208  213  210  210  208  207  ...  212  205  215  201   \n",
       "18  118  217  201  206  208  213  208  205  206  210  ...  210  210  245  139   \n",
       "19  171  238  212  203  220  216  217  209  207  205  ...  210  206  221  242   \n",
       "20   39  145  201  255  157  115  250  200  207  206  ...  215  207  221  238   \n",
       "21    0    0    0   31    0  129  253  190  207  208  ...  212  201  226  165   \n",
       "22    2    0    0    0    0   89  254  199  199  192  ...  203  200  222  155   \n",
       "23    0    0    1    5    0    0  255  218  226  232  ...  220  212  236   95   \n",
       "24    0    0    0    0    0    0  155  194  168  170  ...  167  161  180    0   \n",
       "25    0    0    0    0    0    0    0    0    0    0  ...    0    0    0    0   \n",
       "26    0    0    0    0    0    0    0    0    0    0  ...    0    0    0    0   \n",
       "27    0    0    0    0    0    0    0    0    0    0  ...    0    0    0    0   \n",
       "\n",
       "     22   23   24   25   26   27  \n",
       "0     0    0    0    0    0    0  \n",
       "1     0    0    0    0    0    0  \n",
       "2     0    0    0    0    0    0  \n",
       "3     0    0    0    0    0    0  \n",
       "4     0    0    0    0    0    0  \n",
       "5     0    0    0    0    0    0  \n",
       "6     0    0    1    0    0    0  \n",
       "7   150    0    0    0    0    0  \n",
       "8   255   13    0    2    0    0  \n",
       "9   231  175    0    0    0    0  \n",
       "10  213  229   31    0    4    0  \n",
       "11  213  232  177    0    0    0  \n",
       "12  209  216  255   13    0    1  \n",
       "13  213  211  233  148    0    0  \n",
       "14  210  218  213  254    0    0  \n",
       "15  214  213  208  234  107    0  \n",
       "16  214  208  209  222  230    0  \n",
       "17  228  208  214  212  218   25  \n",
       "18  119  255  202  203  236  114  \n",
       "19    0  224  234  230  181   26  \n",
       "20    0    0  188   85    0    0  \n",
       "21    0    0    0    0    0    0  \n",
       "22    0    3    3    3    2    0  \n",
       "23    0    2    0    0    0    0  \n",
       "24    0    1    0    1    0    0  \n",
       "25    0    0    0    0    0    0  \n",
       "26    0    0    0    0    0    0  \n",
       "27    0    0    0    0    0    0  \n",
       "\n",
       "[28 rows x 28 columns]"
      ]
     },
     "execution_count": 22,
     "metadata": {},
     "output_type": "execute_result"
    }
   ],
   "source": [
    "pd.DataFrame(x_train_re[0])"
   ]
  },
  {
   "cell_type": "markdown",
   "metadata": {},
   "source": [
    "### 4.1. Visualise the article images <a class =\"anchor\" id=\"visualizeData\"></a>\n",
    "[Back to Table of Contents](#bcImp)\n",
    "\n",
    "We can inspect the first image in the training set, we can see that the pixel values fall in the range of 0 to 255:"
   ]
  },
  {
   "cell_type": "code",
   "execution_count": 23,
   "metadata": {
    "execution": {
     "iopub.execute_input": "2023-04-03T16:34:48.112087Z",
     "iopub.status.busy": "2023-04-03T16:34:48.111112Z",
     "iopub.status.idle": "2023-04-03T16:34:48.360423Z",
     "shell.execute_reply": "2023-04-03T16:34:48.359308Z",
     "shell.execute_reply.started": "2023-04-03T16:34:48.112021Z"
    }
   },
   "outputs": [
    {
     "data": {
      "image/png": "[encoded data removed]",
      "text/plain": [
       "<Figure size 500x400 with 2 Axes>"
      ]
     },
     "metadata": {},
     "output_type": "display_data"
    }
   ],
   "source": [
    "plt.figure(figsize=(5, 4))\n",
    "plt.imshow(x_train_re[0])\n",
    "plt.colorbar()\n",
    "plt.grid(False)\n",
    "plt.show()"
   ]
  },
  {
   "cell_type": "markdown",
   "metadata": {},
   "source": [
    "Our first record of training data represents a T-shirt/top."
   ]
  },
  {
   "cell_type": "markdown",
   "metadata": {},
   "source": [
    "Let's display the first 25 images of article from the training set and also display the class name below each image. This will give us the sense of data is in correct format for training our model."
   ]
  },
  {
   "cell_type": "code",
   "execution_count": null,
   "metadata": {},
   "outputs": [],
   "source": []
  },
  {
   "cell_type": "code",
   "execution_count": 26,
   "metadata": {
    "execution": {
     "iopub.execute_input": "2023-04-03T16:36:38.176558Z",
     "iopub.status.busy": "2023-04-03T16:36:38.176107Z",
     "iopub.status.idle": "2023-04-03T16:36:39.219075Z",
     "shell.execute_reply": "2023-04-03T16:36:39.217776Z",
     "shell.execute_reply.started": "2023-04-03T16:36:38.176522Z"
    }
   },
   "outputs": [],
   "source": [
    "# numbers_to_display = 25\n",
    "# num_cells = math.ceil(math.sqrt(numbers_to_display))\n",
    "# plt.figure(figsize=(10,10))\n",
    "# for i in range(numbers_to_display):\n",
    "#     plt.subplot(num_cells, num_cells, i+1)\n",
    "#     plt.xticks([])\n",
    "#     plt.yticks([])\n",
    "#     plt.grid(False)\n",
    "#     plt.imshow(x_train_re[i], cmap=plt.cm.binary)\n",
    "#     plt.xlabel(clothing_class_names[y_train[i]])\n",
    "# plt.show()"
   ]
  },
  {
   "cell_type": "markdown",
   "metadata": {},
   "source": [
    "### 4.2. Reshaping training, and testing data <a class =\"anchor\" id = \"reshapeData\"></a>\n",
    "[Back to Table of Contents](#bcImp)\n",
    "\n",
    "In order to use convolution layers we need to reshape our data and add a color channel to it. As you've noticed currently every digit has a shape of (28, 28) which means that it is a 28x28 matrix of color values form 0 to 255. We need to reshape it to (28, 28, 1) shape so that each pixel potentially may have multiple channels (like Red, Green and Blue)."
   ]
  },
  {
   "cell_type": "markdown",
   "metadata": {},
   "source": [
    "#### Reshaping training dataset"
   ]
  },
  {
   "cell_type": "code",
   "execution_count": 27,
   "metadata": {
    "execution": {
     "iopub.execute_input": "2023-04-03T16:36:43.799245Z",
     "iopub.status.busy": "2023-04-03T16:36:43.798771Z",
     "iopub.status.idle": "2023-04-03T16:36:43.806167Z",
     "shell.execute_reply": "2023-04-03T16:36:43.803980Z",
     "shell.execute_reply.started": "2023-04-03T16:36:43.799204Z"
    }
   },
   "outputs": [],
   "source": [
    "x_train_with_chanels = x_train_re.reshape(\n",
    "    x_train_re.shape[0],\n",
    "    IMAGE_WIDTH,\n",
    "    IMAGE_HEIGHT,\n",
    "    IMAGE_CHANNELS\n",
    ")"
   ]
  },
  {
   "cell_type": "code",
   "execution_count": 28,
   "metadata": {
    "execution": {
     "iopub.execute_input": "2023-04-03T16:36:48.920279Z",
     "iopub.status.busy": "2023-04-03T16:36:48.919862Z",
     "iopub.status.idle": "2023-04-03T16:36:48.927408Z",
     "shell.execute_reply": "2023-04-03T16:36:48.925918Z",
     "shell.execute_reply.started": "2023-04-03T16:36:48.920244Z"
    }
   },
   "outputs": [
    {
     "name": "stdout",
     "output_type": "stream",
     "text": [
      "Shape of the training dataset after reshape:  (36000, 28, 28, 1)\n"
     ]
    }
   ],
   "source": [
    "print('Shape of the training dataset after reshape: ', x_train_with_chanels.shape)"
   ]
  },
  {
   "cell_type": "markdown",
   "metadata": {},
   "source": [
    "#### Reshaping testing dataset"
   ]
  },
  {
   "cell_type": "code",
   "execution_count": 29,
   "metadata": {
    "execution": {
     "iopub.execute_input": "2023-04-03T16:37:25.099756Z",
     "iopub.status.busy": "2023-04-03T16:37:25.099336Z",
     "iopub.status.idle": "2023-04-03T16:37:25.105335Z",
     "shell.execute_reply": "2023-04-03T16:37:25.104134Z",
     "shell.execute_reply.started": "2023-04-03T16:37:25.099722Z"
    }
   },
   "outputs": [],
   "source": [
    "x_test_with_chanels = x_test_re.reshape(\n",
    "    x_test_re.shape[0],\n",
    "    IMAGE_WIDTH,\n",
    "    IMAGE_HEIGHT,\n",
    "    IMAGE_CHANNELS\n",
    ")"
   ]
  },
  {
   "cell_type": "code",
   "execution_count": 30,
   "metadata": {
    "execution": {
     "iopub.execute_input": "2023-04-03T16:37:27.699681Z",
     "iopub.status.busy": "2023-04-03T16:37:27.699264Z",
     "iopub.status.idle": "2023-04-03T16:37:27.705960Z",
     "shell.execute_reply": "2023-04-03T16:37:27.705096Z",
     "shell.execute_reply.started": "2023-04-03T16:37:27.699646Z"
    }
   },
   "outputs": [
    {
     "name": "stdout",
     "output_type": "stream",
     "text": [
      "Shape of the testing dataset  after reshape:  (6000, 28, 28, 1)\n"
     ]
    }
   ],
   "source": [
    "print('Shape of the testing dataset  after reshape: ', x_test_with_chanels.shape)"
   ]
  },
  {
   "cell_type": "markdown",
   "metadata": {},
   "source": [
    "### 4.3 Normalize training, and testing dataset <a class =\"anchor\" id =\"normalizeData\"></a>\n",
    "[Back to Table of Contents](#bcImp)\n",
    "\n",
    "Before feeding these values [0...255] to the neural network model, we scale them to a range of -1 to 1. We do this by dividing the values by 255.0."
   ]
  },
  {
   "cell_type": "code",
   "execution_count": 31,
   "metadata": {
    "execution": {
     "iopub.execute_input": "2023-04-03T16:37:32.996773Z",
     "iopub.status.busy": "2023-04-03T16:37:32.996349Z",
     "iopub.status.idle": "2023-04-03T16:37:33.168185Z",
     "shell.execute_reply": "2023-04-03T16:37:33.167081Z",
     "shell.execute_reply.started": "2023-04-03T16:37:32.996739Z"
    }
   },
   "outputs": [],
   "source": [
    "# Normalize image pixel values to [-1, 1] range\n",
    "x_train_normalized = x_train_with_chanels / 255.0\n",
    "x_test_normalized = x_test_with_chanels / 255.0"
   ]
  },
  {
   "cell_type": "code",
   "execution_count": 32,
   "metadata": {
    "execution": {
     "iopub.execute_input": "2023-04-03T16:37:33.671146Z",
     "iopub.status.busy": "2023-04-03T16:37:33.670696Z",
     "iopub.status.idle": "2023-04-03T16:37:33.690456Z",
     "shell.execute_reply": "2023-04-03T16:37:33.689083Z",
     "shell.execute_reply.started": "2023-04-03T16:37:33.671108Z"
    }
   },
   "outputs": [
    {
     "data": {
      "text/plain": [
       "array([[0.        , 0.        , 0.        , 0.        , 0.        ,\n",
       "        0.        , 0.        , 0.        , 0.        , 0.        ,\n",
       "        0.        , 0.        , 0.        , 0.        , 0.        ,\n",
       "        0.        , 0.        , 0.        , 0.        , 0.        ,\n",
       "        0.        , 0.        , 0.        , 0.        , 0.        ,\n",
       "        0.        , 0.        , 0.        ],\n",
       "       [0.        , 0.        , 0.        , 0.        , 0.        ,\n",
       "        0.        , 0.        , 0.        , 0.        , 0.        ,\n",
       "        0.        , 0.        , 0.        , 0.        , 0.        ,\n",
       "        0.        , 0.        , 0.        , 0.        , 0.        ,\n",
       "        0.        , 0.        , 0.        , 0.        , 0.        ,\n",
       "        0.        , 0.        , 0.        ],\n",
       "       [0.        , 0.        , 0.        , 0.        , 0.        ,\n",
       "        0.        , 0.        , 0.        , 0.        , 0.        ,\n",
       "        0.        , 0.        , 0.        , 0.        , 0.        ,\n",
       "        0.        , 0.        , 0.        , 0.        , 0.        ,\n",
       "        0.        , 0.        , 0.        , 0.        , 0.        ,\n",
       "        0.        , 0.        , 0.        ],\n",
       "       [0.        , 0.        , 0.        , 0.        , 0.01568627,\n",
       "        0.        , 0.        , 0.        , 0.        , 0.        ,\n",
       "        0.24313725, 0.23921569, 0.08235294, 0.11372549, 0.09019608,\n",
       "        0.2       , 0.53333333, 0.23921569, 0.        , 0.        ,\n",
       "        0.        , 0.        , 0.        , 0.        , 0.        ,\n",
       "        0.        , 0.        , 0.        ],\n",
       "       [0.        , 0.        , 0.        , 0.        , 0.        ,\n",
       "        0.        , 0.        , 0.34509804, 0.78823529, 0.89411765,\n",
       "        0.88235294, 1.        , 0.45098039, 0.24313725, 0.5372549 ,\n",
       "        1.        , 0.92156863, 0.87058824, 1.        , 0.52941176,\n",
       "        0.        , 0.        , 0.        , 0.        , 0.        ,\n",
       "        0.        , 0.        , 0.        ],\n",
       "       [0.        , 0.        , 0.        , 0.        , 0.        ,\n",
       "        0.18431373, 0.98823529, 0.91764706, 0.93333333, 0.87843137,\n",
       "        0.84313725, 0.84313725, 0.89803922, 0.42352941, 0.70588235,\n",
       "        0.81176471, 0.83921569, 0.87843137, 0.90588235, 0.97647059,\n",
       "        0.99607843, 0.17647059, 0.        , 0.        , 0.        ,\n",
       "        0.        , 0.        , 0.        ],\n",
       "       [0.        , 0.        , 0.00392157, 0.        , 0.        ,\n",
       "        0.83921569, 0.87058824, 0.82352941, 0.83529412, 0.87843137,\n",
       "        0.88235294, 0.85098039, 0.8627451 , 0.99607843, 0.91372549,\n",
       "        0.85882353, 0.86666667, 0.85098039, 0.8745098 , 0.86666667,\n",
       "        0.94117647, 0.99607843, 0.        , 0.        , 0.00392157,\n",
       "        0.        , 0.        , 0.        ],\n",
       "       [0.00392157, 0.        , 0.        , 0.        , 0.50196078,\n",
       "        0.92941176, 0.81176471, 0.87843137, 0.87843137, 0.81176471,\n",
       "        0.84705882, 0.83921569, 0.82352941, 0.81568627, 0.82745098,\n",
       "        0.86666667, 0.81568627, 0.85882353, 0.83529412, 0.88627451,\n",
       "        0.82745098, 0.92941176, 0.58823529, 0.        , 0.        ,\n",
       "        0.        , 0.        , 0.        ],\n",
       "       [0.        , 0.00784314, 0.        , 0.        , 0.92941176,\n",
       "        0.87058824, 0.84313725, 0.81176471, 0.82352941, 0.83137255,\n",
       "        0.83529412, 0.80784314, 0.83921569, 0.83529412, 0.83921569,\n",
       "        0.83529412, 0.82352941, 0.84313725, 0.83921569, 0.80784314,\n",
       "        0.78039216, 0.85490196, 1.        , 0.05098039, 0.        ,\n",
       "        0.00784314, 0.        , 0.        ],\n",
       "       [0.        , 0.01568627, 0.        , 0.33333333, 0.89411765,\n",
       "        0.82352941, 0.85490196, 0.78431373, 0.82745098, 0.81568627,\n",
       "        0.79607843, 0.84313725, 0.82352941, 0.81960784, 0.81960784,\n",
       "        0.82352941, 0.83529412, 0.82745098, 0.82352941, 0.85098039,\n",
       "        0.80784314, 0.83529412, 0.90588235, 0.68627451, 0.        ,\n",
       "        0.        , 0.        , 0.        ],\n",
       "       [0.        , 0.        , 0.        , 0.85098039, 0.87843137,\n",
       "        0.84313725, 0.80784314, 0.80392157, 0.8       , 0.85098039,\n",
       "        0.90196078, 0.87058824, 0.84313725, 0.87843137, 0.91372549,\n",
       "        0.89411765, 0.90980392, 0.89411765, 0.87843137, 0.81176471,\n",
       "        0.83137255, 0.84313725, 0.83529412, 0.89803922, 0.12156863,\n",
       "        0.        , 0.01568627, 0.        ],\n",
       "       [0.00392157, 0.        , 0.08235294, 0.88235294, 0.83137255,\n",
       "        0.83137255, 0.79607843, 0.82745098, 0.88235294, 0.75686275,\n",
       "        0.54509804, 0.53333333, 0.76470588, 0.57647059, 0.61176471,\n",
       "        0.54509804, 0.50196078, 0.63529412, 0.77254902, 0.8745098 ,\n",
       "        0.81176471, 0.8627451 , 0.83529412, 0.90980392, 0.69411765,\n",
       "        0.        , 0.        , 0.        ],\n",
       "       [0.        , 0.        , 0.48235294, 0.88627451, 0.81176471,\n",
       "        0.82745098, 0.81960784, 0.80392157, 0.89411765, 0.61960784,\n",
       "        0.35294118, 0.40392157, 0.72941176, 0.54117647, 0.39215686,\n",
       "        0.4745098 , 0.57647059, 0.61960784, 0.71764706, 0.88627451,\n",
       "        0.81568627, 0.83921569, 0.81960784, 0.84705882, 1.        ,\n",
       "        0.05098039, 0.        , 0.00392157],\n",
       "       [0.        , 0.        , 0.88627451, 0.85882353, 0.79215686,\n",
       "        0.81568627, 0.80784314, 0.80392157, 0.84705882, 0.72156863,\n",
       "        0.61176471, 0.58823529, 0.75686275, 0.66666667, 0.64313725,\n",
       "        0.65882353, 0.7372549 , 0.72941176, 0.78431373, 0.85882353,\n",
       "        0.84705882, 0.83529412, 0.83529412, 0.82745098, 0.91372549,\n",
       "        0.58039216, 0.        , 0.        ],\n",
       "       [0.        , 0.17647059, 0.89019608, 0.8       , 0.83921569,\n",
       "        0.82745098, 0.85490196, 0.87058824, 0.86666667, 0.90196078,\n",
       "        0.89803922, 0.86666667, 0.83529412, 0.87843137, 0.91372549,\n",
       "        0.88627451, 0.8627451 , 0.85882353, 0.86666667, 0.87843137,\n",
       "        0.8745098 , 0.85098039, 0.82352941, 0.85490196, 0.83529412,\n",
       "        0.99607843, 0.        , 0.        ],\n",
       "       [0.        , 0.61568627, 0.88627451, 0.79607843, 0.81176471,\n",
       "        0.82745098, 0.81960784, 0.84313725, 0.80392157, 0.77647059,\n",
       "        0.81176471, 0.81568627, 0.78823529, 0.78823529, 0.77254902,\n",
       "        0.79607843, 0.80392157, 0.82352941, 0.81176471, 0.83529412,\n",
       "        0.83921569, 0.83921569, 0.83921569, 0.83529412, 0.81568627,\n",
       "        0.91764706, 0.41960784, 0.        ],\n",
       "       [0.        , 0.92156863, 0.83529412, 0.8       , 0.82745098,\n",
       "        0.82352941, 0.81960784, 0.83529412, 0.79215686, 0.77254902,\n",
       "        0.8       , 0.84313725, 0.85098039, 0.83529412, 0.83137255,\n",
       "        0.82352941, 0.80784314, 0.83137255, 0.79607843, 0.82745098,\n",
       "        0.85490196, 0.84313725, 0.83921569, 0.81568627, 0.81960784,\n",
       "        0.87058824, 0.90196078, 0.        ],\n",
       "       [0.20392157, 1.        , 0.81176471, 0.78431373, 0.81568627,\n",
       "        0.83529412, 0.82352941, 0.82352941, 0.81568627, 0.81176471,\n",
       "        0.79215686, 0.78823529, 0.81960784, 0.84705882, 0.84705882,\n",
       "        0.84705882, 0.84705882, 0.83921569, 0.83137255, 0.80392157,\n",
       "        0.84313725, 0.78823529, 0.89411765, 0.81568627, 0.83921569,\n",
       "        0.83137255, 0.85490196, 0.09803922],\n",
       "       [0.4627451 , 0.85098039, 0.78823529, 0.80784314, 0.81568627,\n",
       "        0.83529412, 0.81568627, 0.80392157, 0.80784314, 0.82352941,\n",
       "        0.82745098, 0.79215686, 0.78039216, 0.81176471, 0.81568627,\n",
       "        0.81960784, 0.82352941, 0.81176471, 0.82352941, 0.82352941,\n",
       "        0.96078431, 0.54509804, 0.46666667, 1.        , 0.79215686,\n",
       "        0.79607843, 0.9254902 , 0.44705882],\n",
       "       [0.67058824, 0.93333333, 0.83137255, 0.79607843, 0.8627451 ,\n",
       "        0.84705882, 0.85098039, 0.81960784, 0.81176471, 0.80392157,\n",
       "        0.82352941, 0.82745098, 0.80784314, 0.8       , 0.80784314,\n",
       "        0.81960784, 0.82745098, 0.84313725, 0.82352941, 0.80784314,\n",
       "        0.86666667, 0.94901961, 0.        , 0.87843137, 0.91764706,\n",
       "        0.90196078, 0.70980392, 0.10196078],\n",
       "       [0.15294118, 0.56862745, 0.78823529, 1.        , 0.61568627,\n",
       "        0.45098039, 0.98039216, 0.78431373, 0.81176471, 0.80784314,\n",
       "        0.81176471, 0.83529412, 0.84705882, 0.80784314, 0.80392157,\n",
       "        0.80784314, 0.81176471, 0.80784314, 0.84313725, 0.81176471,\n",
       "        0.86666667, 0.93333333, 0.        , 0.        , 0.7372549 ,\n",
       "        0.33333333, 0.        , 0.        ],\n",
       "       [0.        , 0.        , 0.        , 0.12156863, 0.        ,\n",
       "        0.50588235, 0.99215686, 0.74509804, 0.81176471, 0.81568627,\n",
       "        0.81568627, 0.81568627, 0.81960784, 0.82745098, 0.82745098,\n",
       "        0.81960784, 0.81960784, 0.81960784, 0.83137255, 0.78823529,\n",
       "        0.88627451, 0.64705882, 0.        , 0.        , 0.        ,\n",
       "        0.        , 0.        , 0.        ],\n",
       "       [0.00784314, 0.        , 0.        , 0.        , 0.        ,\n",
       "        0.34901961, 0.99607843, 0.78039216, 0.78039216, 0.75294118,\n",
       "        0.76862745, 0.77647059, 0.78039216, 0.78823529, 0.79215686,\n",
       "        0.79607843, 0.8       , 0.79607843, 0.79607843, 0.78431373,\n",
       "        0.87058824, 0.60784314, 0.        , 0.01176471, 0.01176471,\n",
       "        0.01176471, 0.00784314, 0.        ],\n",
       "       [0.        , 0.        , 0.00392157, 0.01960784, 0.        ,\n",
       "        0.        , 1.        , 0.85490196, 0.88627451, 0.90980392,\n",
       "        0.89411765, 0.87843137, 0.87058824, 0.8627451 , 0.85882353,\n",
       "        0.85882353, 0.85098039, 0.86666667, 0.8627451 , 0.83137255,\n",
       "        0.9254902 , 0.37254902, 0.        , 0.00784314, 0.        ,\n",
       "        0.        , 0.        , 0.        ],\n",
       "       [0.        , 0.        , 0.        , 0.        , 0.        ,\n",
       "        0.        , 0.60784314, 0.76078431, 0.65882353, 0.66666667,\n",
       "        0.67058824, 0.67843137, 0.67843137, 0.70196078, 0.69411765,\n",
       "        0.68627451, 0.6745098 , 0.67058824, 0.65490196, 0.63137255,\n",
       "        0.70588235, 0.        , 0.        , 0.00392157, 0.        ,\n",
       "        0.00392157, 0.        , 0.        ],\n",
       "       [0.        , 0.        , 0.        , 0.        , 0.        ,\n",
       "        0.        , 0.        , 0.        , 0.        , 0.        ,\n",
       "        0.        , 0.        , 0.        , 0.        , 0.        ,\n",
       "        0.        , 0.        , 0.        , 0.        , 0.        ,\n",
       "        0.        , 0.        , 0.        , 0.        , 0.        ,\n",
       "        0.        , 0.        , 0.        ],\n",
       "       [0.        , 0.        , 0.        , 0.        , 0.        ,\n",
       "        0.        , 0.        , 0.        , 0.        , 0.        ,\n",
       "        0.        , 0.        , 0.        , 0.        , 0.        ,\n",
       "        0.        , 0.        , 0.        , 0.        , 0.        ,\n",
       "        0.        , 0.        , 0.        , 0.        , 0.        ,\n",
       "        0.        , 0.        , 0.        ],\n",
       "       [0.        , 0.        , 0.        , 0.        , 0.        ,\n",
       "        0.        , 0.        , 0.        , 0.        , 0.        ,\n",
       "        0.        , 0.        , 0.        , 0.        , 0.        ,\n",
       "        0.        , 0.        , 0.        , 0.        , 0.        ,\n",
       "        0.        , 0.        , 0.        , 0.        , 0.        ,\n",
       "        0.        , 0.        , 0.        ]])"
      ]
     },
     "execution_count": 32,
     "metadata": {},
     "output_type": "execute_result"
    }
   ],
   "source": [
    "# Let's check just one row from the 0th image to see values after normalization.\n",
    "x_train_normalized[0,:,:,0]"
   ]
  },
  {
   "cell_type": "markdown",
   "metadata": {},
   "source": [
    "### 5. Build the CNN model to Classify clothing images <a class = \"anchor\" id = \"modeling\"></a>\n",
    "\n",
    "\n",
    "Building the neural network requires setting up the layers of the model, then compiling the model.\n",
    "\n",
    "We are using Sequential Keras model which has two pairs of Convolution2D and MaxPooling2D layers. The MaxPooling layer acts as a sort of downsampling using max values in a region instead of averaging. After that we will use Flatten layer to convert multidimensional parameters to vector.\n",
    "\n",
    "The last layer will be a Dense layer with 10 Softmax outputs. The output represents the network guess. "
   ]
  },
  {
   "cell_type": "code",
   "execution_count": 73,
   "metadata": {
    "execution": {
     "iopub.execute_input": "2023-04-03T16:37:41.195606Z",
     "iopub.status.busy": "2023-04-03T16:37:41.195192Z",
     "iopub.status.idle": "2023-04-03T16:37:41.353568Z",
     "shell.execute_reply": "2023-04-03T16:37:41.352499Z",
     "shell.execute_reply.started": "2023-04-03T16:37:41.195567Z"
    }
   },
   "outputs": [],
   "source": [
    "import tensorflow as tf\n",
    "from tensorflow.keras.layers import Input, Flatten, Dense, Dropout\n",
    "from tensorflow.keras.applications.vgg16 import VGG16\n",
    "\n",
    "# Load the pre-trained VGG-16 model without the top layers\n",
    "base_model = VGG16(include_top=False, weights='imagenet', input_shape=(224, 224, 3))\n",
    "\n",
    "# Freeze the pre-trained layers\n",
    "for layer in base_model.layers:\n",
    "    layer.trainable = False\n",
    "\n",
    "# Add the top layers for the MNIST classification task\n",
    "x = Flatten()(base_model.output)\n",
    "x = Dense(256, activation='relu')(x)\n",
    "x = Dropout(0.5)(x)\n",
    "x = Dense(10, activation='softmax')(x)\n",
    "\n",
    "# Create the final model\n",
    "model = tf.keras.models.Model(inputs=base_model.input, outputs=x)\n",
    "\n",
    "# Compile the model\n",
    "model.compile(optimizer='adam', loss='categorical_crossentropy', metrics=['accuracy'])"
   ]
  },
  {
   "cell_type": "markdown",
   "metadata": {},
   "source": [
    "### 5.1. Summary of the training model <a class =\"anchor\" id = \"modelSummary\"></a>\n",
    "[Back to Table of Contents](#bcImp)\n",
    "\n",
    "Here is our model summary so far."
   ]
  },
  {
   "cell_type": "code",
   "execution_count": 34,
   "metadata": {
    "execution": {
     "iopub.execute_input": "2023-04-03T16:37:49.280816Z",
     "iopub.status.busy": "2023-04-03T16:37:49.279603Z",
     "iopub.status.idle": "2023-04-03T16:37:49.288201Z",
     "shell.execute_reply": "2023-04-03T16:37:49.287022Z",
     "shell.execute_reply.started": "2023-04-03T16:37:49.280764Z"
    }
   },
   "outputs": [
    {
     "name": "stdout",
     "output_type": "stream",
     "text": [
      "Model: \"sequential\"\n",
      "_________________________________________________________________\n",
      " Layer (type)                Output Shape              Param #   \n",
      "=================================================================\n",
      " conv2d (Conv2D)             (None, 24, 24, 8)         208       \n",
      "                                                                 \n",
      " max_pooling2d (MaxPooling2D  (None, 12, 12, 8)        0         \n",
      " )                                                               \n",
      "                                                                 \n",
      " conv2d_1 (Conv2D)           (None, 8, 8, 16)          3216      \n",
      "                                                                 \n",
      " max_pooling2d_1 (MaxPooling  (None, 4, 4, 16)         0         \n",
      " 2D)                                                             \n",
      "                                                                 \n",
      " flatten (Flatten)           (None, 256)               0         \n",
      "                                                                 \n",
      " dense (Dense)               (None, 128)               32896     \n",
      "                                                                 \n",
      " dropout (Dropout)           (None, 128)               0         \n",
      "                                                                 \n",
      " dense_1 (Dense)             (None, 10)                1290      \n",
      "                                                                 \n",
      "=================================================================\n",
      "Total params: 37,610\n",
      "Trainable params: 37,610\n",
      "Non-trainable params: 0\n",
      "_________________________________________________________________\n"
     ]
    }
   ],
   "source": [
    "model.summary()"
   ]
  },
  {
   "cell_type": "markdown",
   "metadata": {},
   "source": [
    "### 5.2. Visualization of the model using graphviz <a class =\"anchor\" id = \"modelplot\"></a>\n",
    "[Back to Table of Contents](#bcImp)"
   ]
  },
  {
   "cell_type": "markdown",
   "metadata": {},
   "source": [
    "In order to plot the model the graphviz should be installed."
   ]
  },
  {
   "cell_type": "code",
   "execution_count": 35,
   "metadata": {
    "execution": {
     "iopub.execute_input": "2023-04-03T16:37:53.045111Z",
     "iopub.status.busy": "2023-04-03T16:37:53.044627Z",
     "iopub.status.idle": "2023-04-03T16:37:54.166305Z",
     "shell.execute_reply": "2023-04-03T16:37:54.165150Z",
     "shell.execute_reply.started": "2023-04-03T16:37:53.045065Z"
    }
   },
   "outputs": [
    {
     "name": "stdout",
     "output_type": "stream",
     "text": [
      "You must install pydot (`pip install pydot`) and install graphviz (see instructions at https://graphviz.gitlab.io/download/) for plot_model to work.\n"
     ]
    }
   ],
   "source": [
    "tf.keras.utils.plot_model(\n",
    "    model,\n",
    "    show_shapes=True,\n",
    "    show_layer_names=True,\n",
    ")"
   ]
  },
  {
   "cell_type": "markdown",
   "metadata": {},
   "source": [
    "### 5.3 Compile the model using keras.optimizers.Adam <a class =\"anchor\" id = \"compileModel\"></a>\n",
    "[Back to Table of Contents](#bcImp)"
   ]
  },
  {
   "cell_type": "code",
   "execution_count": 38,
   "metadata": {
    "execution": {
     "iopub.execute_input": "2023-04-03T16:37:59.414039Z",
     "iopub.status.busy": "2023-04-03T16:37:59.413195Z",
     "iopub.status.idle": "2023-04-03T16:37:59.436848Z",
     "shell.execute_reply": "2023-04-03T16:37:59.435845Z",
     "shell.execute_reply.started": "2023-04-03T16:37:59.413990Z"
    }
   },
   "outputs": [],
   "source": [
    "from tensorflow.keras.optimizers import Adam\n",
    "\n",
    "model.compile(loss='categorical_crossentropy',\n",
    "              optimizer=Adam(lr=0.001),\n",
    "              metrics=['accuracy'])\n"
   ]
  },
  {
   "cell_type": "markdown",
   "metadata": {},
   "source": [
    "### 5.4 Train the model <a class =\"anchor\" id =\"trainModel\"></a>\n",
    "[Back to Table of Contents](#bcImp)\n",
    "\n"
   ]
  },
  {
   "cell_type": "code",
   "execution_count": 71,
   "metadata": {
    "execution": {
     "iopub.execute_input": "2023-04-03T16:38:02.576587Z",
     "iopub.status.busy": "2023-04-03T16:38:02.576115Z",
     "iopub.status.idle": "2023-04-03T16:40:25.925487Z",
     "shell.execute_reply": "2023-04-03T16:40:25.924010Z",
     "shell.execute_reply.started": "2023-04-03T16:38:02.576546Z"
    }
   },
   "outputs": [
    {
     "name": "stdout",
     "output_type": "stream",
     "text": [
      "Epoch 1/10\n"
     ]
    },
    {
     "ename": "ValueError",
     "evalue": "in user code:\n\n    File \"C:\\Users\\Anurag\\anaconda3\\lib\\site-packages\\keras\\engine\\training.py\", line 1284, in train_function  *\n        return step_function(self, iterator)\n    File \"C:\\Users\\Anurag\\anaconda3\\lib\\site-packages\\keras\\engine\\training.py\", line 1268, in step_function  **\n        outputs = model.distribute_strategy.run(run_step, args=(data,))\n    File \"C:\\Users\\Anurag\\anaconda3\\lib\\site-packages\\keras\\engine\\training.py\", line 1249, in run_step  **\n        outputs = model.train_step(data)\n    File \"C:\\Users\\Anurag\\anaconda3\\lib\\site-packages\\keras\\engine\\training.py\", line 1050, in train_step\n        y_pred = self(x, training=True)\n    File \"C:\\Users\\Anurag\\anaconda3\\lib\\site-packages\\keras\\utils\\traceback_utils.py\", line 70, in error_handler\n        raise e.with_traceback(filtered_tb) from None\n    File \"C:\\Users\\Anurag\\anaconda3\\lib\\site-packages\\keras\\engine\\input_spec.py\", line 298, in assert_input_compatibility\n        raise ValueError(\n\n    ValueError: Input 0 of layer \"model\" is incompatible with the layer: expected shape=(None, 224, 224, 3), found shape=(None, 28, 28, 1)\n",
     "output_type": "error",
     "traceback": [
      "\u001b[1;31m---------------------------------------------------------------------------\u001b[0m",
      "\u001b[1;31mValueError\u001b[0m                                Traceback (most recent call last)",
      "\u001b[1;32m~\\AppData\\Local\\Temp\\ipykernel_12008\\434158744.py\u001b[0m in \u001b[0;36m<module>\u001b[1;34m\u001b[0m\n\u001b[0;32m      1\u001b[0m \u001b[0mlog_dir\u001b[0m\u001b[1;33m=\u001b[0m\u001b[1;34m\".logs/fit/\"\u001b[0m \u001b[1;33m+\u001b[0m \u001b[0mdatetime\u001b[0m\u001b[1;33m.\u001b[0m\u001b[0mdatetime\u001b[0m\u001b[1;33m.\u001b[0m\u001b[0mnow\u001b[0m\u001b[1;33m(\u001b[0m\u001b[1;33m)\u001b[0m\u001b[1;33m.\u001b[0m\u001b[0mstrftime\u001b[0m\u001b[1;33m(\u001b[0m\u001b[1;34m\"%Y%m%d-%H%M%S\"\u001b[0m\u001b[1;33m)\u001b[0m\u001b[1;33m\u001b[0m\u001b[1;33m\u001b[0m\u001b[0m\n\u001b[0;32m      2\u001b[0m \u001b[0mtensorboard_callback\u001b[0m\u001b[1;33m=\u001b[0m\u001b[0mtf\u001b[0m\u001b[1;33m.\u001b[0m\u001b[0mkeras\u001b[0m\u001b[1;33m.\u001b[0m\u001b[0mcallbacks\u001b[0m\u001b[1;33m.\u001b[0m\u001b[0mTensorBoard\u001b[0m\u001b[1;33m(\u001b[0m\u001b[0mlog_dir\u001b[0m\u001b[1;33m=\u001b[0m\u001b[0mlog_dir\u001b[0m\u001b[1;33m,\u001b[0m\u001b[0mhistogram_freq\u001b[0m\u001b[1;33m=\u001b[0m\u001b[1;36m1\u001b[0m\u001b[1;33m)\u001b[0m\u001b[1;33m\u001b[0m\u001b[1;33m\u001b[0m\u001b[0m\n\u001b[1;32m----> 3\u001b[1;33m \u001b[0mtraining_history\u001b[0m\u001b[1;33m=\u001b[0m\u001b[0mmodel\u001b[0m\u001b[1;33m.\u001b[0m\u001b[0mfit\u001b[0m\u001b[1;33m(\u001b[0m\u001b[0mx_train_normalized\u001b[0m \u001b[1;33m,\u001b[0m \u001b[0my_train_re\u001b[0m\u001b[1;33m,\u001b[0m \u001b[0mbatch_size\u001b[0m\u001b[1;33m=\u001b[0m\u001b[1;36m64\u001b[0m\u001b[1;33m,\u001b[0m \u001b[0mepochs\u001b[0m\u001b[1;33m=\u001b[0m\u001b[1;36m10\u001b[0m\u001b[1;33m,\u001b[0m \u001b[0mvalidation_data\u001b[0m\u001b[1;33m=\u001b[0m\u001b[1;33m(\u001b[0m\u001b[0mx_test_normalized\u001b[0m\u001b[1;33m,\u001b[0m\u001b[0my_test_re\u001b[0m\u001b[1;33m)\u001b[0m\u001b[1;33m)\u001b[0m\u001b[1;33m\u001b[0m\u001b[1;33m\u001b[0m\u001b[0m\n\u001b[0m",
      "\u001b[1;32m~\\anaconda3\\lib\\site-packages\\keras\\utils\\traceback_utils.py\u001b[0m in \u001b[0;36merror_handler\u001b[1;34m(*args, **kwargs)\u001b[0m\n\u001b[0;32m     68\u001b[0m             \u001b[1;31m# To get the full stack trace, call:\u001b[0m\u001b[1;33m\u001b[0m\u001b[1;33m\u001b[0m\u001b[0m\n\u001b[0;32m     69\u001b[0m             \u001b[1;31m# `tf.debugging.disable_traceback_filtering()`\u001b[0m\u001b[1;33m\u001b[0m\u001b[1;33m\u001b[0m\u001b[0m\n\u001b[1;32m---> 70\u001b[1;33m             \u001b[1;32mraise\u001b[0m \u001b[0me\u001b[0m\u001b[1;33m.\u001b[0m\u001b[0mwith_traceback\u001b[0m\u001b[1;33m(\u001b[0m\u001b[0mfiltered_tb\u001b[0m\u001b[1;33m)\u001b[0m \u001b[1;32mfrom\u001b[0m \u001b[1;32mNone\u001b[0m\u001b[1;33m\u001b[0m\u001b[1;33m\u001b[0m\u001b[0m\n\u001b[0m\u001b[0;32m     71\u001b[0m         \u001b[1;32mfinally\u001b[0m\u001b[1;33m:\u001b[0m\u001b[1;33m\u001b[0m\u001b[1;33m\u001b[0m\u001b[0m\n\u001b[0;32m     72\u001b[0m             \u001b[1;32mdel\u001b[0m \u001b[0mfiltered_tb\u001b[0m\u001b[1;33m\u001b[0m\u001b[1;33m\u001b[0m\u001b[0m\n",
      "\u001b[1;32m~\\anaconda3\\lib\\site-packages\\keras\\engine\\training.py\u001b[0m in \u001b[0;36mtf__train_function\u001b[1;34m(iterator)\u001b[0m\n\u001b[0;32m     13\u001b[0m                 \u001b[1;32mtry\u001b[0m\u001b[1;33m:\u001b[0m\u001b[1;33m\u001b[0m\u001b[1;33m\u001b[0m\u001b[0m\n\u001b[0;32m     14\u001b[0m                     \u001b[0mdo_return\u001b[0m \u001b[1;33m=\u001b[0m \u001b[1;32mTrue\u001b[0m\u001b[1;33m\u001b[0m\u001b[1;33m\u001b[0m\u001b[0m\n\u001b[1;32m---> 15\u001b[1;33m                     \u001b[0mretval_\u001b[0m \u001b[1;33m=\u001b[0m \u001b[0mag__\u001b[0m\u001b[1;33m.\u001b[0m\u001b[0mconverted_call\u001b[0m\u001b[1;33m(\u001b[0m\u001b[0mag__\u001b[0m\u001b[1;33m.\u001b[0m\u001b[0mld\u001b[0m\u001b[1;33m(\u001b[0m\u001b[0mstep_function\u001b[0m\u001b[1;33m)\u001b[0m\u001b[1;33m,\u001b[0m \u001b[1;33m(\u001b[0m\u001b[0mag__\u001b[0m\u001b[1;33m.\u001b[0m\u001b[0mld\u001b[0m\u001b[1;33m(\u001b[0m\u001b[0mself\u001b[0m\u001b[1;33m)\u001b[0m\u001b[1;33m,\u001b[0m \u001b[0mag__\u001b[0m\u001b[1;33m.\u001b[0m\u001b[0mld\u001b[0m\u001b[1;33m(\u001b[0m\u001b[0miterator\u001b[0m\u001b[1;33m)\u001b[0m\u001b[1;33m)\u001b[0m\u001b[1;33m,\u001b[0m \u001b[1;32mNone\u001b[0m\u001b[1;33m,\u001b[0m \u001b[0mfscope\u001b[0m\u001b[1;33m)\u001b[0m\u001b[1;33m\u001b[0m\u001b[1;33m\u001b[0m\u001b[0m\n\u001b[0m\u001b[0;32m     16\u001b[0m                 \u001b[1;32mexcept\u001b[0m\u001b[1;33m:\u001b[0m\u001b[1;33m\u001b[0m\u001b[1;33m\u001b[0m\u001b[0m\n\u001b[0;32m     17\u001b[0m                     \u001b[0mdo_return\u001b[0m \u001b[1;33m=\u001b[0m \u001b[1;32mFalse\u001b[0m\u001b[1;33m\u001b[0m\u001b[1;33m\u001b[0m\u001b[0m\n",
      "\u001b[1;31mValueError\u001b[0m: in user code:\n\n    File \"C:\\Users\\Anurag\\anaconda3\\lib\\site-packages\\keras\\engine\\training.py\", line 1284, in train_function  *\n        return step_function(self, iterator)\n    File \"C:\\Users\\Anurag\\anaconda3\\lib\\site-packages\\keras\\engine\\training.py\", line 1268, in step_function  **\n        outputs = model.distribute_strategy.run(run_step, args=(data,))\n    File \"C:\\Users\\Anurag\\anaconda3\\lib\\site-packages\\keras\\engine\\training.py\", line 1249, in run_step  **\n        outputs = model.train_step(data)\n    File \"C:\\Users\\Anurag\\anaconda3\\lib\\site-packages\\keras\\engine\\training.py\", line 1050, in train_step\n        y_pred = self(x, training=True)\n    File \"C:\\Users\\Anurag\\anaconda3\\lib\\site-packages\\keras\\utils\\traceback_utils.py\", line 70, in error_handler\n        raise e.with_traceback(filtered_tb) from None\n    File \"C:\\Users\\Anurag\\anaconda3\\lib\\site-packages\\keras\\engine\\input_spec.py\", line 298, in assert_input_compatibility\n        raise ValueError(\n\n    ValueError: Input 0 of layer \"model\" is incompatible with the layer: expected shape=(None, 224, 224, 3), found shape=(None, 28, 28, 1)\n"
     ]
    }
   ],
   "source": [
    "log_dir=\".logs/fit/\" + datetime.datetime.now().strftime(\"%Y%m%d-%H%M%S\")\n",
    "tensorboard_callback=tf.keras.callbacks.TensorBoard(log_dir=log_dir,histogram_freq=1)\n",
    "training_history=model.fit(x_train_normalized , y_train_re, batch_size=64, epochs=10, validation_data=(x_test_normalized,y_test_re))"
   ]
  },
  {
   "cell_type": "markdown",
   "metadata": {},
   "source": [
    "### In summary<a class =\"anchor\" id =\"modelBuildSummary\"></a>\n",
    "[Back to Table of Contents](#bcImp)"
   ]
  },
  {
   "cell_type": "markdown",
   "metadata": {},
   "source": [
    "### 6. Model evaluation<a class =\"anchor\" id =\"modelEvaluation\"></a>\n",
    "[Back to Table of Contents](#bcImp1)"
   ]
  },
  {
   "cell_type": "markdown",
   "metadata": {},
   "source": [
    "### 6.1 Loss plot curve for training and testing<a class=\"anchor\" id =\"lossPlot\"><a/>\n",
    "[Back to Table of Contents](#bcImp1)\n",
    "    \n",
    "Let's see how the loss function was changing during the training. We expect it to get smaller and smaller on every next epoch."
   ]
  },
  {
   "cell_type": "code",
   "execution_count": 40,
   "metadata": {
    "execution": {
     "iopub.execute_input": "2023-04-03T16:40:25.928338Z",
     "iopub.status.busy": "2023-04-03T16:40:25.927908Z",
     "iopub.status.idle": "2023-04-03T16:40:26.151766Z",
     "shell.execute_reply": "2023-04-03T16:40:26.150200Z",
     "shell.execute_reply.started": "2023-04-03T16:40:25.928301Z"
    }
   },
   "outputs": [
    {
     "data": {
      "text/plain": [
       "<matplotlib.legend.Legend at 0x2a0c7277430>"
      ]
     },
     "execution_count": 40,
     "metadata": {},
     "output_type": "execute_result"
    },
    {
     "data": {
      "image/png": "[encoded data removed]",
      "text/plain": [
       "<Figure size 640x480 with 1 Axes>"
      ]
     },
     "metadata": {},
     "output_type": "display_data"
    }
   ],
   "source": [
    "plt.xlabel('Epoch Number')\n",
    "plt.ylabel('Accuracy')\n",
    "plt.plot(training_history.history['loss'], label='training set')\n",
    "plt.plot(training_history.history['val_loss'], label='testing set')\n",
    "plt.legend()"
   ]
  },
  {
   "cell_type": "markdown",
   "metadata": {},
   "source": [
    "### 6.2. Accuracy plot curve for training and testing<a class=\"anchor\" id =\"accuracyPlot\"><a/>\n",
    "[Back to Table of Contents](#bcImp1)"
   ]
  },
  {
   "cell_type": "code",
   "execution_count": 41,
   "metadata": {
    "execution": {
     "iopub.execute_input": "2023-04-03T16:40:26.154012Z",
     "iopub.status.busy": "2023-04-03T16:40:26.153609Z",
     "iopub.status.idle": "2023-04-03T16:40:26.371028Z",
     "shell.execute_reply": "2023-04-03T16:40:26.370117Z",
     "shell.execute_reply.started": "2023-04-03T16:40:26.153979Z"
    }
   },
   "outputs": [
    {
     "data": {
      "text/plain": [
       "<matplotlib.legend.Legend at 0x2a0c72e1c40>"
      ]
     },
     "execution_count": 41,
     "metadata": {},
     "output_type": "execute_result"
    },
    {
     "data": {
      "image/png": "[encoded data removed]",
      "text/plain": [
       "<Figure size 640x480 with 1 Axes>"
      ]
     },
     "metadata": {},
     "output_type": "display_data"
    }
   ],
   "source": [
    "plt.xlabel('Epoch Number')\n",
    "plt.ylabel('Accuracy')\n",
    "plt.plot(training_history.history['accuracy'], label='training set')\n",
    "plt.plot(training_history.history['val_accuracy'], label='testing set')\n",
    "plt.legend()"
   ]
  },
  {
   "cell_type": "markdown",
   "metadata": {},
   "source": [
    "### 6.3. Evaluation of the model accuracy<a class =\"anchor\" id =\"accuracyEvaluation\"></a>\n",
    "[Back to Table of Contents](#bcImp1)\n",
    "\n",
    "We need to compare the accuracy of our model on training set and on test set. We expect our model to perform similarly on both sets. If the performance on a test set will be poor comparing to a training set it would be an indicator for us that the model is overfitted and we have a \"high variance\" issue."
   ]
  },
  {
   "cell_type": "markdown",
   "metadata": {},
   "source": [
    "### 6.3.1 Performance of training dataset <a class =\"anchor\" id =\"perfTrain\"></a>\n",
    "[Back to Table of Contents](#bcImp1)"
   ]
  },
  {
   "cell_type": "code",
   "execution_count": 42,
   "metadata": {
    "execution": {
     "iopub.execute_input": "2023-04-03T16:40:26.374111Z",
     "iopub.status.busy": "2023-04-03T16:40:26.372969Z",
     "iopub.status.idle": "2023-04-03T16:40:31.944383Z",
     "shell.execute_reply": "2023-04-03T16:40:31.943352Z",
     "shell.execute_reply.started": "2023-04-03T16:40:26.374038Z"
    }
   },
   "outputs": [],
   "source": [
    "%%capture\n",
    "train_loss, train_accuracy = model.evaluate(x_train_normalized, y_train_re)"
   ]
  },
  {
   "cell_type": "code",
   "execution_count": 43,
   "metadata": {
    "execution": {
     "iopub.execute_input": "2023-04-03T16:40:31.947181Z",
     "iopub.status.busy": "2023-04-03T16:40:31.945939Z",
     "iopub.status.idle": "2023-04-03T16:40:31.954121Z",
     "shell.execute_reply": "2023-04-03T16:40:31.952790Z",
     "shell.execute_reply.started": "2023-04-03T16:40:31.947131Z"
    }
   },
   "outputs": [
    {
     "name": "stdout",
     "output_type": "stream",
     "text": [
      "Train loss:  0.24954839050769806\n",
      "Train accuracy:  0.9058055281639099\n"
     ]
    }
   ],
   "source": [
    "print('Train loss: ', train_loss)\n",
    "print('Train accuracy: ', train_accuracy)"
   ]
  },
  {
   "cell_type": "markdown",
   "metadata": {},
   "source": [
    "### 6.3.2. Performance of the test dataset <a class =\"anchor\" id =\"perfValidation\"></a>\n",
    "[Back to Table of Contents](#bcImp1)"
   ]
  },
  {
   "cell_type": "code",
   "execution_count": 44,
   "metadata": {
    "execution": {
     "iopub.execute_input": "2023-04-03T16:40:36.082349Z",
     "iopub.status.busy": "2023-04-03T16:40:36.081886Z",
     "iopub.status.idle": "2023-04-03T16:40:36.940739Z",
     "shell.execute_reply": "2023-04-03T16:40:36.939328Z",
     "shell.execute_reply.started": "2023-04-03T16:40:36.082307Z"
    }
   },
   "outputs": [],
   "source": [
    "%%capture\n",
    "validation_loss, validation_accuracy = model.evaluate(x_test_normalized, y_test_re)"
   ]
  },
  {
   "cell_type": "code",
   "execution_count": 45,
   "metadata": {
    "execution": {
     "iopub.execute_input": "2023-04-03T16:40:36.944224Z",
     "iopub.status.busy": "2023-04-03T16:40:36.943083Z",
     "iopub.status.idle": "2023-04-03T16:40:36.951186Z",
     "shell.execute_reply": "2023-04-03T16:40:36.949633Z",
     "shell.execute_reply.started": "2023-04-03T16:40:36.944176Z"
    }
   },
   "outputs": [
    {
     "name": "stdout",
     "output_type": "stream",
     "text": [
      "Testing loss:  0.3509289026260376\n",
      "Testing accuracy:  0.871666669845581\n"
     ]
    }
   ],
   "source": [
    "print('Testing loss: ', validation_loss)\n",
    "print('Testing accuracy: ', validation_accuracy)"
   ]
  },
  {
   "cell_type": "markdown",
   "metadata": {},
   "source": [
    "### 6.3.3. Save and load the model<a class =\"anchor\" id =\"saveModel\"></a>\n",
    "[Back to Table of Contents](#bcImp1)\n",
    "\n",
    "We will save the entire model to a HDF5 file. The .h5 extension of the file indicates that the model shuold be saved in Keras format as HDF5 file. To use this model on the front-end we will convert it (later in this notebook) to Javascript understandable format (tfjs_layers_model with .json and .bin files) using tensorflowjs_converter."
   ]
  },
  {
   "cell_type": "code",
   "execution_count": 46,
   "metadata": {
    "execution": {
     "iopub.execute_input": "2023-04-03T16:40:42.107578Z",
     "iopub.status.busy": "2023-04-03T16:40:42.107141Z",
     "iopub.status.idle": "2023-04-03T16:40:42.147889Z",
     "shell.execute_reply": "2023-04-03T16:40:42.146706Z",
     "shell.execute_reply.started": "2023-04-03T16:40:42.107533Z"
    }
   },
   "outputs": [],
   "source": [
    "model_name = 'fashion_mnist_cnn.h5'\n",
    "model.save(model_name, save_format='h5')"
   ]
  },
  {
   "cell_type": "code",
   "execution_count": 47,
   "metadata": {
    "execution": {
     "iopub.execute_input": "2023-04-03T16:40:42.324203Z",
     "iopub.status.busy": "2023-04-03T16:40:42.322974Z",
     "iopub.status.idle": "2023-04-03T16:40:42.431451Z",
     "shell.execute_reply": "2023-04-03T16:40:42.430347Z",
     "shell.execute_reply.started": "2023-04-03T16:40:42.324154Z"
    }
   },
   "outputs": [],
   "source": [
    "loaded_model = tf.keras.models.load_model(model_name)"
   ]
  },
  {
   "cell_type": "markdown",
   "metadata": {},
   "source": [
    "### 6.3.4. Visualize test predicted image category<a class =\"anchor\" id =\"visualizevalidation\"></a>\n",
    "[Back to Table of Contents](#bcImp1)"
   ]
  },
  {
   "cell_type": "markdown",
   "metadata": {},
   "source": [
    "To use the model that we've just trained for image classification we need to call predict() method."
   ]
  },
  {
   "cell_type": "code",
   "execution_count": 48,
   "metadata": {
    "execution": {
     "iopub.execute_input": "2023-04-03T16:40:46.719357Z",
     "iopub.status.busy": "2023-04-03T16:40:46.718851Z",
     "iopub.status.idle": "2023-04-03T16:40:47.483180Z",
     "shell.execute_reply": "2023-04-03T16:40:47.481770Z",
     "shell.execute_reply.started": "2023-04-03T16:40:46.719318Z"
    }
   },
   "outputs": [
    {
     "name": "stdout",
     "output_type": "stream",
     "text": [
      "188/188 [==============================] - 1s 7ms/step\n"
     ]
    }
   ],
   "source": [
    "predictions_one_hot = loaded_model.predict([x_test_normalized])"
   ]
  },
  {
   "cell_type": "code",
   "execution_count": 49,
   "metadata": {
    "execution": {
     "iopub.execute_input": "2023-04-03T16:40:47.486105Z",
     "iopub.status.busy": "2023-04-03T16:40:47.485576Z",
     "iopub.status.idle": "2023-04-03T16:40:47.494745Z",
     "shell.execute_reply": "2023-04-03T16:40:47.493646Z",
     "shell.execute_reply.started": "2023-04-03T16:40:47.486021Z"
    }
   },
   "outputs": [
    {
     "data": {
      "text/plain": [
       "array([9.9764878e-01, 1.4448908e-08, 9.8686578e-05, 5.1498814e-06,\n",
       "       2.1151989e-06, 1.6758336e-16, 2.2452963e-03, 1.1805321e-16,\n",
       "       1.0252493e-16, 5.2756593e-17], dtype=float32)"
      ]
     },
     "execution_count": 49,
     "metadata": {},
     "output_type": "execute_result"
    }
   ],
   "source": [
    "predictions_one_hot[0]"
   ]
  },
  {
   "cell_type": "code",
   "execution_count": 50,
   "metadata": {
    "execution": {
     "iopub.execute_input": "2023-04-03T16:40:50.355102Z",
     "iopub.status.busy": "2023-04-03T16:40:50.354339Z",
     "iopub.status.idle": "2023-04-03T16:40:50.360620Z",
     "shell.execute_reply": "2023-04-03T16:40:50.359488Z",
     "shell.execute_reply.started": "2023-04-03T16:40:50.355055Z"
    }
   },
   "outputs": [
    {
     "name": "stdout",
     "output_type": "stream",
     "text": [
      "predictions_one_hot: (6000, 10)\n"
     ]
    }
   ],
   "source": [
    "print('predictions_one_hot:', predictions_one_hot.shape)"
   ]
  },
  {
   "cell_type": "markdown",
   "metadata": {},
   "source": [
    "Each prediction consists of 10 probabilities (one for each number from 0 to 9). We need to pick the image number with the highest probability since this would be an image that our model most confident with."
   ]
  },
  {
   "cell_type": "code",
   "execution_count": 51,
   "metadata": {
    "execution": {
     "iopub.execute_input": "2023-04-03T16:40:53.882980Z",
     "iopub.status.busy": "2023-04-03T16:40:53.882141Z",
     "iopub.status.idle": "2023-04-03T16:40:53.911006Z",
     "shell.execute_reply": "2023-04-03T16:40:53.909637Z",
     "shell.execute_reply.started": "2023-04-03T16:40:53.882933Z"
    }
   },
   "outputs": [
    {
     "data": {
      "text/html": [
       "<div>\n",
       "<style scoped>\n",
       "    .dataframe tbody tr th:only-of-type {\n",
       "        vertical-align: middle;\n",
       "    }\n",
       "\n",
       "    .dataframe tbody tr th {\n",
       "        vertical-align: top;\n",
       "    }\n",
       "\n",
       "    .dataframe thead th {\n",
       "        text-align: right;\n",
       "    }\n",
       "</style>\n",
       "<table border=\"1\" class=\"dataframe\">\n",
       "  <thead>\n",
       "    <tr style=\"text-align: right;\">\n",
       "      <th></th>\n",
       "      <th>0</th>\n",
       "      <th>1</th>\n",
       "      <th>2</th>\n",
       "      <th>3</th>\n",
       "      <th>4</th>\n",
       "      <th>5</th>\n",
       "      <th>6</th>\n",
       "      <th>7</th>\n",
       "      <th>8</th>\n",
       "      <th>9</th>\n",
       "    </tr>\n",
       "  </thead>\n",
       "  <tbody>\n",
       "    <tr>\n",
       "      <th>0</th>\n",
       "      <td>9.976488e-01</td>\n",
       "      <td>1.444891e-08</td>\n",
       "      <td>9.868658e-05</td>\n",
       "      <td>5.149881e-06</td>\n",
       "      <td>2.115199e-06</td>\n",
       "      <td>1.675834e-16</td>\n",
       "      <td>2.245296e-03</td>\n",
       "      <td>1.180532e-16</td>\n",
       "      <td>1.025249e-16</td>\n",
       "      <td>5.275659e-17</td>\n",
       "    </tr>\n",
       "    <tr>\n",
       "      <th>1</th>\n",
       "      <td>1.560878e-09</td>\n",
       "      <td>1.000000e+00</td>\n",
       "      <td>6.965840e-13</td>\n",
       "      <td>2.532545e-10</td>\n",
       "      <td>1.487884e-09</td>\n",
       "      <td>1.061703e-32</td>\n",
       "      <td>2.367995e-11</td>\n",
       "      <td>2.044139e-31</td>\n",
       "      <td>2.726578e-31</td>\n",
       "      <td>3.137660e-32</td>\n",
       "    </tr>\n",
       "    <tr>\n",
       "      <th>2</th>\n",
       "      <td>6.769397e-03</td>\n",
       "      <td>1.213045e-07</td>\n",
       "      <td>8.140874e-01</td>\n",
       "      <td>1.718366e-03</td>\n",
       "      <td>1.836351e-03</td>\n",
       "      <td>1.256505e-13</td>\n",
       "      <td>1.755884e-01</td>\n",
       "      <td>2.074854e-13</td>\n",
       "      <td>2.100778e-13</td>\n",
       "      <td>2.246090e-13</td>\n",
       "    </tr>\n",
       "    <tr>\n",
       "      <th>3</th>\n",
       "      <td>4.208229e-01</td>\n",
       "      <td>1.324705e-02</td>\n",
       "      <td>2.982043e-01</td>\n",
       "      <td>5.020889e-03</td>\n",
       "      <td>1.078283e-01</td>\n",
       "      <td>9.332536e-12</td>\n",
       "      <td>1.548765e-01</td>\n",
       "      <td>1.694652e-11</td>\n",
       "      <td>1.166911e-11</td>\n",
       "      <td>2.754293e-11</td>\n",
       "    </tr>\n",
       "    <tr>\n",
       "      <th>4</th>\n",
       "      <td>8.234737e-02</td>\n",
       "      <td>4.433460e-06</td>\n",
       "      <td>2.792153e-02</td>\n",
       "      <td>6.631580e-01</td>\n",
       "      <td>6.112417e-02</td>\n",
       "      <td>4.743435e-13</td>\n",
       "      <td>1.654444e-01</td>\n",
       "      <td>5.703784e-13</td>\n",
       "      <td>5.707734e-13</td>\n",
       "      <td>4.646652e-13</td>\n",
       "    </tr>\n",
       "    <tr>\n",
       "      <th>...</th>\n",
       "      <td>...</td>\n",
       "      <td>...</td>\n",
       "      <td>...</td>\n",
       "      <td>...</td>\n",
       "      <td>...</td>\n",
       "      <td>...</td>\n",
       "      <td>...</td>\n",
       "      <td>...</td>\n",
       "      <td>...</td>\n",
       "      <td>...</td>\n",
       "    </tr>\n",
       "    <tr>\n",
       "      <th>5995</th>\n",
       "      <td>1.321180e-05</td>\n",
       "      <td>9.768809e-07</td>\n",
       "      <td>4.145301e-04</td>\n",
       "      <td>1.002959e-04</td>\n",
       "      <td>9.992901e-01</td>\n",
       "      <td>7.835926e-15</td>\n",
       "      <td>1.808873e-04</td>\n",
       "      <td>2.236547e-14</td>\n",
       "      <td>3.158955e-15</td>\n",
       "      <td>4.077432e-15</td>\n",
       "    </tr>\n",
       "    <tr>\n",
       "      <th>5996</th>\n",
       "      <td>9.870451e-01</td>\n",
       "      <td>5.232736e-09</td>\n",
       "      <td>2.323981e-03</td>\n",
       "      <td>2.373633e-06</td>\n",
       "      <td>1.094172e-04</td>\n",
       "      <td>1.211198e-18</td>\n",
       "      <td>1.051921e-02</td>\n",
       "      <td>4.469691e-19</td>\n",
       "      <td>2.996496e-19</td>\n",
       "      <td>1.772104e-19</td>\n",
       "    </tr>\n",
       "    <tr>\n",
       "      <th>5997</th>\n",
       "      <td>9.679089e-01</td>\n",
       "      <td>2.137685e-05</td>\n",
       "      <td>1.827196e-04</td>\n",
       "      <td>9.872885e-04</td>\n",
       "      <td>8.665769e-05</td>\n",
       "      <td>9.258030e-14</td>\n",
       "      <td>3.081308e-02</td>\n",
       "      <td>1.389904e-13</td>\n",
       "      <td>6.829009e-14</td>\n",
       "      <td>4.441594e-14</td>\n",
       "    </tr>\n",
       "    <tr>\n",
       "      <th>5998</th>\n",
       "      <td>2.368862e-03</td>\n",
       "      <td>9.260125e-07</td>\n",
       "      <td>2.486355e-01</td>\n",
       "      <td>1.287340e-02</td>\n",
       "      <td>1.160666e-01</td>\n",
       "      <td>6.764764e-12</td>\n",
       "      <td>6.200548e-01</td>\n",
       "      <td>1.211423e-11</td>\n",
       "      <td>9.991876e-12</td>\n",
       "      <td>9.718766e-12</td>\n",
       "    </tr>\n",
       "    <tr>\n",
       "      <th>5999</th>\n",
       "      <td>1.506964e-02</td>\n",
       "      <td>8.261697e-01</td>\n",
       "      <td>9.475474e-03</td>\n",
       "      <td>9.782834e-02</td>\n",
       "      <td>2.105965e-02</td>\n",
       "      <td>1.976428e-10</td>\n",
       "      <td>3.039716e-02</td>\n",
       "      <td>2.773677e-10</td>\n",
       "      <td>2.234565e-10</td>\n",
       "      <td>7.351503e-11</td>\n",
       "    </tr>\n",
       "  </tbody>\n",
       "</table>\n",
       "<p>6000 rows × 10 columns</p>\n",
       "</div>"
      ],
      "text/plain": [
       "                 0             1             2             3             4  \\\n",
       "0     9.976488e-01  1.444891e-08  9.868658e-05  5.149881e-06  2.115199e-06   \n",
       "1     1.560878e-09  1.000000e+00  6.965840e-13  2.532545e-10  1.487884e-09   \n",
       "2     6.769397e-03  1.213045e-07  8.140874e-01  1.718366e-03  1.836351e-03   \n",
       "3     4.208229e-01  1.324705e-02  2.982043e-01  5.020889e-03  1.078283e-01   \n",
       "4     8.234737e-02  4.433460e-06  2.792153e-02  6.631580e-01  6.112417e-02   \n",
       "...            ...           ...           ...           ...           ...   \n",
       "5995  1.321180e-05  9.768809e-07  4.145301e-04  1.002959e-04  9.992901e-01   \n",
       "5996  9.870451e-01  5.232736e-09  2.323981e-03  2.373633e-06  1.094172e-04   \n",
       "5997  9.679089e-01  2.137685e-05  1.827196e-04  9.872885e-04  8.665769e-05   \n",
       "5998  2.368862e-03  9.260125e-07  2.486355e-01  1.287340e-02  1.160666e-01   \n",
       "5999  1.506964e-02  8.261697e-01  9.475474e-03  9.782834e-02  2.105965e-02   \n",
       "\n",
       "                 5             6             7             8             9  \n",
       "0     1.675834e-16  2.245296e-03  1.180532e-16  1.025249e-16  5.275659e-17  \n",
       "1     1.061703e-32  2.367995e-11  2.044139e-31  2.726578e-31  3.137660e-32  \n",
       "2     1.256505e-13  1.755884e-01  2.074854e-13  2.100778e-13  2.246090e-13  \n",
       "3     9.332536e-12  1.548765e-01  1.694652e-11  1.166911e-11  2.754293e-11  \n",
       "4     4.743435e-13  1.654444e-01  5.703784e-13  5.707734e-13  4.646652e-13  \n",
       "...            ...           ...           ...           ...           ...  \n",
       "5995  7.835926e-15  1.808873e-04  2.236547e-14  3.158955e-15  4.077432e-15  \n",
       "5996  1.211198e-18  1.051921e-02  4.469691e-19  2.996496e-19  1.772104e-19  \n",
       "5997  9.258030e-14  3.081308e-02  1.389904e-13  6.829009e-14  4.441594e-14  \n",
       "5998  6.764764e-12  6.200548e-01  1.211423e-11  9.991876e-12  9.718766e-12  \n",
       "5999  1.976428e-10  3.039716e-02  2.773677e-10  2.234565e-10  7.351503e-11  \n",
       "\n",
       "[6000 rows x 10 columns]"
      ]
     },
     "execution_count": 51,
     "metadata": {},
     "output_type": "execute_result"
    }
   ],
   "source": [
    "# Predictions in form of one-hot vectors (arrays of probabilities).\n",
    "pd.DataFrame(predictions_one_hot)"
   ]
  },
  {
   "cell_type": "code",
   "execution_count": 52,
   "metadata": {
    "execution": {
     "iopub.execute_input": "2023-04-03T16:40:54.097103Z",
     "iopub.status.busy": "2023-04-03T16:40:54.095855Z",
     "iopub.status.idle": "2023-04-03T16:40:54.109791Z",
     "shell.execute_reply": "2023-04-03T16:40:54.108151Z",
     "shell.execute_reply.started": "2023-04-03T16:40:54.097032Z"
    }
   },
   "outputs": [
    {
     "data": {
      "text/html": [
       "<div>\n",
       "<style scoped>\n",
       "    .dataframe tbody tr th:only-of-type {\n",
       "        vertical-align: middle;\n",
       "    }\n",
       "\n",
       "    .dataframe tbody tr th {\n",
       "        vertical-align: top;\n",
       "    }\n",
       "\n",
       "    .dataframe thead th {\n",
       "        text-align: right;\n",
       "    }\n",
       "</style>\n",
       "<table border=\"1\" class=\"dataframe\">\n",
       "  <thead>\n",
       "    <tr style=\"text-align: right;\">\n",
       "      <th></th>\n",
       "      <th>0</th>\n",
       "    </tr>\n",
       "  </thead>\n",
       "  <tbody>\n",
       "    <tr>\n",
       "      <th>0</th>\n",
       "      <td>0</td>\n",
       "    </tr>\n",
       "    <tr>\n",
       "      <th>1</th>\n",
       "      <td>1</td>\n",
       "    </tr>\n",
       "    <tr>\n",
       "      <th>2</th>\n",
       "      <td>2</td>\n",
       "    </tr>\n",
       "    <tr>\n",
       "      <th>3</th>\n",
       "      <td>0</td>\n",
       "    </tr>\n",
       "    <tr>\n",
       "      <th>4</th>\n",
       "      <td>3</td>\n",
       "    </tr>\n",
       "    <tr>\n",
       "      <th>...</th>\n",
       "      <td>...</td>\n",
       "    </tr>\n",
       "    <tr>\n",
       "      <th>5995</th>\n",
       "      <td>4</td>\n",
       "    </tr>\n",
       "    <tr>\n",
       "      <th>5996</th>\n",
       "      <td>0</td>\n",
       "    </tr>\n",
       "    <tr>\n",
       "      <th>5997</th>\n",
       "      <td>0</td>\n",
       "    </tr>\n",
       "    <tr>\n",
       "      <th>5998</th>\n",
       "      <td>6</td>\n",
       "    </tr>\n",
       "    <tr>\n",
       "      <th>5999</th>\n",
       "      <td>1</td>\n",
       "    </tr>\n",
       "  </tbody>\n",
       "</table>\n",
       "<p>6000 rows × 1 columns</p>\n",
       "</div>"
      ],
      "text/plain": [
       "      0\n",
       "0     0\n",
       "1     1\n",
       "2     2\n",
       "3     0\n",
       "4     3\n",
       "...  ..\n",
       "5995  4\n",
       "5996  0\n",
       "5997  0\n",
       "5998  6\n",
       "5999  1\n",
       "\n",
       "[6000 rows x 1 columns]"
      ]
     },
     "execution_count": 52,
     "metadata": {},
     "output_type": "execute_result"
    }
   ],
   "source": [
    "# Let's extract predictions with highest probabilites and detect what digits have been actually recognized.\n",
    "predictions = np.argmax(predictions_one_hot, axis=1)\n",
    "pd.DataFrame(predictions)"
   ]
  },
  {
   "cell_type": "code",
   "execution_count": 53,
   "metadata": {
    "execution": {
     "iopub.execute_input": "2023-04-03T16:40:54.606144Z",
     "iopub.status.busy": "2023-04-03T16:40:54.605695Z",
     "iopub.status.idle": "2023-04-03T16:40:54.612441Z",
     "shell.execute_reply": "2023-04-03T16:40:54.611378Z",
     "shell.execute_reply.started": "2023-04-03T16:40:54.606106Z"
    }
   },
   "outputs": [
    {
     "name": "stdout",
     "output_type": "stream",
     "text": [
      "0\n",
      "T-shirt/top\n"
     ]
    }
   ],
   "source": [
    "print(predictions[0])\n",
    "print(clothing_class_names[predictions[0]])"
   ]
  },
  {
   "cell_type": "code",
   "execution_count": 54,
   "metadata": {
    "execution": {
     "iopub.execute_input": "2023-04-03T16:40:57.168503Z",
     "iopub.status.busy": "2023-04-03T16:40:57.167152Z",
     "iopub.status.idle": "2023-04-03T16:40:57.177006Z",
     "shell.execute_reply": "2023-04-03T16:40:57.175821Z",
     "shell.execute_reply.started": "2023-04-03T16:40:57.168456Z"
    }
   },
   "outputs": [],
   "source": [
    "def plot_image(i, predictions_array, true_label, img):\n",
    "  predictions_array, true_label, img = predictions_array[i], true_label[i], img[i]\n",
    "  plt.grid(False)\n",
    "  plt.xticks([])\n",
    "  plt.yticks([])\n",
    "  \n",
    "  plt.imshow(img, cmap=plt.cm.binary)\n",
    "\n",
    "  predicted_label = np.argmax(predictions_array)\n",
    "  if predicted_label == true_label:\n",
    "    color = 'blue'\n",
    "  else:\n",
    "    color = 'red'\n",
    "  \n",
    "  plt.xlabel(\"{} {:2.0f}% ({})\".format(clothing_class_names[predicted_label],\n",
    "                                100*np.max(predictions_array),\n",
    "                                clothing_class_names[true_label]),\n",
    "                                color=color)"
   ]
  },
  {
   "cell_type": "code",
   "execution_count": 55,
   "metadata": {
    "execution": {
     "iopub.execute_input": "2023-04-03T16:40:57.499152Z",
     "iopub.status.busy": "2023-04-03T16:40:57.498253Z",
     "iopub.status.idle": "2023-04-03T16:40:57.580363Z",
     "shell.execute_reply": "2023-04-03T16:40:57.578814Z",
     "shell.execute_reply.started": "2023-04-03T16:40:57.499094Z"
    }
   },
   "outputs": [
    {
     "data": {
      "image/png": "[encoded data removed]",
      "text/plain": [
       "<Figure size 600x300 with 1 Axes>"
      ]
     },
     "metadata": {},
     "output_type": "display_data"
    }
   ],
   "source": [
    "i = 0\n",
    "plt.figure(figsize=(6,3))\n",
    "plt.subplot(1,2,1)\n",
    "plot_image(i, predictions_one_hot, y_test_re, x_test_normalized)"
   ]
  },
  {
   "cell_type": "markdown",
   "metadata": {},
   "source": [
    "So the model is most confident that this image is an T-shirt/top, or clothing_class_names[0]. And we can check the test label to see this is correct:"
   ]
  },
  {
   "cell_type": "markdown",
   "metadata": {},
   "source": [
    "Let's print the first image from a test set to see if model's prediction is correct.\n"
   ]
  },
  {
   "cell_type": "code",
   "execution_count": 56,
   "metadata": {
    "execution": {
     "iopub.execute_input": "2023-04-03T16:41:01.108980Z",
     "iopub.status.busy": "2023-04-03T16:41:01.108563Z",
     "iopub.status.idle": "2023-04-03T16:41:01.297739Z",
     "shell.execute_reply": "2023-04-03T16:41:01.296277Z",
     "shell.execute_reply.started": "2023-04-03T16:41:01.108944Z"
    }
   },
   "outputs": [
    {
     "data": {
      "image/png": "[encoded data removed]",
      "text/plain": [
       "<Figure size 640x480 with 1 Axes>"
      ]
     },
     "metadata": {},
     "output_type": "display_data"
    }
   ],
   "source": [
    "plt.imshow(x_test_normalized[0].reshape((IMAGE_WIDTH, IMAGE_HEIGHT)), cmap=plt.cm.binary)\n",
    "plt.show()"
   ]
  },
  {
   "cell_type": "markdown",
   "metadata": {},
   "source": [
    "We see that our model made a correct prediction and it successfully recognized the image. Let's print some more test examples and correspondent predictions to see how model performs and where it does mistakes."
   ]
  },
  {
   "cell_type": "code",
   "execution_count": null,
   "metadata": {
    "execution": {
     "iopub.execute_input": "2023-04-03T16:41:05.095989Z",
     "iopub.status.busy": "2023-04-03T16:41:05.095593Z",
     "iopub.status.idle": "2023-04-03T16:41:06.751951Z",
     "shell.execute_reply": "2023-04-03T16:41:06.750658Z",
     "shell.execute_reply.started": "2023-04-03T16:41:05.095955Z"
    }
   },
   "outputs": [],
   "source": [
    "# numbers_to_display = 36\n",
    "# num_cells = math.ceil(math.sqrt(numbers_to_display))\n",
    "# plt.figure(figsize=(15, 15))\n",
    "\n",
    "# for plot_index in range(numbers_to_display):    \n",
    "#     predicted_label = predictions[plot_index]\n",
    "#     plt.xticks([])\n",
    "#     plt.yticks([])\n",
    "#     plt.grid(False)\n",
    "#     color_map = 'Greens' if predicted_label == y_test_re[plot_index] else 'Reds'\n",
    "#     plt.subplot(num_cells, num_cells, plot_index + 1)\n",
    "#     plot_image(plot_index, predictions_one_hot, y_test_re, x_test_normalized)\n",
    "#     #plt.imshow(x_test_normalized[plot_index].reshape((IMAGE_WIDTH, IMAGE_HEIGHT)), cmap=color_map)\n",
    "#     #plt.xlabel(predicted_label)\n",
    "\n",
    "# plt.subplots_adjust(hspace=1, wspace=0.5)\n",
    "# plt.show()"
   ]
  },
  {
   "cell_type": "markdown",
   "metadata": {},
   "source": [
    "### 6.3.5. Confusion matrix of validation dataset <a class = \"anchor\" id = \"cmValidation\"></a>\n",
    "[Back to Table of Contents](#bcImp1)\n",
    "\n",
    "### Plotting a confusion matrix\n",
    "Confusion matrix shows what numbers are recognized well by the model and what numbers the model usually confuses to recognize correctly. You may see that the model performs really well but sometimes (28 times out of 10000) it may confuse number 5 with 3 or number 2 with 3."
   ]
  },
  {
   "cell_type": "code",
   "execution_count": 57,
   "metadata": {
    "execution": {
     "iopub.execute_input": "2023-04-03T16:41:07.801835Z",
     "iopub.status.busy": "2023-04-03T16:41:07.800775Z",
     "iopub.status.idle": "2023-04-03T16:41:08.487341Z",
     "shell.execute_reply": "2023-04-03T16:41:08.483330Z",
     "shell.execute_reply.started": "2023-04-03T16:41:07.801778Z"
    }
   },
   "outputs": [
    {
     "data": {
      "image/png": "[encoded data removed]",
      "text/plain": [
       "<Figure size 900x700 with 2 Axes>"
      ]
     },
     "metadata": {},
     "output_type": "display_data"
    }
   ],
   "source": [
    "confusion_matrix = tf.math.confusion_matrix(y_test_re, predictions)\n",
    "f, ax = plt.subplots(figsize=(9, 7))\n",
    "sn.heatmap(\n",
    "    confusion_matrix,\n",
    "    annot=True,\n",
    "    linewidths=.5,\n",
    "    fmt=\"d\",\n",
    "    square=True,\n",
    "    ax=ax\n",
    ")\n",
    "plt.show()"
   ]
  },
  {
   "cell_type": "markdown",
   "metadata": {},
   "source": [
    "### In summary<a class=\"anchor\" id =\"modelEvaluationSummary\"></a>\n",
    "[Back to Table of Contents](#bcImp1)"
   ]
  },
  {
   "cell_type": "code",
   "execution_count": null,
   "metadata": {
    "execution": {
     "iopub.execute_input": "2023-04-03T16:41:12.392171Z",
     "iopub.status.busy": "2023-04-03T16:41:12.391221Z",
     "iopub.status.idle": "2023-04-03T16:41:12.397532Z",
     "shell.execute_reply": "2023-04-03T16:41:12.395993Z",
     "shell.execute_reply.started": "2023-04-03T16:41:12.392108Z"
    }
   },
   "outputs": [],
   "source": [
    "# test_pred = pd.DataFrame( loaded_model.predict([x_test_normalized]))\n",
    "# test_pred = pd.DataFrame(test_pred.idxmax(axis = 1))\n",
    "# test_pred.index.name = 'ImageId'\n",
    "# test_pred = test_pred.rename(columns = {0: 'Label'}).reset_index()\n",
    "# test_pred['ImageId'] = test_pred['ImageId'] + 1\n",
    "\n",
    "# test_pred.head()"
   ]
  },
  {
   "cell_type": "code",
   "execution_count": null,
   "metadata": {
    "execution": {
     "iopub.execute_input": "2023-04-03T16:41:14.731134Z",
     "iopub.status.busy": "2023-04-03T16:41:14.730688Z",
     "iopub.status.idle": "2023-04-03T16:41:14.735798Z",
     "shell.execute_reply": "2023-04-03T16:41:14.734582Z",
     "shell.execute_reply.started": "2023-04-03T16:41:14.731095Z"
    }
   },
   "outputs": [],
   "source": [
    "# test_pred.to_csv('mnist_digit_submission.csv', index = False)"
   ]
  },
  {
   "cell_type": "markdown",
   "metadata": {},
   "source": [
    "#### We highly appreciate your time you spent on wonderful kernels for helping us learn from your experiences🙏."
   ]
  },
  {
   "cell_type": "markdown",
   "metadata": {},
   "source": [
    "If this helped in your learning, then please 👍 UPVOTE as they are the source of motivation 😔👈🏋🥇."
   ]
  }
 ],
 "metadata": {
  "kernelspec": {
   "display_name": "Python 3 (ipykernel)",
   "language": "python",
   "name": "python3"
  },
  "language_info": {
   "codemirror_mode": {
    "name": "ipython",
    "version": 3
   },
   "file_extension": ".py",
   "mimetype": "text/x-python",
   "name": "python",
   "nbconvert_exporter": "python",
   "pygments_lexer": "ipython3",
   "version": "3.9.13"
  }
 },
 "nbformat": 4,
 "nbformat_minor": 4
}
