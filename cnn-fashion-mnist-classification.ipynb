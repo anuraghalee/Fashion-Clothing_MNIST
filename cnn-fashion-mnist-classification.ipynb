{
 "cells": [
  {
   "cell_type": "markdown",
   "id": "8528661c",
   "metadata": {
    "papermill": {
     "duration": 0.023446,
     "end_time": "2023-03-31T09:19:43.109996",
     "exception": false,
     "start_time": "2023-03-31T09:19:43.086550",
     "status": "completed"
    },
    "tags": []
   },
   "source": [
    "# Classification of Images of Clothes Using CNN"
   ]
  },
  {
   "cell_type": "markdown",
   "id": "a2ccc1ba",
   "metadata": {
    "papermill": {
     "duration": 0.018832,
     "end_time": "2023-03-31T09:19:43.148259",
     "exception": false,
     "start_time": "2023-03-31T09:19:43.129427",
     "status": "completed"
    },
    "tags": []
   },
   "source": [
    "<p><img src=\"https://www.googleapis.com/download/storage/v1/b/kaggle-user-content/o/inbox%2F549262%2Fd6f4f6e13fa211c9e773479566d89ac9%2FExample-for-fashion-MNIST-Each-class-is-represented-by-nine-cases.png?generation=1576784453715625&alt=media\" width=\"1000\" height = \"800\" alt=\"Fashion Mnist Challenge\"></p>\n",
    "\n",
    "#### Image source : Kaggle\n",
    "\n"
   ]
  },
  {
   "cell_type": "markdown",
   "id": "1187c22e",
   "metadata": {
    "papermill": {
     "duration": 0.019059,
     "end_time": "2023-03-31T09:19:43.302380",
     "exception": false,
     "start_time": "2023-03-31T09:19:43.283321",
     "status": "completed"
    },
    "tags": []
   },
   "source": [
    "## 2. Import dependencies and load the data "
   ]
  },
  {
   "cell_type": "code",
   "execution_count": 1,
   "id": "70017924",
   "metadata": {
    "execution": {
     "iopub.execute_input": "2023-03-31T09:19:43.342619Z",
     "iopub.status.busy": "2023-03-31T09:19:43.342128Z",
     "iopub.status.idle": "2023-03-31T09:19:52.692285Z",
     "shell.execute_reply": "2023-03-31T09:19:52.691166Z"
    },
    "papermill": {
     "duration": 9.373584,
     "end_time": "2023-03-31T09:19:52.695117",
     "exception": false,
     "start_time": "2023-03-31T09:19:43.321533",
     "status": "completed"
    },
    "tags": []
   },
   "outputs": [
    {
     "name": "stdout",
     "output_type": "stream",
     "text": [
      "C:\\Users\\Anurag\\Desktop\\mpr-6-ml\\input\\fashionmnist\\fashion-mnist_test.csv\n",
      "C:\\Users\\Anurag\\Desktop\\mpr-6-ml\\input\\fashionmnist\\fashion-mnist_train.csv\n",
      "C:\\Users\\Anurag\\Desktop\\mpr-6-ml\\input\\fashionmnist\\t10k-images-idx3-ubyte\n",
      "C:\\Users\\Anurag\\Desktop\\mpr-6-ml\\input\\fashionmnist\\t10k-labels-idx1-ubyte\n",
      "C:\\Users\\Anurag\\Desktop\\mpr-6-ml\\input\\fashionmnist\\train-images-idx3-ubyte\n",
      "C:\\Users\\Anurag\\Desktop\\mpr-6-ml\\input\\fashionmnist\\train-labels-idx1-ubyte\n"
     ]
    }
   ],
   "source": [
    "# This Python 3 environment comes with many helpful analytics libraries installed\n",
    "# It is defined by the kaggle/python Docker image: https://github.com/kaggle/docker-python\n",
    "# For example, here's several helpful packages to load\n",
    "\n",
    "import tensorflow as tf\n",
    "import matplotlib.pyplot as plt\n",
    "import seaborn as sn\n",
    "import numpy as np # linear algebra\n",
    "import pandas as pd # data processing, CSV file I/O (e.g. pd.read_csv)\n",
    "import math\n",
    "import datetime\n",
    "import platform\n",
    "import imageio\n",
    "import PIL\n",
    "import time\n",
    "import os\n",
    "import glob\n",
    "import zipfile\n",
    "\n",
    "from IPython import display\n",
    "\n",
    "# Input data files are available in the read-only \"../input/\" directory\n",
    "# For example, running this (by clicking run or pressing Shift+Enter) will list all files under the input directory\n",
    "\n",
    "import os\n",
    "for dirname, _, filenames in os.walk(r'C:\\Users\\Anurag\\Desktop\\mpr-6-ml\\input'):\n",
    "    for filename in filenames:\n",
    "        print(os.path.join(dirname, filename))\n",
    "\n",
    "# You can write up to 20GB to the current directory (/kaggle/working/) that gets preserved as output when you create a version using \"Save & Run All\" \n",
    "# You can also write temporary files to /kaggle/temp/, but they won't be saved outside of the current session"
   ]
  },
  {
   "cell_type": "code",
   "execution_count": 2,
   "id": "938883b8",
   "metadata": {
    "execution": {
     "iopub.execute_input": "2023-03-31T09:19:52.736192Z",
     "iopub.status.busy": "2023-03-31T09:19:52.735493Z",
     "iopub.status.idle": "2023-03-31T09:19:53.801210Z",
     "shell.execute_reply": "2023-03-31T09:19:53.800206Z"
    },
    "papermill": {
     "duration": 1.089145,
     "end_time": "2023-03-31T09:19:53.803809",
     "exception": false,
     "start_time": "2023-03-31T09:19:52.714664",
     "status": "completed"
    },
    "tags": []
   },
   "outputs": [
    {
     "name": "stdout",
     "output_type": "stream",
     "text": [
      "Python version: 3.9.13\n",
      "Tensorflow version: 2.12.0\n",
      "Keras version: 2.12.0\n"
     ]
    }
   ],
   "source": [
    "print('Python version:', platform.python_version())\n",
    "print('Tensorflow version:', tf.__version__)\n",
    "print('Keras version:', tf.keras.__version__)"
   ]
  },
  {
   "cell_type": "code",
   "execution_count": 3,
   "id": "75bdeff3",
   "metadata": {
    "execution": {
     "iopub.execute_input": "2023-03-31T09:19:53.844841Z",
     "iopub.status.busy": "2023-03-31T09:19:53.844411Z",
     "iopub.status.idle": "2023-03-31T09:20:00.870705Z",
     "shell.execute_reply": "2023-03-31T09:20:00.869350Z"
    },
    "papermill": {
     "duration": 7.050267,
     "end_time": "2023-03-31T09:20:00.873567",
     "exception": false,
     "start_time": "2023-03-31T09:19:53.823300",
     "status": "completed"
    },
    "tags": []
   },
   "outputs": [],
   "source": [
    "train = pd.read_csv(r'C:\\Users\\Anurag\\Desktop\\mpr-6-ml\\input\\fashionmnist\\fashion-mnist_train.csv')\n",
    "test = pd.read_csv(r'C:\\Users\\Anurag\\Desktop\\mpr-6-ml\\input\\fashionmnist\\fashion-mnist_test.csv')"
   ]
  },
  {
   "cell_type": "markdown",
   "id": "41c8ae9a",
   "metadata": {
    "papermill": {
     "duration": 0.019957,
     "end_time": "2023-03-31T09:20:00.912986",
     "exception": false,
     "start_time": "2023-03-31T09:20:00.893029",
     "status": "completed"
    },
    "tags": []
   },
   "source": [
    "## 3. Data Overview <a class=\"anchor\" id=\"dOverview\"></a>\n",
    "This kernel uses the Fashion-MNIST dataset of Zalando's article images which contains 60,000 grayscale images of a training set and 10,000 of test set in 10 categories. The images show individual articles of clothing at 28X28 pixcels resolution. \n",
    "\n",
    "### 3.1. Diamension of train and test data "
   ]
  },
  {
   "cell_type": "code",
   "execution_count": 4,
   "id": "bba5e2bd",
   "metadata": {
    "execution": {
     "iopub.execute_input": "2023-03-31T09:20:00.953370Z",
     "iopub.status.busy": "2023-03-31T09:20:00.952943Z",
     "iopub.status.idle": "2023-03-31T09:20:00.980255Z",
     "shell.execute_reply": "2023-03-31T09:20:00.979093Z"
    },
    "papermill": {
     "duration": 0.050669,
     "end_time": "2023-03-31T09:20:00.982949",
     "exception": false,
     "start_time": "2023-03-31T09:20:00.932280",
     "status": "completed"
    },
    "tags": []
   },
   "outputs": [
    {
     "data": {
      "text/html": [
       "<div>\n",
       "<style scoped>\n",
       "    .dataframe tbody tr th:only-of-type {\n",
       "        vertical-align: middle;\n",
       "    }\n",
       "\n",
       "    .dataframe tbody tr th {\n",
       "        vertical-align: top;\n",
       "    }\n",
       "\n",
       "    .dataframe thead th {\n",
       "        text-align: right;\n",
       "    }\n",
       "</style>\n",
       "<table border=\"1\" class=\"dataframe\">\n",
       "  <thead>\n",
       "    <tr style=\"text-align: right;\">\n",
       "      <th></th>\n",
       "      <th>label</th>\n",
       "      <th>pixel1</th>\n",
       "      <th>pixel2</th>\n",
       "      <th>pixel3</th>\n",
       "      <th>pixel4</th>\n",
       "      <th>pixel5</th>\n",
       "      <th>pixel6</th>\n",
       "      <th>pixel7</th>\n",
       "      <th>pixel8</th>\n",
       "      <th>pixel9</th>\n",
       "      <th>...</th>\n",
       "      <th>pixel775</th>\n",
       "      <th>pixel776</th>\n",
       "      <th>pixel777</th>\n",
       "      <th>pixel778</th>\n",
       "      <th>pixel779</th>\n",
       "      <th>pixel780</th>\n",
       "      <th>pixel781</th>\n",
       "      <th>pixel782</th>\n",
       "      <th>pixel783</th>\n",
       "      <th>pixel784</th>\n",
       "    </tr>\n",
       "  </thead>\n",
       "  <tbody>\n",
       "    <tr>\n",
       "      <th>0</th>\n",
       "      <td>2</td>\n",
       "      <td>0</td>\n",
       "      <td>0</td>\n",
       "      <td>0</td>\n",
       "      <td>0</td>\n",
       "      <td>0</td>\n",
       "      <td>0</td>\n",
       "      <td>0</td>\n",
       "      <td>0</td>\n",
       "      <td>0</td>\n",
       "      <td>...</td>\n",
       "      <td>0</td>\n",
       "      <td>0</td>\n",
       "      <td>0</td>\n",
       "      <td>0</td>\n",
       "      <td>0</td>\n",
       "      <td>0</td>\n",
       "      <td>0</td>\n",
       "      <td>0</td>\n",
       "      <td>0</td>\n",
       "      <td>0</td>\n",
       "    </tr>\n",
       "    <tr>\n",
       "      <th>1</th>\n",
       "      <td>9</td>\n",
       "      <td>0</td>\n",
       "      <td>0</td>\n",
       "      <td>0</td>\n",
       "      <td>0</td>\n",
       "      <td>0</td>\n",
       "      <td>0</td>\n",
       "      <td>0</td>\n",
       "      <td>0</td>\n",
       "      <td>0</td>\n",
       "      <td>...</td>\n",
       "      <td>0</td>\n",
       "      <td>0</td>\n",
       "      <td>0</td>\n",
       "      <td>0</td>\n",
       "      <td>0</td>\n",
       "      <td>0</td>\n",
       "      <td>0</td>\n",
       "      <td>0</td>\n",
       "      <td>0</td>\n",
       "      <td>0</td>\n",
       "    </tr>\n",
       "    <tr>\n",
       "      <th>2</th>\n",
       "      <td>6</td>\n",
       "      <td>0</td>\n",
       "      <td>0</td>\n",
       "      <td>0</td>\n",
       "      <td>0</td>\n",
       "      <td>0</td>\n",
       "      <td>0</td>\n",
       "      <td>0</td>\n",
       "      <td>5</td>\n",
       "      <td>0</td>\n",
       "      <td>...</td>\n",
       "      <td>0</td>\n",
       "      <td>0</td>\n",
       "      <td>0</td>\n",
       "      <td>30</td>\n",
       "      <td>43</td>\n",
       "      <td>0</td>\n",
       "      <td>0</td>\n",
       "      <td>0</td>\n",
       "      <td>0</td>\n",
       "      <td>0</td>\n",
       "    </tr>\n",
       "    <tr>\n",
       "      <th>3</th>\n",
       "      <td>0</td>\n",
       "      <td>0</td>\n",
       "      <td>0</td>\n",
       "      <td>0</td>\n",
       "      <td>1</td>\n",
       "      <td>2</td>\n",
       "      <td>0</td>\n",
       "      <td>0</td>\n",
       "      <td>0</td>\n",
       "      <td>0</td>\n",
       "      <td>...</td>\n",
       "      <td>3</td>\n",
       "      <td>0</td>\n",
       "      <td>0</td>\n",
       "      <td>0</td>\n",
       "      <td>0</td>\n",
       "      <td>1</td>\n",
       "      <td>0</td>\n",
       "      <td>0</td>\n",
       "      <td>0</td>\n",
       "      <td>0</td>\n",
       "    </tr>\n",
       "    <tr>\n",
       "      <th>4</th>\n",
       "      <td>3</td>\n",
       "      <td>0</td>\n",
       "      <td>0</td>\n",
       "      <td>0</td>\n",
       "      <td>0</td>\n",
       "      <td>0</td>\n",
       "      <td>0</td>\n",
       "      <td>0</td>\n",
       "      <td>0</td>\n",
       "      <td>0</td>\n",
       "      <td>...</td>\n",
       "      <td>0</td>\n",
       "      <td>0</td>\n",
       "      <td>0</td>\n",
       "      <td>0</td>\n",
       "      <td>0</td>\n",
       "      <td>0</td>\n",
       "      <td>0</td>\n",
       "      <td>0</td>\n",
       "      <td>0</td>\n",
       "      <td>0</td>\n",
       "    </tr>\n",
       "  </tbody>\n",
       "</table>\n",
       "<p>5 rows × 785 columns</p>\n",
       "</div>"
      ],
      "text/plain": [
       "   label  pixel1  pixel2  pixel3  pixel4  pixel5  pixel6  pixel7  pixel8  \\\n",
       "0      2       0       0       0       0       0       0       0       0   \n",
       "1      9       0       0       0       0       0       0       0       0   \n",
       "2      6       0       0       0       0       0       0       0       5   \n",
       "3      0       0       0       0       1       2       0       0       0   \n",
       "4      3       0       0       0       0       0       0       0       0   \n",
       "\n",
       "   pixel9  ...  pixel775  pixel776  pixel777  pixel778  pixel779  pixel780  \\\n",
       "0       0  ...         0         0         0         0         0         0   \n",
       "1       0  ...         0         0         0         0         0         0   \n",
       "2       0  ...         0         0         0        30        43         0   \n",
       "3       0  ...         3         0         0         0         0         1   \n",
       "4       0  ...         0         0         0         0         0         0   \n",
       "\n",
       "   pixel781  pixel782  pixel783  pixel784  \n",
       "0         0         0         0         0  \n",
       "1         0         0         0         0  \n",
       "2         0         0         0         0  \n",
       "3         0         0         0         0  \n",
       "4         0         0         0         0  \n",
       "\n",
       "[5 rows x 785 columns]"
      ]
     },
     "execution_count": 4,
     "metadata": {},
     "output_type": "execute_result"
    }
   ],
   "source": [
    "train.head()"
   ]
  },
  {
   "cell_type": "code",
   "execution_count": 5,
   "id": "fee697ab",
   "metadata": {
    "execution": {
     "iopub.execute_input": "2023-03-31T09:20:01.026233Z",
     "iopub.status.busy": "2023-03-31T09:20:01.025240Z",
     "iopub.status.idle": "2023-03-31T09:20:01.042463Z",
     "shell.execute_reply": "2023-03-31T09:20:01.041294Z"
    },
    "papermill": {
     "duration": 0.041017,
     "end_time": "2023-03-31T09:20:01.044806",
     "exception": false,
     "start_time": "2023-03-31T09:20:01.003789",
     "status": "completed"
    },
    "tags": []
   },
   "outputs": [
    {
     "data": {
      "text/html": [
       "<div>\n",
       "<style scoped>\n",
       "    .dataframe tbody tr th:only-of-type {\n",
       "        vertical-align: middle;\n",
       "    }\n",
       "\n",
       "    .dataframe tbody tr th {\n",
       "        vertical-align: top;\n",
       "    }\n",
       "\n",
       "    .dataframe thead th {\n",
       "        text-align: right;\n",
       "    }\n",
       "</style>\n",
       "<table border=\"1\" class=\"dataframe\">\n",
       "  <thead>\n",
       "    <tr style=\"text-align: right;\">\n",
       "      <th></th>\n",
       "      <th>label</th>\n",
       "      <th>pixel1</th>\n",
       "      <th>pixel2</th>\n",
       "      <th>pixel3</th>\n",
       "      <th>pixel4</th>\n",
       "      <th>pixel5</th>\n",
       "      <th>pixel6</th>\n",
       "      <th>pixel7</th>\n",
       "      <th>pixel8</th>\n",
       "      <th>pixel9</th>\n",
       "      <th>...</th>\n",
       "      <th>pixel775</th>\n",
       "      <th>pixel776</th>\n",
       "      <th>pixel777</th>\n",
       "      <th>pixel778</th>\n",
       "      <th>pixel779</th>\n",
       "      <th>pixel780</th>\n",
       "      <th>pixel781</th>\n",
       "      <th>pixel782</th>\n",
       "      <th>pixel783</th>\n",
       "      <th>pixel784</th>\n",
       "    </tr>\n",
       "  </thead>\n",
       "  <tbody>\n",
       "    <tr>\n",
       "      <th>0</th>\n",
       "      <td>0</td>\n",
       "      <td>0</td>\n",
       "      <td>0</td>\n",
       "      <td>0</td>\n",
       "      <td>0</td>\n",
       "      <td>0</td>\n",
       "      <td>0</td>\n",
       "      <td>0</td>\n",
       "      <td>9</td>\n",
       "      <td>8</td>\n",
       "      <td>...</td>\n",
       "      <td>103</td>\n",
       "      <td>87</td>\n",
       "      <td>56</td>\n",
       "      <td>0</td>\n",
       "      <td>0</td>\n",
       "      <td>0</td>\n",
       "      <td>0</td>\n",
       "      <td>0</td>\n",
       "      <td>0</td>\n",
       "      <td>0</td>\n",
       "    </tr>\n",
       "    <tr>\n",
       "      <th>1</th>\n",
       "      <td>1</td>\n",
       "      <td>0</td>\n",
       "      <td>0</td>\n",
       "      <td>0</td>\n",
       "      <td>0</td>\n",
       "      <td>0</td>\n",
       "      <td>0</td>\n",
       "      <td>0</td>\n",
       "      <td>0</td>\n",
       "      <td>0</td>\n",
       "      <td>...</td>\n",
       "      <td>34</td>\n",
       "      <td>0</td>\n",
       "      <td>0</td>\n",
       "      <td>0</td>\n",
       "      <td>0</td>\n",
       "      <td>0</td>\n",
       "      <td>0</td>\n",
       "      <td>0</td>\n",
       "      <td>0</td>\n",
       "      <td>0</td>\n",
       "    </tr>\n",
       "    <tr>\n",
       "      <th>2</th>\n",
       "      <td>2</td>\n",
       "      <td>0</td>\n",
       "      <td>0</td>\n",
       "      <td>0</td>\n",
       "      <td>0</td>\n",
       "      <td>0</td>\n",
       "      <td>0</td>\n",
       "      <td>14</td>\n",
       "      <td>53</td>\n",
       "      <td>99</td>\n",
       "      <td>...</td>\n",
       "      <td>0</td>\n",
       "      <td>0</td>\n",
       "      <td>0</td>\n",
       "      <td>0</td>\n",
       "      <td>63</td>\n",
       "      <td>53</td>\n",
       "      <td>31</td>\n",
       "      <td>0</td>\n",
       "      <td>0</td>\n",
       "      <td>0</td>\n",
       "    </tr>\n",
       "    <tr>\n",
       "      <th>3</th>\n",
       "      <td>2</td>\n",
       "      <td>0</td>\n",
       "      <td>0</td>\n",
       "      <td>0</td>\n",
       "      <td>0</td>\n",
       "      <td>0</td>\n",
       "      <td>0</td>\n",
       "      <td>0</td>\n",
       "      <td>0</td>\n",
       "      <td>0</td>\n",
       "      <td>...</td>\n",
       "      <td>137</td>\n",
       "      <td>126</td>\n",
       "      <td>140</td>\n",
       "      <td>0</td>\n",
       "      <td>133</td>\n",
       "      <td>224</td>\n",
       "      <td>222</td>\n",
       "      <td>56</td>\n",
       "      <td>0</td>\n",
       "      <td>0</td>\n",
       "    </tr>\n",
       "    <tr>\n",
       "      <th>4</th>\n",
       "      <td>3</td>\n",
       "      <td>0</td>\n",
       "      <td>0</td>\n",
       "      <td>0</td>\n",
       "      <td>0</td>\n",
       "      <td>0</td>\n",
       "      <td>0</td>\n",
       "      <td>0</td>\n",
       "      <td>0</td>\n",
       "      <td>0</td>\n",
       "      <td>...</td>\n",
       "      <td>0</td>\n",
       "      <td>0</td>\n",
       "      <td>0</td>\n",
       "      <td>0</td>\n",
       "      <td>0</td>\n",
       "      <td>0</td>\n",
       "      <td>0</td>\n",
       "      <td>0</td>\n",
       "      <td>0</td>\n",
       "      <td>0</td>\n",
       "    </tr>\n",
       "  </tbody>\n",
       "</table>\n",
       "<p>5 rows × 785 columns</p>\n",
       "</div>"
      ],
      "text/plain": [
       "   label  pixel1  pixel2  pixel3  pixel4  pixel5  pixel6  pixel7  pixel8  \\\n",
       "0      0       0       0       0       0       0       0       0       9   \n",
       "1      1       0       0       0       0       0       0       0       0   \n",
       "2      2       0       0       0       0       0       0      14      53   \n",
       "3      2       0       0       0       0       0       0       0       0   \n",
       "4      3       0       0       0       0       0       0       0       0   \n",
       "\n",
       "   pixel9  ...  pixel775  pixel776  pixel777  pixel778  pixel779  pixel780  \\\n",
       "0       8  ...       103        87        56         0         0         0   \n",
       "1       0  ...        34         0         0         0         0         0   \n",
       "2      99  ...         0         0         0         0        63        53   \n",
       "3       0  ...       137       126       140         0       133       224   \n",
       "4       0  ...         0         0         0         0         0         0   \n",
       "\n",
       "   pixel781  pixel782  pixel783  pixel784  \n",
       "0         0         0         0         0  \n",
       "1         0         0         0         0  \n",
       "2        31         0         0         0  \n",
       "3       222        56         0         0  \n",
       "4         0         0         0         0  \n",
       "\n",
       "[5 rows x 785 columns]"
      ]
     },
     "execution_count": 5,
     "metadata": {},
     "output_type": "execute_result"
    }
   ],
   "source": [
    "test.head()"
   ]
  },
  {
   "cell_type": "code",
   "execution_count": 6,
   "id": "5920fe5f",
   "metadata": {
    "execution": {
     "iopub.execute_input": "2023-03-31T09:20:01.087532Z",
     "iopub.status.busy": "2023-03-31T09:20:01.087125Z",
     "iopub.status.idle": "2023-03-31T09:20:01.147720Z",
     "shell.execute_reply": "2023-03-31T09:20:01.146174Z"
    },
    "papermill": {
     "duration": 0.085043,
     "end_time": "2023-03-31T09:20:01.150315",
     "exception": false,
     "start_time": "2023-03-31T09:20:01.065272",
     "status": "completed"
    },
    "tags": []
   },
   "outputs": [
    {
     "name": "stdout",
     "output_type": "stream",
     "text": [
      "<class 'pandas.core.frame.DataFrame'>\n",
      "RangeIndex: 60000 entries, 0 to 59999\n",
      "Columns: 785 entries, label to pixel784\n",
      "dtypes: int64(785)\n",
      "memory usage: 359.3 MB\n"
     ]
    },
    {
     "data": {
      "text/plain": [
       "(None, (60000, 785))"
      ]
     },
     "execution_count": 6,
     "metadata": {},
     "output_type": "execute_result"
    }
   ],
   "source": [
    "train.info(), train.shape"
   ]
  },
  {
   "cell_type": "code",
   "execution_count": 7,
   "id": "a2f97600",
   "metadata": {
    "execution": {
     "iopub.execute_input": "2023-03-31T09:20:01.194450Z",
     "iopub.status.busy": "2023-03-31T09:20:01.193652Z",
     "iopub.status.idle": "2023-03-31T09:20:01.240030Z",
     "shell.execute_reply": "2023-03-31T09:20:01.238569Z"
    },
    "papermill": {
     "duration": 0.072414,
     "end_time": "2023-03-31T09:20:01.243529",
     "exception": false,
     "start_time": "2023-03-31T09:20:01.171115",
     "status": "completed"
    },
    "tags": []
   },
   "outputs": [
    {
     "name": "stdout",
     "output_type": "stream",
     "text": [
      "<class 'pandas.core.frame.DataFrame'>\n",
      "RangeIndex: 10000 entries, 0 to 9999\n",
      "Columns: 785 entries, label to pixel784\n",
      "dtypes: int64(785)\n",
      "memory usage: 59.9 MB\n"
     ]
    },
    {
     "data": {
      "text/plain": [
       "(None, (10000, 785))"
      ]
     },
     "execution_count": 7,
     "metadata": {},
     "output_type": "execute_result"
    }
   ],
   "source": [
    "test.info(),  test.shape"
   ]
  },
  {
   "cell_type": "markdown",
   "id": "f2d94083",
   "metadata": {
    "papermill": {
     "duration": 0.020143,
     "end_time": "2023-03-31T09:20:01.284568",
     "exception": false,
     "start_time": "2023-03-31T09:20:01.264425",
     "status": "completed"
    },
    "tags": []
   },
   "source": [
    "## 3.2. Training and testing dataset<a class=\"anchor\" id=\"splitData\"></a>\n",
    "[Back to Table of Contents](#bcImp)\n",
    "\n",
    "We will train the network with 60,000 images (training set) and evaluate it's accuracy with 10,000 images (testing set)."
   ]
  },
  {
   "cell_type": "code",
   "execution_count": 8,
   "id": "87c56132",
   "metadata": {
    "execution": {
     "iopub.execute_input": "2023-03-31T09:20:01.328171Z",
     "iopub.status.busy": "2023-03-31T09:20:01.327738Z",
     "iopub.status.idle": "2023-03-31T09:20:01.334671Z",
     "shell.execute_reply": "2023-03-31T09:20:01.333204Z"
    },
    "papermill": {
     "duration": 0.031724,
     "end_time": "2023-03-31T09:20:01.337451",
     "exception": false,
     "start_time": "2023-03-31T09:20:01.305727",
     "status": "completed"
    },
    "tags": []
   },
   "outputs": [],
   "source": [
    "X_train = train.iloc[:, 1:785]\n",
    "y_train = train.iloc[:, 0]\n",
    "\n",
    "X_test = test.iloc[:, 1:785]\n",
    "y_test = test.iloc[:, 0]"
   ]
  },
  {
   "cell_type": "markdown",
   "id": "5919821a",
   "metadata": {
    "papermill": {
     "duration": 0.020145,
     "end_time": "2023-03-31T09:20:01.378338",
     "exception": false,
     "start_time": "2023-03-31T09:20:01.358193",
     "status": "completed"
    },
    "tags": []
   },
   "source": [
    "## 3.3. Visualizing the data using TSNE \n",
    "\n",
    "<b>TSNE</b> - t-Distributed Stochastic Neighbor embedding. This is a dimensionality reduction algorithm that is designed to keep local structure in the high dimensional data set, but cares less about global structure. Here, we use it to go from the 784 pixel-dimension of the images to two dimensions. This makes plotting easier. The color scale is the original MNIST label and one can see that the separation of the labels is apparent."
   ]
  },
  {
   "cell_type": "markdown",
   "id": "ed34bf97",
   "metadata": {
    "papermill": {
     "duration": 0.020152,
     "end_time": "2023-03-31T09:20:01.518417",
     "exception": false,
     "start_time": "2023-03-31T09:20:01.498265",
     "status": "completed"
    },
    "tags": []
   },
   "source": [
    "## 3.4. Diamension of training and testing data"
   ]
  },
  {
   "cell_type": "code",
   "execution_count": 9,
   "id": "2916f7b1",
   "metadata": {
    "execution": {
     "iopub.execute_input": "2023-03-31T09:20:01.561547Z",
     "iopub.status.busy": "2023-03-31T09:20:01.560482Z",
     "iopub.status.idle": "2023-03-31T09:20:01.567073Z",
     "shell.execute_reply": "2023-03-31T09:20:01.565957Z"
    },
    "papermill": {
     "duration": 0.030705,
     "end_time": "2023-03-31T09:20:01.569516",
     "exception": false,
     "start_time": "2023-03-31T09:20:01.538811",
     "status": "completed"
    },
    "tags": []
   },
   "outputs": [
    {
     "name": "stdout",
     "output_type": "stream",
     "text": [
      "X_train: (60000, 784)\n",
      "y_train: (60000,)\n",
      "X_validation: (10000, 784)\n",
      "y_validation: (10000,)\n"
     ]
    }
   ],
   "source": [
    "print('X_train:', X_train.shape)\n",
    "print('y_train:', y_train.shape)\n",
    "print('X_validation:', X_test.shape)\n",
    "print('y_validation:', y_test.shape)"
   ]
  },
  {
   "cell_type": "markdown",
   "id": "988b72a5",
   "metadata": {
    "papermill": {
     "duration": 0.020748,
     "end_time": "2023-03-31T09:20:01.610800",
     "exception": false,
     "start_time": "2023-03-31T09:20:01.590052",
     "status": "completed"
    },
    "tags": []
   },
   "source": [
    "### 3.5. Converting training, and testing dataset into NumPy arrays\n",
    "\n",
    "The images are NumPy arrays of 28x28 pixels with values ranging from 0 to 255. The labels are an array of integers numbered 0 to 9. These correspond to the clothing class represented by the image."
   ]
  },
  {
   "cell_type": "code",
   "execution_count": 10,
   "id": "8c042219",
   "metadata": {
    "execution": {
     "iopub.execute_input": "2023-03-31T09:20:01.654652Z",
     "iopub.status.busy": "2023-03-31T09:20:01.654221Z",
     "iopub.status.idle": "2023-03-31T09:20:01.659963Z",
     "shell.execute_reply": "2023-03-31T09:20:01.659027Z"
    },
    "papermill": {
     "duration": 0.03012,
     "end_time": "2023-03-31T09:20:01.662191",
     "exception": false,
     "start_time": "2023-03-31T09:20:01.632071",
     "status": "completed"
    },
    "tags": []
   },
   "outputs": [],
   "source": [
    "x_train_re = X_train.to_numpy().reshape(60000, 28, 28)\n",
    "y_train_re = y_train.values\n",
    "x_test_re = X_test.to_numpy().reshape(10000, 28, 28)\n",
    "y_test_re = y_test.values"
   ]
  },
  {
   "cell_type": "markdown",
   "id": "fd7ad29d",
   "metadata": {
    "papermill": {
     "duration": 0.020326,
     "end_time": "2023-03-31T09:20:01.703170",
     "exception": false,
     "start_time": "2023-03-31T09:20:01.682844",
     "status": "completed"
    },
    "tags": []
   },
   "source": [
    "### 3.6. Diamension of training, and testing data after reshape"
   ]
  },
  {
   "cell_type": "code",
   "execution_count": 11,
   "id": "db89ad5c",
   "metadata": {
    "execution": {
     "iopub.execute_input": "2023-03-31T09:20:01.749111Z",
     "iopub.status.busy": "2023-03-31T09:20:01.747757Z",
     "iopub.status.idle": "2023-03-31T09:20:01.755731Z",
     "shell.execute_reply": "2023-03-31T09:20:01.754347Z"
    },
    "papermill": {
     "duration": 0.03455,
     "end_time": "2023-03-31T09:20:01.759306",
     "exception": false,
     "start_time": "2023-03-31T09:20:01.724756",
     "status": "completed"
    },
    "tags": []
   },
   "outputs": [
    {
     "name": "stdout",
     "output_type": "stream",
     "text": [
      "x_train: (60000, 28, 28)\n",
      "y_train: (60000,)\n",
      "x_test: (10000, 28, 28)\n",
      "y_test: (10000,)\n",
      "x_test: (10000, 28, 28)\n"
     ]
    }
   ],
   "source": [
    "print('x_train:', x_train_re.shape)\n",
    "print('y_train:', y_train_re.shape)\n",
    "print('x_test:', x_test_re.shape)\n",
    "print('y_test:', y_test_re.shape)\n",
    "print('x_test:', x_test_re.shape)"
   ]
  },
  {
   "cell_type": "markdown",
   "id": "372840f4",
   "metadata": {
    "papermill": {
     "duration": 0.020551,
     "end_time": "2023-03-31T09:20:01.801309",
     "exception": false,
     "start_time": "2023-03-31T09:20:01.780758",
     "status": "completed"
    },
    "tags": []
   },
   "source": [
    "Each image is associated with a single label. Since the clothing class names are not included with the dataset, store  them here for later use when plotting the images:"
   ]
  },
  {
   "cell_type": "code",
   "execution_count": 12,
   "id": "b63f96e1",
   "metadata": {
    "execution": {
     "iopub.execute_input": "2023-03-31T09:20:01.846262Z",
     "iopub.status.busy": "2023-03-31T09:20:01.845511Z",
     "iopub.status.idle": "2023-03-31T09:20:01.850351Z",
     "shell.execute_reply": "2023-03-31T09:20:01.849261Z"
    },
    "papermill": {
     "duration": 0.029829,
     "end_time": "2023-03-31T09:20:01.852764",
     "exception": false,
     "start_time": "2023-03-31T09:20:01.822935",
     "status": "completed"
    },
    "tags": []
   },
   "outputs": [],
   "source": [
    "clothing_class_names = ['T-shirt/top', 'Trouser', 'Pullover', 'Dress', 'Coat', 'Shirt']"
   ]
  },
  {
   "cell_type": "markdown",
   "id": "18487474",
   "metadata": {
    "papermill": {
     "duration": 0.021364,
     "end_time": "2023-03-31T09:20:01.895208",
     "exception": false,
     "start_time": "2023-03-31T09:20:01.873844",
     "status": "completed"
    },
    "tags": []
   },
   "source": [
    "The labels are an array of integers numbered 0 to 9."
   ]
  },
  {
   "cell_type": "code",
   "execution_count": 13,
   "id": "e664da8e",
   "metadata": {
    "execution": {
     "iopub.execute_input": "2023-03-31T09:20:01.940052Z",
     "iopub.status.busy": "2023-03-31T09:20:01.939285Z",
     "iopub.status.idle": "2023-03-31T09:20:01.945925Z",
     "shell.execute_reply": "2023-03-31T09:20:01.944999Z"
    },
    "papermill": {
     "duration": 0.031692,
     "end_time": "2023-03-31T09:20:01.948382",
     "exception": false,
     "start_time": "2023-03-31T09:20:01.916690",
     "status": "completed"
    },
    "tags": []
   },
   "outputs": [
    {
     "data": {
      "text/plain": [
       "(array([2, 9, 6, ..., 8, 8, 7], dtype=int64), 60000)"
      ]
     },
     "execution_count": 13,
     "metadata": {},
     "output_type": "execute_result"
    }
   ],
   "source": [
    "y_train_re, len(y_train_re)"
   ]
  },
  {
   "cell_type": "code",
   "execution_count": 14,
   "id": "3705ffe2",
   "metadata": {
    "execution": {
     "iopub.execute_input": "2023-03-31T09:20:01.993730Z",
     "iopub.status.busy": "2023-03-31T09:20:01.993034Z",
     "iopub.status.idle": "2023-03-31T09:20:02.000810Z",
     "shell.execute_reply": "2023-03-31T09:20:01.999543Z"
    },
    "papermill": {
     "duration": 0.033129,
     "end_time": "2023-03-31T09:20:02.003328",
     "exception": false,
     "start_time": "2023-03-31T09:20:01.970199",
     "status": "completed"
    },
    "tags": []
   },
   "outputs": [
    {
     "data": {
      "text/plain": [
       "(array([0, 1, 2, ..., 8, 8, 1], dtype=int64),\n",
       " 10000,\n",
       " {0, 1, 2, 3, 4, 5, 6, 7, 8, 9})"
      ]
     },
     "execution_count": 14,
     "metadata": {},
     "output_type": "execute_result"
    }
   ],
   "source": [
    "y_test_re, len(y_test_re), set(y_test_re)"
   ]
  },
  {
   "cell_type": "code",
   "execution_count": 15,
   "id": "adc26c4d",
   "metadata": {
    "execution": {
     "iopub.execute_input": "2023-03-31T09:20:02.049160Z",
     "iopub.status.busy": "2023-03-31T09:20:02.048717Z",
     "iopub.status.idle": "2023-03-31T09:20:02.055353Z",
     "shell.execute_reply": "2023-03-31T09:20:02.053878Z"
    },
    "papermill": {
     "duration": 0.032825,
     "end_time": "2023-03-31T09:20:02.057696",
     "exception": false,
     "start_time": "2023-03-31T09:20:02.024871",
     "status": "completed"
    },
    "tags": []
   },
   "outputs": [
    {
     "name": "stdout",
     "output_type": "stream",
     "text": [
      "IMAGE_WIDTH: 28\n",
      "IMAGE_HEIGHT: 28\n",
      "IMAGE_CHANNELS: 1\n"
     ]
    }
   ],
   "source": [
    "# Save image parameters to the constants that we will use later for data re-shaping and for model traning.\n",
    "(_, IMAGE_WIDTH, IMAGE_HEIGHT) = x_train_re.shape\n",
    "IMAGE_CHANNELS = 1\n",
    "\n",
    "print('IMAGE_WIDTH:', IMAGE_WIDTH);\n",
    "print('IMAGE_HEIGHT:', IMAGE_HEIGHT);\n",
    "print('IMAGE_CHANNELS:', IMAGE_CHANNELS);"
   ]
  },
  {
   "cell_type": "markdown",
   "id": "dee1a44c",
   "metadata": {
    "papermill": {
     "duration": 0.021242,
     "end_time": "2023-03-31T09:20:02.144689",
     "exception": false,
     "start_time": "2023-03-31T09:20:02.123447",
     "status": "completed"
    },
    "tags": []
   },
   "source": [
    "## 4. Explore the data\n",
    "Here is how each image in the dataset looks like. It is a 28x28 matrix of integers (from 0 to 255) and each integer represents a color of a pixel."
   ]
  },
  {
   "cell_type": "code",
   "execution_count": 16,
   "id": "1b8eef91",
   "metadata": {
    "execution": {
     "iopub.execute_input": "2023-03-31T09:20:02.189446Z",
     "iopub.status.busy": "2023-03-31T09:20:02.189028Z",
     "iopub.status.idle": "2023-03-31T09:20:02.214126Z",
     "shell.execute_reply": "2023-03-31T09:20:02.213020Z"
    },
    "papermill": {
     "duration": 0.050056,
     "end_time": "2023-03-31T09:20:02.216399",
     "exception": false,
     "start_time": "2023-03-31T09:20:02.166343",
     "status": "completed"
    },
    "tags": []
   },
   "outputs": [
    {
     "data": {
      "text/html": [
       "<div>\n",
       "<style scoped>\n",
       "    .dataframe tbody tr th:only-of-type {\n",
       "        vertical-align: middle;\n",
       "    }\n",
       "\n",
       "    .dataframe tbody tr th {\n",
       "        vertical-align: top;\n",
       "    }\n",
       "\n",
       "    .dataframe thead th {\n",
       "        text-align: right;\n",
       "    }\n",
       "</style>\n",
       "<table border=\"1\" class=\"dataframe\">\n",
       "  <thead>\n",
       "    <tr style=\"text-align: right;\">\n",
       "      <th></th>\n",
       "      <th>0</th>\n",
       "      <th>1</th>\n",
       "      <th>2</th>\n",
       "      <th>3</th>\n",
       "      <th>4</th>\n",
       "      <th>5</th>\n",
       "      <th>6</th>\n",
       "      <th>7</th>\n",
       "      <th>8</th>\n",
       "      <th>9</th>\n",
       "      <th>...</th>\n",
       "      <th>18</th>\n",
       "      <th>19</th>\n",
       "      <th>20</th>\n",
       "      <th>21</th>\n",
       "      <th>22</th>\n",
       "      <th>23</th>\n",
       "      <th>24</th>\n",
       "      <th>25</th>\n",
       "      <th>26</th>\n",
       "      <th>27</th>\n",
       "    </tr>\n",
       "  </thead>\n",
       "  <tbody>\n",
       "    <tr>\n",
       "      <th>0</th>\n",
       "      <td>0</td>\n",
       "      <td>0</td>\n",
       "      <td>0</td>\n",
       "      <td>0</td>\n",
       "      <td>0</td>\n",
       "      <td>0</td>\n",
       "      <td>0</td>\n",
       "      <td>0</td>\n",
       "      <td>0</td>\n",
       "      <td>0</td>\n",
       "      <td>...</td>\n",
       "      <td>0</td>\n",
       "      <td>0</td>\n",
       "      <td>0</td>\n",
       "      <td>0</td>\n",
       "      <td>0</td>\n",
       "      <td>0</td>\n",
       "      <td>0</td>\n",
       "      <td>0</td>\n",
       "      <td>0</td>\n",
       "      <td>0</td>\n",
       "    </tr>\n",
       "    <tr>\n",
       "      <th>1</th>\n",
       "      <td>0</td>\n",
       "      <td>0</td>\n",
       "      <td>0</td>\n",
       "      <td>0</td>\n",
       "      <td>0</td>\n",
       "      <td>0</td>\n",
       "      <td>0</td>\n",
       "      <td>0</td>\n",
       "      <td>0</td>\n",
       "      <td>0</td>\n",
       "      <td>...</td>\n",
       "      <td>0</td>\n",
       "      <td>0</td>\n",
       "      <td>0</td>\n",
       "      <td>0</td>\n",
       "      <td>0</td>\n",
       "      <td>0</td>\n",
       "      <td>0</td>\n",
       "      <td>0</td>\n",
       "      <td>0</td>\n",
       "      <td>0</td>\n",
       "    </tr>\n",
       "    <tr>\n",
       "      <th>2</th>\n",
       "      <td>0</td>\n",
       "      <td>0</td>\n",
       "      <td>0</td>\n",
       "      <td>0</td>\n",
       "      <td>0</td>\n",
       "      <td>0</td>\n",
       "      <td>0</td>\n",
       "      <td>0</td>\n",
       "      <td>0</td>\n",
       "      <td>0</td>\n",
       "      <td>...</td>\n",
       "      <td>0</td>\n",
       "      <td>0</td>\n",
       "      <td>0</td>\n",
       "      <td>0</td>\n",
       "      <td>0</td>\n",
       "      <td>0</td>\n",
       "      <td>0</td>\n",
       "      <td>0</td>\n",
       "      <td>0</td>\n",
       "      <td>0</td>\n",
       "    </tr>\n",
       "    <tr>\n",
       "      <th>3</th>\n",
       "      <td>0</td>\n",
       "      <td>0</td>\n",
       "      <td>0</td>\n",
       "      <td>0</td>\n",
       "      <td>4</td>\n",
       "      <td>0</td>\n",
       "      <td>0</td>\n",
       "      <td>0</td>\n",
       "      <td>0</td>\n",
       "      <td>0</td>\n",
       "      <td>...</td>\n",
       "      <td>0</td>\n",
       "      <td>0</td>\n",
       "      <td>0</td>\n",
       "      <td>0</td>\n",
       "      <td>0</td>\n",
       "      <td>0</td>\n",
       "      <td>0</td>\n",
       "      <td>0</td>\n",
       "      <td>0</td>\n",
       "      <td>0</td>\n",
       "    </tr>\n",
       "    <tr>\n",
       "      <th>4</th>\n",
       "      <td>0</td>\n",
       "      <td>0</td>\n",
       "      <td>0</td>\n",
       "      <td>0</td>\n",
       "      <td>0</td>\n",
       "      <td>0</td>\n",
       "      <td>0</td>\n",
       "      <td>88</td>\n",
       "      <td>201</td>\n",
       "      <td>228</td>\n",
       "      <td>...</td>\n",
       "      <td>255</td>\n",
       "      <td>135</td>\n",
       "      <td>0</td>\n",
       "      <td>0</td>\n",
       "      <td>0</td>\n",
       "      <td>0</td>\n",
       "      <td>0</td>\n",
       "      <td>0</td>\n",
       "      <td>0</td>\n",
       "      <td>0</td>\n",
       "    </tr>\n",
       "    <tr>\n",
       "      <th>5</th>\n",
       "      <td>0</td>\n",
       "      <td>0</td>\n",
       "      <td>0</td>\n",
       "      <td>0</td>\n",
       "      <td>0</td>\n",
       "      <td>47</td>\n",
       "      <td>252</td>\n",
       "      <td>234</td>\n",
       "      <td>238</td>\n",
       "      <td>224</td>\n",
       "      <td>...</td>\n",
       "      <td>231</td>\n",
       "      <td>249</td>\n",
       "      <td>254</td>\n",
       "      <td>45</td>\n",
       "      <td>0</td>\n",
       "      <td>0</td>\n",
       "      <td>0</td>\n",
       "      <td>0</td>\n",
       "      <td>0</td>\n",
       "      <td>0</td>\n",
       "    </tr>\n",
       "    <tr>\n",
       "      <th>6</th>\n",
       "      <td>0</td>\n",
       "      <td>0</td>\n",
       "      <td>1</td>\n",
       "      <td>0</td>\n",
       "      <td>0</td>\n",
       "      <td>214</td>\n",
       "      <td>222</td>\n",
       "      <td>210</td>\n",
       "      <td>213</td>\n",
       "      <td>224</td>\n",
       "      <td>...</td>\n",
       "      <td>223</td>\n",
       "      <td>221</td>\n",
       "      <td>240</td>\n",
       "      <td>254</td>\n",
       "      <td>0</td>\n",
       "      <td>0</td>\n",
       "      <td>1</td>\n",
       "      <td>0</td>\n",
       "      <td>0</td>\n",
       "      <td>0</td>\n",
       "    </tr>\n",
       "    <tr>\n",
       "      <th>7</th>\n",
       "      <td>1</td>\n",
       "      <td>0</td>\n",
       "      <td>0</td>\n",
       "      <td>0</td>\n",
       "      <td>128</td>\n",
       "      <td>237</td>\n",
       "      <td>207</td>\n",
       "      <td>224</td>\n",
       "      <td>224</td>\n",
       "      <td>207</td>\n",
       "      <td>...</td>\n",
       "      <td>213</td>\n",
       "      <td>226</td>\n",
       "      <td>211</td>\n",
       "      <td>237</td>\n",
       "      <td>150</td>\n",
       "      <td>0</td>\n",
       "      <td>0</td>\n",
       "      <td>0</td>\n",
       "      <td>0</td>\n",
       "      <td>0</td>\n",
       "    </tr>\n",
       "    <tr>\n",
       "      <th>8</th>\n",
       "      <td>0</td>\n",
       "      <td>2</td>\n",
       "      <td>0</td>\n",
       "      <td>0</td>\n",
       "      <td>237</td>\n",
       "      <td>222</td>\n",
       "      <td>215</td>\n",
       "      <td>207</td>\n",
       "      <td>210</td>\n",
       "      <td>212</td>\n",
       "      <td>...</td>\n",
       "      <td>214</td>\n",
       "      <td>206</td>\n",
       "      <td>199</td>\n",
       "      <td>218</td>\n",
       "      <td>255</td>\n",
       "      <td>13</td>\n",
       "      <td>0</td>\n",
       "      <td>2</td>\n",
       "      <td>0</td>\n",
       "      <td>0</td>\n",
       "    </tr>\n",
       "    <tr>\n",
       "      <th>9</th>\n",
       "      <td>0</td>\n",
       "      <td>4</td>\n",
       "      <td>0</td>\n",
       "      <td>85</td>\n",
       "      <td>228</td>\n",
       "      <td>210</td>\n",
       "      <td>218</td>\n",
       "      <td>200</td>\n",
       "      <td>211</td>\n",
       "      <td>208</td>\n",
       "      <td>...</td>\n",
       "      <td>210</td>\n",
       "      <td>217</td>\n",
       "      <td>206</td>\n",
       "      <td>213</td>\n",
       "      <td>231</td>\n",
       "      <td>175</td>\n",
       "      <td>0</td>\n",
       "      <td>0</td>\n",
       "      <td>0</td>\n",
       "      <td>0</td>\n",
       "    </tr>\n",
       "    <tr>\n",
       "      <th>10</th>\n",
       "      <td>0</td>\n",
       "      <td>0</td>\n",
       "      <td>0</td>\n",
       "      <td>217</td>\n",
       "      <td>224</td>\n",
       "      <td>215</td>\n",
       "      <td>206</td>\n",
       "      <td>205</td>\n",
       "      <td>204</td>\n",
       "      <td>217</td>\n",
       "      <td>...</td>\n",
       "      <td>224</td>\n",
       "      <td>207</td>\n",
       "      <td>212</td>\n",
       "      <td>215</td>\n",
       "      <td>213</td>\n",
       "      <td>229</td>\n",
       "      <td>31</td>\n",
       "      <td>0</td>\n",
       "      <td>4</td>\n",
       "      <td>0</td>\n",
       "    </tr>\n",
       "    <tr>\n",
       "      <th>11</th>\n",
       "      <td>1</td>\n",
       "      <td>0</td>\n",
       "      <td>21</td>\n",
       "      <td>225</td>\n",
       "      <td>212</td>\n",
       "      <td>212</td>\n",
       "      <td>203</td>\n",
       "      <td>211</td>\n",
       "      <td>225</td>\n",
       "      <td>193</td>\n",
       "      <td>...</td>\n",
       "      <td>197</td>\n",
       "      <td>223</td>\n",
       "      <td>207</td>\n",
       "      <td>220</td>\n",
       "      <td>213</td>\n",
       "      <td>232</td>\n",
       "      <td>177</td>\n",
       "      <td>0</td>\n",
       "      <td>0</td>\n",
       "      <td>0</td>\n",
       "    </tr>\n",
       "    <tr>\n",
       "      <th>12</th>\n",
       "      <td>0</td>\n",
       "      <td>0</td>\n",
       "      <td>123</td>\n",
       "      <td>226</td>\n",
       "      <td>207</td>\n",
       "      <td>211</td>\n",
       "      <td>209</td>\n",
       "      <td>205</td>\n",
       "      <td>228</td>\n",
       "      <td>158</td>\n",
       "      <td>...</td>\n",
       "      <td>183</td>\n",
       "      <td>226</td>\n",
       "      <td>208</td>\n",
       "      <td>214</td>\n",
       "      <td>209</td>\n",
       "      <td>216</td>\n",
       "      <td>255</td>\n",
       "      <td>13</td>\n",
       "      <td>0</td>\n",
       "      <td>1</td>\n",
       "    </tr>\n",
       "    <tr>\n",
       "      <th>13</th>\n",
       "      <td>0</td>\n",
       "      <td>0</td>\n",
       "      <td>226</td>\n",
       "      <td>219</td>\n",
       "      <td>202</td>\n",
       "      <td>208</td>\n",
       "      <td>206</td>\n",
       "      <td>205</td>\n",
       "      <td>216</td>\n",
       "      <td>184</td>\n",
       "      <td>...</td>\n",
       "      <td>200</td>\n",
       "      <td>219</td>\n",
       "      <td>216</td>\n",
       "      <td>213</td>\n",
       "      <td>213</td>\n",
       "      <td>211</td>\n",
       "      <td>233</td>\n",
       "      <td>148</td>\n",
       "      <td>0</td>\n",
       "      <td>0</td>\n",
       "    </tr>\n",
       "    <tr>\n",
       "      <th>14</th>\n",
       "      <td>0</td>\n",
       "      <td>45</td>\n",
       "      <td>227</td>\n",
       "      <td>204</td>\n",
       "      <td>214</td>\n",
       "      <td>211</td>\n",
       "      <td>218</td>\n",
       "      <td>222</td>\n",
       "      <td>221</td>\n",
       "      <td>230</td>\n",
       "      <td>...</td>\n",
       "      <td>221</td>\n",
       "      <td>224</td>\n",
       "      <td>223</td>\n",
       "      <td>217</td>\n",
       "      <td>210</td>\n",
       "      <td>218</td>\n",
       "      <td>213</td>\n",
       "      <td>254</td>\n",
       "      <td>0</td>\n",
       "      <td>0</td>\n",
       "    </tr>\n",
       "    <tr>\n",
       "      <th>15</th>\n",
       "      <td>0</td>\n",
       "      <td>157</td>\n",
       "      <td>226</td>\n",
       "      <td>203</td>\n",
       "      <td>207</td>\n",
       "      <td>211</td>\n",
       "      <td>209</td>\n",
       "      <td>215</td>\n",
       "      <td>205</td>\n",
       "      <td>198</td>\n",
       "      <td>...</td>\n",
       "      <td>207</td>\n",
       "      <td>213</td>\n",
       "      <td>214</td>\n",
       "      <td>214</td>\n",
       "      <td>214</td>\n",
       "      <td>213</td>\n",
       "      <td>208</td>\n",
       "      <td>234</td>\n",
       "      <td>107</td>\n",
       "      <td>0</td>\n",
       "    </tr>\n",
       "    <tr>\n",
       "      <th>16</th>\n",
       "      <td>0</td>\n",
       "      <td>235</td>\n",
       "      <td>213</td>\n",
       "      <td>204</td>\n",
       "      <td>211</td>\n",
       "      <td>210</td>\n",
       "      <td>209</td>\n",
       "      <td>213</td>\n",
       "      <td>202</td>\n",
       "      <td>197</td>\n",
       "      <td>...</td>\n",
       "      <td>203</td>\n",
       "      <td>211</td>\n",
       "      <td>218</td>\n",
       "      <td>215</td>\n",
       "      <td>214</td>\n",
       "      <td>208</td>\n",
       "      <td>209</td>\n",
       "      <td>222</td>\n",
       "      <td>230</td>\n",
       "      <td>0</td>\n",
       "    </tr>\n",
       "    <tr>\n",
       "      <th>17</th>\n",
       "      <td>52</td>\n",
       "      <td>255</td>\n",
       "      <td>207</td>\n",
       "      <td>200</td>\n",
       "      <td>208</td>\n",
       "      <td>213</td>\n",
       "      <td>210</td>\n",
       "      <td>210</td>\n",
       "      <td>208</td>\n",
       "      <td>207</td>\n",
       "      <td>...</td>\n",
       "      <td>212</td>\n",
       "      <td>205</td>\n",
       "      <td>215</td>\n",
       "      <td>201</td>\n",
       "      <td>228</td>\n",
       "      <td>208</td>\n",
       "      <td>214</td>\n",
       "      <td>212</td>\n",
       "      <td>218</td>\n",
       "      <td>25</td>\n",
       "    </tr>\n",
       "    <tr>\n",
       "      <th>18</th>\n",
       "      <td>118</td>\n",
       "      <td>217</td>\n",
       "      <td>201</td>\n",
       "      <td>206</td>\n",
       "      <td>208</td>\n",
       "      <td>213</td>\n",
       "      <td>208</td>\n",
       "      <td>205</td>\n",
       "      <td>206</td>\n",
       "      <td>210</td>\n",
       "      <td>...</td>\n",
       "      <td>210</td>\n",
       "      <td>210</td>\n",
       "      <td>245</td>\n",
       "      <td>139</td>\n",
       "      <td>119</td>\n",
       "      <td>255</td>\n",
       "      <td>202</td>\n",
       "      <td>203</td>\n",
       "      <td>236</td>\n",
       "      <td>114</td>\n",
       "    </tr>\n",
       "    <tr>\n",
       "      <th>19</th>\n",
       "      <td>171</td>\n",
       "      <td>238</td>\n",
       "      <td>212</td>\n",
       "      <td>203</td>\n",
       "      <td>220</td>\n",
       "      <td>216</td>\n",
       "      <td>217</td>\n",
       "      <td>209</td>\n",
       "      <td>207</td>\n",
       "      <td>205</td>\n",
       "      <td>...</td>\n",
       "      <td>210</td>\n",
       "      <td>206</td>\n",
       "      <td>221</td>\n",
       "      <td>242</td>\n",
       "      <td>0</td>\n",
       "      <td>224</td>\n",
       "      <td>234</td>\n",
       "      <td>230</td>\n",
       "      <td>181</td>\n",
       "      <td>26</td>\n",
       "    </tr>\n",
       "    <tr>\n",
       "      <th>20</th>\n",
       "      <td>39</td>\n",
       "      <td>145</td>\n",
       "      <td>201</td>\n",
       "      <td>255</td>\n",
       "      <td>157</td>\n",
       "      <td>115</td>\n",
       "      <td>250</td>\n",
       "      <td>200</td>\n",
       "      <td>207</td>\n",
       "      <td>206</td>\n",
       "      <td>...</td>\n",
       "      <td>215</td>\n",
       "      <td>207</td>\n",
       "      <td>221</td>\n",
       "      <td>238</td>\n",
       "      <td>0</td>\n",
       "      <td>0</td>\n",
       "      <td>188</td>\n",
       "      <td>85</td>\n",
       "      <td>0</td>\n",
       "      <td>0</td>\n",
       "    </tr>\n",
       "    <tr>\n",
       "      <th>21</th>\n",
       "      <td>0</td>\n",
       "      <td>0</td>\n",
       "      <td>0</td>\n",
       "      <td>31</td>\n",
       "      <td>0</td>\n",
       "      <td>129</td>\n",
       "      <td>253</td>\n",
       "      <td>190</td>\n",
       "      <td>207</td>\n",
       "      <td>208</td>\n",
       "      <td>...</td>\n",
       "      <td>212</td>\n",
       "      <td>201</td>\n",
       "      <td>226</td>\n",
       "      <td>165</td>\n",
       "      <td>0</td>\n",
       "      <td>0</td>\n",
       "      <td>0</td>\n",
       "      <td>0</td>\n",
       "      <td>0</td>\n",
       "      <td>0</td>\n",
       "    </tr>\n",
       "    <tr>\n",
       "      <th>22</th>\n",
       "      <td>2</td>\n",
       "      <td>0</td>\n",
       "      <td>0</td>\n",
       "      <td>0</td>\n",
       "      <td>0</td>\n",
       "      <td>89</td>\n",
       "      <td>254</td>\n",
       "      <td>199</td>\n",
       "      <td>199</td>\n",
       "      <td>192</td>\n",
       "      <td>...</td>\n",
       "      <td>203</td>\n",
       "      <td>200</td>\n",
       "      <td>222</td>\n",
       "      <td>155</td>\n",
       "      <td>0</td>\n",
       "      <td>3</td>\n",
       "      <td>3</td>\n",
       "      <td>3</td>\n",
       "      <td>2</td>\n",
       "      <td>0</td>\n",
       "    </tr>\n",
       "    <tr>\n",
       "      <th>23</th>\n",
       "      <td>0</td>\n",
       "      <td>0</td>\n",
       "      <td>1</td>\n",
       "      <td>5</td>\n",
       "      <td>0</td>\n",
       "      <td>0</td>\n",
       "      <td>255</td>\n",
       "      <td>218</td>\n",
       "      <td>226</td>\n",
       "      <td>232</td>\n",
       "      <td>...</td>\n",
       "      <td>220</td>\n",
       "      <td>212</td>\n",
       "      <td>236</td>\n",
       "      <td>95</td>\n",
       "      <td>0</td>\n",
       "      <td>2</td>\n",
       "      <td>0</td>\n",
       "      <td>0</td>\n",
       "      <td>0</td>\n",
       "      <td>0</td>\n",
       "    </tr>\n",
       "    <tr>\n",
       "      <th>24</th>\n",
       "      <td>0</td>\n",
       "      <td>0</td>\n",
       "      <td>0</td>\n",
       "      <td>0</td>\n",
       "      <td>0</td>\n",
       "      <td>0</td>\n",
       "      <td>155</td>\n",
       "      <td>194</td>\n",
       "      <td>168</td>\n",
       "      <td>170</td>\n",
       "      <td>...</td>\n",
       "      <td>167</td>\n",
       "      <td>161</td>\n",
       "      <td>180</td>\n",
       "      <td>0</td>\n",
       "      <td>0</td>\n",
       "      <td>1</td>\n",
       "      <td>0</td>\n",
       "      <td>1</td>\n",
       "      <td>0</td>\n",
       "      <td>0</td>\n",
       "    </tr>\n",
       "    <tr>\n",
       "      <th>25</th>\n",
       "      <td>0</td>\n",
       "      <td>0</td>\n",
       "      <td>0</td>\n",
       "      <td>0</td>\n",
       "      <td>0</td>\n",
       "      <td>0</td>\n",
       "      <td>0</td>\n",
       "      <td>0</td>\n",
       "      <td>0</td>\n",
       "      <td>0</td>\n",
       "      <td>...</td>\n",
       "      <td>0</td>\n",
       "      <td>0</td>\n",
       "      <td>0</td>\n",
       "      <td>0</td>\n",
       "      <td>0</td>\n",
       "      <td>0</td>\n",
       "      <td>0</td>\n",
       "      <td>0</td>\n",
       "      <td>0</td>\n",
       "      <td>0</td>\n",
       "    </tr>\n",
       "    <tr>\n",
       "      <th>26</th>\n",
       "      <td>0</td>\n",
       "      <td>0</td>\n",
       "      <td>0</td>\n",
       "      <td>0</td>\n",
       "      <td>0</td>\n",
       "      <td>0</td>\n",
       "      <td>0</td>\n",
       "      <td>0</td>\n",
       "      <td>0</td>\n",
       "      <td>0</td>\n",
       "      <td>...</td>\n",
       "      <td>0</td>\n",
       "      <td>0</td>\n",
       "      <td>0</td>\n",
       "      <td>0</td>\n",
       "      <td>0</td>\n",
       "      <td>0</td>\n",
       "      <td>0</td>\n",
       "      <td>0</td>\n",
       "      <td>0</td>\n",
       "      <td>0</td>\n",
       "    </tr>\n",
       "    <tr>\n",
       "      <th>27</th>\n",
       "      <td>0</td>\n",
       "      <td>0</td>\n",
       "      <td>0</td>\n",
       "      <td>0</td>\n",
       "      <td>0</td>\n",
       "      <td>0</td>\n",
       "      <td>0</td>\n",
       "      <td>0</td>\n",
       "      <td>0</td>\n",
       "      <td>0</td>\n",
       "      <td>...</td>\n",
       "      <td>0</td>\n",
       "      <td>0</td>\n",
       "      <td>0</td>\n",
       "      <td>0</td>\n",
       "      <td>0</td>\n",
       "      <td>0</td>\n",
       "      <td>0</td>\n",
       "      <td>0</td>\n",
       "      <td>0</td>\n",
       "      <td>0</td>\n",
       "    </tr>\n",
       "  </tbody>\n",
       "</table>\n",
       "<p>28 rows × 28 columns</p>\n",
       "</div>"
      ],
      "text/plain": [
       "     0    1    2    3    4    5    6    7    8    9   ...   18   19   20   21  \\\n",
       "0     0    0    0    0    0    0    0    0    0    0  ...    0    0    0    0   \n",
       "1     0    0    0    0    0    0    0    0    0    0  ...    0    0    0    0   \n",
       "2     0    0    0    0    0    0    0    0    0    0  ...    0    0    0    0   \n",
       "3     0    0    0    0    4    0    0    0    0    0  ...    0    0    0    0   \n",
       "4     0    0    0    0    0    0    0   88  201  228  ...  255  135    0    0   \n",
       "5     0    0    0    0    0   47  252  234  238  224  ...  231  249  254   45   \n",
       "6     0    0    1    0    0  214  222  210  213  224  ...  223  221  240  254   \n",
       "7     1    0    0    0  128  237  207  224  224  207  ...  213  226  211  237   \n",
       "8     0    2    0    0  237  222  215  207  210  212  ...  214  206  199  218   \n",
       "9     0    4    0   85  228  210  218  200  211  208  ...  210  217  206  213   \n",
       "10    0    0    0  217  224  215  206  205  204  217  ...  224  207  212  215   \n",
       "11    1    0   21  225  212  212  203  211  225  193  ...  197  223  207  220   \n",
       "12    0    0  123  226  207  211  209  205  228  158  ...  183  226  208  214   \n",
       "13    0    0  226  219  202  208  206  205  216  184  ...  200  219  216  213   \n",
       "14    0   45  227  204  214  211  218  222  221  230  ...  221  224  223  217   \n",
       "15    0  157  226  203  207  211  209  215  205  198  ...  207  213  214  214   \n",
       "16    0  235  213  204  211  210  209  213  202  197  ...  203  211  218  215   \n",
       "17   52  255  207  200  208  213  210  210  208  207  ...  212  205  215  201   \n",
       "18  118  217  201  206  208  213  208  205  206  210  ...  210  210  245  139   \n",
       "19  171  238  212  203  220  216  217  209  207  205  ...  210  206  221  242   \n",
       "20   39  145  201  255  157  115  250  200  207  206  ...  215  207  221  238   \n",
       "21    0    0    0   31    0  129  253  190  207  208  ...  212  201  226  165   \n",
       "22    2    0    0    0    0   89  254  199  199  192  ...  203  200  222  155   \n",
       "23    0    0    1    5    0    0  255  218  226  232  ...  220  212  236   95   \n",
       "24    0    0    0    0    0    0  155  194  168  170  ...  167  161  180    0   \n",
       "25    0    0    0    0    0    0    0    0    0    0  ...    0    0    0    0   \n",
       "26    0    0    0    0    0    0    0    0    0    0  ...    0    0    0    0   \n",
       "27    0    0    0    0    0    0    0    0    0    0  ...    0    0    0    0   \n",
       "\n",
       "     22   23   24   25   26   27  \n",
       "0     0    0    0    0    0    0  \n",
       "1     0    0    0    0    0    0  \n",
       "2     0    0    0    0    0    0  \n",
       "3     0    0    0    0    0    0  \n",
       "4     0    0    0    0    0    0  \n",
       "5     0    0    0    0    0    0  \n",
       "6     0    0    1    0    0    0  \n",
       "7   150    0    0    0    0    0  \n",
       "8   255   13    0    2    0    0  \n",
       "9   231  175    0    0    0    0  \n",
       "10  213  229   31    0    4    0  \n",
       "11  213  232  177    0    0    0  \n",
       "12  209  216  255   13    0    1  \n",
       "13  213  211  233  148    0    0  \n",
       "14  210  218  213  254    0    0  \n",
       "15  214  213  208  234  107    0  \n",
       "16  214  208  209  222  230    0  \n",
       "17  228  208  214  212  218   25  \n",
       "18  119  255  202  203  236  114  \n",
       "19    0  224  234  230  181   26  \n",
       "20    0    0  188   85    0    0  \n",
       "21    0    0    0    0    0    0  \n",
       "22    0    3    3    3    2    0  \n",
       "23    0    2    0    0    0    0  \n",
       "24    0    1    0    1    0    0  \n",
       "25    0    0    0    0    0    0  \n",
       "26    0    0    0    0    0    0  \n",
       "27    0    0    0    0    0    0  \n",
       "\n",
       "[28 rows x 28 columns]"
      ]
     },
     "execution_count": 16,
     "metadata": {},
     "output_type": "execute_result"
    }
   ],
   "source": [
    "pd.DataFrame(x_train_re[0])"
   ]
  },
  {
   "cell_type": "markdown",
   "id": "c4359299",
   "metadata": {
    "papermill": {
     "duration": 0.022115,
     "end_time": "2023-03-31T09:20:02.261088",
     "exception": false,
     "start_time": "2023-03-31T09:20:02.238973",
     "status": "completed"
    },
    "tags": []
   },
   "source": [
    "### 4.1. Visualise the article images \n",
    "We can inspect the first image in the training set, we can see that the pixel values fall in the range of 0 to 255:"
   ]
  },
  {
   "cell_type": "code",
   "execution_count": 17,
   "id": "2d22c4bd",
   "metadata": {
    "execution": {
     "iopub.execute_input": "2023-03-31T09:20:02.307166Z",
     "iopub.status.busy": "2023-03-31T09:20:02.306731Z",
     "iopub.status.idle": "2023-03-31T09:20:02.588423Z",
     "shell.execute_reply": "2023-03-31T09:20:02.587283Z"
    },
    "papermill": {
     "duration": 0.308394,
     "end_time": "2023-03-31T09:20:02.591105",
     "exception": false,
     "start_time": "2023-03-31T09:20:02.282711",
     "status": "completed"
    },
    "tags": []
   },
   "outputs": [
    {
     "data": {
      "image/png": "[encoded data removed]",
      "text/plain": [
       "<Figure size 500x400 with 2 Axes>"
      ]
     },
     "metadata": {},
     "output_type": "display_data"
    }
   ],
   "source": [
    "plt.figure(figsize=(5, 4))\n",
    "plt.imshow(x_train_re[0])\n",
    "plt.colorbar()\n",
    "plt.grid(False)\n",
    "plt.show()"
   ]
  },
  {
   "cell_type": "markdown",
   "id": "60daf71d",
   "metadata": {
    "papermill": {
     "duration": 0.022469,
     "end_time": "2023-03-31T09:20:02.636602",
     "exception": false,
     "start_time": "2023-03-31T09:20:02.614133",
     "status": "completed"
    },
    "tags": []
   },
   "source": [
    "Our first record of training data represents a T-shirt/top."
   ]
  },
  {
   "cell_type": "markdown",
   "id": "514f3c1a",
   "metadata": {
    "papermill": {
     "duration": 0.021942,
     "end_time": "2023-03-31T09:20:02.681374",
     "exception": false,
     "start_time": "2023-03-31T09:20:02.659432",
     "status": "completed"
    },
    "tags": []
   },
   "source": [
    "Let's display the first 25 images of article from the training set and also display the class name below each image. This will give us the sense of data is in correct format for training our model."
   ]
  },
  {
   "cell_type": "code",
   "execution_count": 18,
   "id": "db30bde7",
   "metadata": {
    "execution": {
     "iopub.execute_input": "2023-03-31T09:20:02.727507Z",
     "iopub.status.busy": "2023-03-31T09:20:02.727067Z",
     "iopub.status.idle": "2023-03-31T09:20:03.146669Z",
     "shell.execute_reply": "2023-03-31T09:20:03.144766Z"
    },
    "papermill": {
     "duration": 0.445079,
     "end_time": "2023-03-31T09:20:03.148862",
     "exception": true,
     "start_time": "2023-03-31T09:20:02.703783",
     "status": "failed"
    },
    "tags": []
   },
   "outputs": [],
   "source": [
    "# numbers_to_display = 25\n",
    "# num_cells = math.ceil(math.sqrt(numbers_to_display))\n",
    "# plt.figure(figsize=(10,10))\n",
    "# for i in range(numbers_to_display):\n",
    "#     plt.subplot(num_cells, num_cells, i+1)\n",
    "#     plt.xticks([])\n",
    "#     plt.yticks([])\n",
    "#     plt.grid(False)\n",
    "#     plt.imshow(x_train_re[i], cmap=plt.cm.binary)\n",
    "#     plt.xlabel(clothing_class_names[y_train[i] - 1])\n",
    "# plt.show()"
   ]
  },
  {
   "cell_type": "markdown",
   "id": "af0907cb",
   "metadata": {
    "papermill": {
     "duration": null,
     "end_time": null,
     "exception": null,
     "start_time": null,
     "status": "pending"
    },
    "tags": []
   },
   "source": [
    "### 4.2. Reshaping training, and testing data \n",
    "In order to use convolution layers we need to reshape our data and add a color channel to it. As you've noticed currently every digit has a shape of (28, 28) which means that it is a 28x28 matrix of color values form 0 to 255. We need to reshape it to (28, 28, 1) shape so that each pixel potentially may have multiple channels (like Red, Green and Blue)."
   ]
  },
  {
   "cell_type": "markdown",
   "id": "28800e22",
   "metadata": {
    "papermill": {
     "duration": null,
     "end_time": null,
     "exception": null,
     "start_time": null,
     "status": "pending"
    },
    "tags": []
   },
   "source": [
    "#### Reshaping training dataset"
   ]
  },
  {
   "cell_type": "code",
   "execution_count": 19,
   "id": "2cd3a5ef",
   "metadata": {
    "execution": {
     "iopub.execute_input": "2023-03-31T09:12:14.412592Z",
     "iopub.status.busy": "2023-03-31T09:12:14.412150Z",
     "iopub.status.idle": "2023-03-31T09:12:14.419837Z",
     "shell.execute_reply": "2023-03-31T09:12:14.418023Z",
     "shell.execute_reply.started": "2023-03-31T09:12:14.412558Z"
    },
    "papermill": {
     "duration": null,
     "end_time": null,
     "exception": null,
     "start_time": null,
     "status": "pending"
    },
    "tags": []
   },
   "outputs": [],
   "source": [
    "x_train_with_chanels = x_train_re.reshape(\n",
    "    x_train_re.shape[0],\n",
    "    IMAGE_WIDTH,\n",
    "    IMAGE_HEIGHT,\n",
    "    IMAGE_CHANNELS\n",
    ")"
   ]
  },
  {
   "cell_type": "code",
   "execution_count": 20,
   "id": "e7b2834a",
   "metadata": {
    "execution": {
     "iopub.execute_input": "2023-03-31T09:12:18.124213Z",
     "iopub.status.busy": "2023-03-31T09:12:18.123698Z",
     "iopub.status.idle": "2023-03-31T09:12:18.130432Z",
     "shell.execute_reply": "2023-03-31T09:12:18.129396Z",
     "shell.execute_reply.started": "2023-03-31T09:12:18.124153Z"
    },
    "papermill": {
     "duration": null,
     "end_time": null,
     "exception": null,
     "start_time": null,
     "status": "pending"
    },
    "tags": []
   },
   "outputs": [
    {
     "name": "stdout",
     "output_type": "stream",
     "text": [
      "Shape of the training dataset after reshape:  (60000, 28, 28, 1)\n"
     ]
    }
   ],
   "source": [
    "print('Shape of the training dataset after reshape: ', x_train_with_chanels.shape)"
   ]
  },
  {
   "cell_type": "markdown",
   "id": "3636f65d",
   "metadata": {
    "papermill": {
     "duration": null,
     "end_time": null,
     "exception": null,
     "start_time": null,
     "status": "pending"
    },
    "tags": []
   },
   "source": [
    "#### Reshaping testing dataset"
   ]
  },
  {
   "cell_type": "code",
   "execution_count": 21,
   "id": "cd70c92b",
   "metadata": {
    "execution": {
     "iopub.execute_input": "2023-03-31T09:12:22.970931Z",
     "iopub.status.busy": "2023-03-31T09:12:22.970477Z",
     "iopub.status.idle": "2023-03-31T09:12:22.977737Z",
     "shell.execute_reply": "2023-03-31T09:12:22.976352Z",
     "shell.execute_reply.started": "2023-03-31T09:12:22.970898Z"
    },
    "papermill": {
     "duration": null,
     "end_time": null,
     "exception": null,
     "start_time": null,
     "status": "pending"
    },
    "tags": []
   },
   "outputs": [],
   "source": [
    "x_test_with_chanels = x_test_re.reshape(\n",
    "    x_test_re.shape[0],\n",
    "    IMAGE_WIDTH,\n",
    "    IMAGE_HEIGHT,\n",
    "    IMAGE_CHANNELS\n",
    ")"
   ]
  },
  {
   "cell_type": "code",
   "execution_count": 22,
   "id": "a037fb05",
   "metadata": {
    "execution": {
     "iopub.execute_input": "2023-03-31T09:12:28.933475Z",
     "iopub.status.busy": "2023-03-31T09:12:28.932790Z",
     "iopub.status.idle": "2023-03-31T09:12:28.940585Z",
     "shell.execute_reply": "2023-03-31T09:12:28.939257Z",
     "shell.execute_reply.started": "2023-03-31T09:12:28.933436Z"
    },
    "papermill": {
     "duration": null,
     "end_time": null,
     "exception": null,
     "start_time": null,
     "status": "pending"
    },
    "tags": []
   },
   "outputs": [
    {
     "name": "stdout",
     "output_type": "stream",
     "text": [
      "Shape of the testing dataset  after reshape:  (10000, 28, 28, 1)\n"
     ]
    }
   ],
   "source": [
    "print('Shape of the testing dataset  after reshape: ', x_test_with_chanels.shape)"
   ]
  },
  {
   "cell_type": "markdown",
   "id": "ae5e66df",
   "metadata": {
    "papermill": {
     "duration": null,
     "end_time": null,
     "exception": null,
     "start_time": null,
     "status": "pending"
    },
    "tags": []
   },
   "source": [
    "### 4.3 Normalize training, and testing dataset \n",
    "\n",
    "Before feeding these values [0...255] to the neural network model, we scale them to a range of -1 to 1. We do this by dividing the values by 255.0."
   ]
  },
  {
   "cell_type": "code",
   "execution_count": 23,
   "id": "3c5879db",
   "metadata": {
    "execution": {
     "iopub.execute_input": "2023-03-31T09:12:32.333565Z",
     "iopub.status.busy": "2023-03-31T09:12:32.333055Z",
     "iopub.status.idle": "2023-03-31T09:12:32.652422Z",
     "shell.execute_reply": "2023-03-31T09:12:32.651040Z",
     "shell.execute_reply.started": "2023-03-31T09:12:32.333530Z"
    },
    "papermill": {
     "duration": null,
     "end_time": null,
     "exception": null,
     "start_time": null,
     "status": "pending"
    },
    "tags": []
   },
   "outputs": [],
   "source": [
    "# Normalize image pixel values to [-1, 1] range\n",
    "x_train_normalized = x_train_with_chanels / 255.0\n",
    "x_test_normalized = x_test_with_chanels / 255.0"
   ]
  },
  {
   "cell_type": "code",
   "execution_count": 24,
   "id": "53f833f8",
   "metadata": {
    "execution": {
     "iopub.execute_input": "2023-03-31T09:12:35.602099Z",
     "iopub.status.busy": "2023-03-31T09:12:35.601629Z",
     "iopub.status.idle": "2023-03-31T09:12:35.621017Z",
     "shell.execute_reply": "2023-03-31T09:12:35.619313Z",
     "shell.execute_reply.started": "2023-03-31T09:12:35.602065Z"
    },
    "papermill": {
     "duration": null,
     "end_time": null,
     "exception": null,
     "start_time": null,
     "status": "pending"
    },
    "tags": []
   },
   "outputs": [
    {
     "data": {
      "text/plain": [
       "array([[0.        , 0.        , 0.        , 0.        , 0.        ,\n",
       "        0.        , 0.        , 0.        , 0.        , 0.        ,\n",
       "        0.        , 0.        , 0.        , 0.        , 0.        ,\n",
       "        0.        , 0.        , 0.        , 0.        , 0.        ,\n",
       "        0.        , 0.        , 0.        , 0.        , 0.        ,\n",
       "        0.        , 0.        , 0.        ],\n",
       "       [0.        , 0.        , 0.        , 0.        , 0.        ,\n",
       "        0.        , 0.        , 0.        , 0.        , 0.        ,\n",
       "        0.        , 0.        , 0.        , 0.        , 0.        ,\n",
       "        0.        , 0.        , 0.        , 0.        , 0.        ,\n",
       "        0.        , 0.        , 0.        , 0.        , 0.        ,\n",
       "        0.        , 0.        , 0.        ],\n",
       "       [0.        , 0.        , 0.        , 0.        , 0.        ,\n",
       "        0.        , 0.        , 0.        , 0.        , 0.        ,\n",
       "        0.        , 0.        , 0.        , 0.        , 0.        ,\n",
       "        0.        , 0.        , 0.        , 0.        , 0.        ,\n",
       "        0.        , 0.        , 0.        , 0.        , 0.        ,\n",
       "        0.        , 0.        , 0.        ],\n",
       "       [0.        , 0.        , 0.        , 0.        , 0.01568627,\n",
       "        0.        , 0.        , 0.        , 0.        , 0.        ,\n",
       "        0.24313725, 0.23921569, 0.08235294, 0.11372549, 0.09019608,\n",
       "        0.2       , 0.53333333, 0.23921569, 0.        , 0.        ,\n",
       "        0.        , 0.        , 0.        , 0.        , 0.        ,\n",
       "        0.        , 0.        , 0.        ],\n",
       "       [0.        , 0.        , 0.        , 0.        , 0.        ,\n",
       "        0.        , 0.        , 0.34509804, 0.78823529, 0.89411765,\n",
       "        0.88235294, 1.        , 0.45098039, 0.24313725, 0.5372549 ,\n",
       "        1.        , 0.92156863, 0.87058824, 1.        , 0.52941176,\n",
       "        0.        , 0.        , 0.        , 0.        , 0.        ,\n",
       "        0.        , 0.        , 0.        ],\n",
       "       [0.        , 0.        , 0.        , 0.        , 0.        ,\n",
       "        0.18431373, 0.98823529, 0.91764706, 0.93333333, 0.87843137,\n",
       "        0.84313725, 0.84313725, 0.89803922, 0.42352941, 0.70588235,\n",
       "        0.81176471, 0.83921569, 0.87843137, 0.90588235, 0.97647059,\n",
       "        0.99607843, 0.17647059, 0.        , 0.        , 0.        ,\n",
       "        0.        , 0.        , 0.        ],\n",
       "       [0.        , 0.        , 0.00392157, 0.        , 0.        ,\n",
       "        0.83921569, 0.87058824, 0.82352941, 0.83529412, 0.87843137,\n",
       "        0.88235294, 0.85098039, 0.8627451 , 0.99607843, 0.91372549,\n",
       "        0.85882353, 0.86666667, 0.85098039, 0.8745098 , 0.86666667,\n",
       "        0.94117647, 0.99607843, 0.        , 0.        , 0.00392157,\n",
       "        0.        , 0.        , 0.        ],\n",
       "       [0.00392157, 0.        , 0.        , 0.        , 0.50196078,\n",
       "        0.92941176, 0.81176471, 0.87843137, 0.87843137, 0.81176471,\n",
       "        0.84705882, 0.83921569, 0.82352941, 0.81568627, 0.82745098,\n",
       "        0.86666667, 0.81568627, 0.85882353, 0.83529412, 0.88627451,\n",
       "        0.82745098, 0.92941176, 0.58823529, 0.        , 0.        ,\n",
       "        0.        , 0.        , 0.        ],\n",
       "       [0.        , 0.00784314, 0.        , 0.        , 0.92941176,\n",
       "        0.87058824, 0.84313725, 0.81176471, 0.82352941, 0.83137255,\n",
       "        0.83529412, 0.80784314, 0.83921569, 0.83529412, 0.83921569,\n",
       "        0.83529412, 0.82352941, 0.84313725, 0.83921569, 0.80784314,\n",
       "        0.78039216, 0.85490196, 1.        , 0.05098039, 0.        ,\n",
       "        0.00784314, 0.        , 0.        ],\n",
       "       [0.        , 0.01568627, 0.        , 0.33333333, 0.89411765,\n",
       "        0.82352941, 0.85490196, 0.78431373, 0.82745098, 0.81568627,\n",
       "        0.79607843, 0.84313725, 0.82352941, 0.81960784, 0.81960784,\n",
       "        0.82352941, 0.83529412, 0.82745098, 0.82352941, 0.85098039,\n",
       "        0.80784314, 0.83529412, 0.90588235, 0.68627451, 0.        ,\n",
       "        0.        , 0.        , 0.        ],\n",
       "       [0.        , 0.        , 0.        , 0.85098039, 0.87843137,\n",
       "        0.84313725, 0.80784314, 0.80392157, 0.8       , 0.85098039,\n",
       "        0.90196078, 0.87058824, 0.84313725, 0.87843137, 0.91372549,\n",
       "        0.89411765, 0.90980392, 0.89411765, 0.87843137, 0.81176471,\n",
       "        0.83137255, 0.84313725, 0.83529412, 0.89803922, 0.12156863,\n",
       "        0.        , 0.01568627, 0.        ],\n",
       "       [0.00392157, 0.        , 0.08235294, 0.88235294, 0.83137255,\n",
       "        0.83137255, 0.79607843, 0.82745098, 0.88235294, 0.75686275,\n",
       "        0.54509804, 0.53333333, 0.76470588, 0.57647059, 0.61176471,\n",
       "        0.54509804, 0.50196078, 0.63529412, 0.77254902, 0.8745098 ,\n",
       "        0.81176471, 0.8627451 , 0.83529412, 0.90980392, 0.69411765,\n",
       "        0.        , 0.        , 0.        ],\n",
       "       [0.        , 0.        , 0.48235294, 0.88627451, 0.81176471,\n",
       "        0.82745098, 0.81960784, 0.80392157, 0.89411765, 0.61960784,\n",
       "        0.35294118, 0.40392157, 0.72941176, 0.54117647, 0.39215686,\n",
       "        0.4745098 , 0.57647059, 0.61960784, 0.71764706, 0.88627451,\n",
       "        0.81568627, 0.83921569, 0.81960784, 0.84705882, 1.        ,\n",
       "        0.05098039, 0.        , 0.00392157],\n",
       "       [0.        , 0.        , 0.88627451, 0.85882353, 0.79215686,\n",
       "        0.81568627, 0.80784314, 0.80392157, 0.84705882, 0.72156863,\n",
       "        0.61176471, 0.58823529, 0.75686275, 0.66666667, 0.64313725,\n",
       "        0.65882353, 0.7372549 , 0.72941176, 0.78431373, 0.85882353,\n",
       "        0.84705882, 0.83529412, 0.83529412, 0.82745098, 0.91372549,\n",
       "        0.58039216, 0.        , 0.        ],\n",
       "       [0.        , 0.17647059, 0.89019608, 0.8       , 0.83921569,\n",
       "        0.82745098, 0.85490196, 0.87058824, 0.86666667, 0.90196078,\n",
       "        0.89803922, 0.86666667, 0.83529412, 0.87843137, 0.91372549,\n",
       "        0.88627451, 0.8627451 , 0.85882353, 0.86666667, 0.87843137,\n",
       "        0.8745098 , 0.85098039, 0.82352941, 0.85490196, 0.83529412,\n",
       "        0.99607843, 0.        , 0.        ],\n",
       "       [0.        , 0.61568627, 0.88627451, 0.79607843, 0.81176471,\n",
       "        0.82745098, 0.81960784, 0.84313725, 0.80392157, 0.77647059,\n",
       "        0.81176471, 0.81568627, 0.78823529, 0.78823529, 0.77254902,\n",
       "        0.79607843, 0.80392157, 0.82352941, 0.81176471, 0.83529412,\n",
       "        0.83921569, 0.83921569, 0.83921569, 0.83529412, 0.81568627,\n",
       "        0.91764706, 0.41960784, 0.        ],\n",
       "       [0.        , 0.92156863, 0.83529412, 0.8       , 0.82745098,\n",
       "        0.82352941, 0.81960784, 0.83529412, 0.79215686, 0.77254902,\n",
       "        0.8       , 0.84313725, 0.85098039, 0.83529412, 0.83137255,\n",
       "        0.82352941, 0.80784314, 0.83137255, 0.79607843, 0.82745098,\n",
       "        0.85490196, 0.84313725, 0.83921569, 0.81568627, 0.81960784,\n",
       "        0.87058824, 0.90196078, 0.        ],\n",
       "       [0.20392157, 1.        , 0.81176471, 0.78431373, 0.81568627,\n",
       "        0.83529412, 0.82352941, 0.82352941, 0.81568627, 0.81176471,\n",
       "        0.79215686, 0.78823529, 0.81960784, 0.84705882, 0.84705882,\n",
       "        0.84705882, 0.84705882, 0.83921569, 0.83137255, 0.80392157,\n",
       "        0.84313725, 0.78823529, 0.89411765, 0.81568627, 0.83921569,\n",
       "        0.83137255, 0.85490196, 0.09803922],\n",
       "       [0.4627451 , 0.85098039, 0.78823529, 0.80784314, 0.81568627,\n",
       "        0.83529412, 0.81568627, 0.80392157, 0.80784314, 0.82352941,\n",
       "        0.82745098, 0.79215686, 0.78039216, 0.81176471, 0.81568627,\n",
       "        0.81960784, 0.82352941, 0.81176471, 0.82352941, 0.82352941,\n",
       "        0.96078431, 0.54509804, 0.46666667, 1.        , 0.79215686,\n",
       "        0.79607843, 0.9254902 , 0.44705882],\n",
       "       [0.67058824, 0.93333333, 0.83137255, 0.79607843, 0.8627451 ,\n",
       "        0.84705882, 0.85098039, 0.81960784, 0.81176471, 0.80392157,\n",
       "        0.82352941, 0.82745098, 0.80784314, 0.8       , 0.80784314,\n",
       "        0.81960784, 0.82745098, 0.84313725, 0.82352941, 0.80784314,\n",
       "        0.86666667, 0.94901961, 0.        , 0.87843137, 0.91764706,\n",
       "        0.90196078, 0.70980392, 0.10196078],\n",
       "       [0.15294118, 0.56862745, 0.78823529, 1.        , 0.61568627,\n",
       "        0.45098039, 0.98039216, 0.78431373, 0.81176471, 0.80784314,\n",
       "        0.81176471, 0.83529412, 0.84705882, 0.80784314, 0.80392157,\n",
       "        0.80784314, 0.81176471, 0.80784314, 0.84313725, 0.81176471,\n",
       "        0.86666667, 0.93333333, 0.        , 0.        , 0.7372549 ,\n",
       "        0.33333333, 0.        , 0.        ],\n",
       "       [0.        , 0.        , 0.        , 0.12156863, 0.        ,\n",
       "        0.50588235, 0.99215686, 0.74509804, 0.81176471, 0.81568627,\n",
       "        0.81568627, 0.81568627, 0.81960784, 0.82745098, 0.82745098,\n",
       "        0.81960784, 0.81960784, 0.81960784, 0.83137255, 0.78823529,\n",
       "        0.88627451, 0.64705882, 0.        , 0.        , 0.        ,\n",
       "        0.        , 0.        , 0.        ],\n",
       "       [0.00784314, 0.        , 0.        , 0.        , 0.        ,\n",
       "        0.34901961, 0.99607843, 0.78039216, 0.78039216, 0.75294118,\n",
       "        0.76862745, 0.77647059, 0.78039216, 0.78823529, 0.79215686,\n",
       "        0.79607843, 0.8       , 0.79607843, 0.79607843, 0.78431373,\n",
       "        0.87058824, 0.60784314, 0.        , 0.01176471, 0.01176471,\n",
       "        0.01176471, 0.00784314, 0.        ],\n",
       "       [0.        , 0.        , 0.00392157, 0.01960784, 0.        ,\n",
       "        0.        , 1.        , 0.85490196, 0.88627451, 0.90980392,\n",
       "        0.89411765, 0.87843137, 0.87058824, 0.8627451 , 0.85882353,\n",
       "        0.85882353, 0.85098039, 0.86666667, 0.8627451 , 0.83137255,\n",
       "        0.9254902 , 0.37254902, 0.        , 0.00784314, 0.        ,\n",
       "        0.        , 0.        , 0.        ],\n",
       "       [0.        , 0.        , 0.        , 0.        , 0.        ,\n",
       "        0.        , 0.60784314, 0.76078431, 0.65882353, 0.66666667,\n",
       "        0.67058824, 0.67843137, 0.67843137, 0.70196078, 0.69411765,\n",
       "        0.68627451, 0.6745098 , 0.67058824, 0.65490196, 0.63137255,\n",
       "        0.70588235, 0.        , 0.        , 0.00392157, 0.        ,\n",
       "        0.00392157, 0.        , 0.        ],\n",
       "       [0.        , 0.        , 0.        , 0.        , 0.        ,\n",
       "        0.        , 0.        , 0.        , 0.        , 0.        ,\n",
       "        0.        , 0.        , 0.        , 0.        , 0.        ,\n",
       "        0.        , 0.        , 0.        , 0.        , 0.        ,\n",
       "        0.        , 0.        , 0.        , 0.        , 0.        ,\n",
       "        0.        , 0.        , 0.        ],\n",
       "       [0.        , 0.        , 0.        , 0.        , 0.        ,\n",
       "        0.        , 0.        , 0.        , 0.        , 0.        ,\n",
       "        0.        , 0.        , 0.        , 0.        , 0.        ,\n",
       "        0.        , 0.        , 0.        , 0.        , 0.        ,\n",
       "        0.        , 0.        , 0.        , 0.        , 0.        ,\n",
       "        0.        , 0.        , 0.        ],\n",
       "       [0.        , 0.        , 0.        , 0.        , 0.        ,\n",
       "        0.        , 0.        , 0.        , 0.        , 0.        ,\n",
       "        0.        , 0.        , 0.        , 0.        , 0.        ,\n",
       "        0.        , 0.        , 0.        , 0.        , 0.        ,\n",
       "        0.        , 0.        , 0.        , 0.        , 0.        ,\n",
       "        0.        , 0.        , 0.        ]])"
      ]
     },
     "execution_count": 24,
     "metadata": {},
     "output_type": "execute_result"
    }
   ],
   "source": [
    "# Let's check just one row from the 0th image to see values after normalization.\n",
    "x_train_normalized[0,:,:,0]"
   ]
  },
  {
   "cell_type": "markdown",
   "id": "a3b6ea23",
   "metadata": {
    "papermill": {
     "duration": null,
     "end_time": null,
     "exception": null,
     "start_time": null,
     "status": "pending"
    },
    "tags": []
   },
   "source": [
    "### 5. Build the CNN model to Classify clothing images \n",
    "\n",
    "Building the neural network requires setting up the layers of the model, then compiling the model.\n",
    "\n",
    "We are using Sequential Keras model which has two pairs of Convolution2D and MaxPooling2D layers. The MaxPooling layer acts as a sort of downsampling using max values in a region instead of averaging. After that we will use Flatten layer to convert multidimensional parameters to vector.\n",
    "\n",
    "The last layer will be a Dense layer with 10 Softmax outputs. The output represents the network guess. "
   ]
  },
  {
   "cell_type": "code",
   "execution_count": 25,
   "id": "4ec3615a",
   "metadata": {
    "execution": {
     "iopub.execute_input": "2023-03-31T09:12:43.386068Z",
     "iopub.status.busy": "2023-03-31T09:12:43.385571Z",
     "iopub.status.idle": "2023-03-31T09:12:43.551519Z",
     "shell.execute_reply": "2023-03-31T09:12:43.550212Z",
     "shell.execute_reply.started": "2023-03-31T09:12:43.386031Z"
    },
    "papermill": {
     "duration": null,
     "end_time": null,
     "exception": null,
     "start_time": null,
     "status": "pending"
    },
    "tags": []
   },
   "outputs": [],
   "source": [
    "model = tf.keras.models.Sequential()\n",
    "\n",
    "model.add(tf.keras.layers.Convolution2D(\n",
    "    input_shape=(IMAGE_WIDTH, IMAGE_HEIGHT, IMAGE_CHANNELS),\n",
    "    kernel_size=5,\n",
    "    filters=8,\n",
    "    strides=1,\n",
    "    activation=tf.keras.activations.relu,\n",
    "    kernel_initializer=tf.keras.initializers.VarianceScaling()\n",
    "))\n",
    "\n",
    "model.add(tf.keras.layers.MaxPooling2D(\n",
    "    pool_size=(2, 2),\n",
    "    strides=(2, 2)\n",
    "))\n",
    "\n",
    "model.add(tf.keras.layers.Convolution2D(\n",
    "    kernel_size=5,\n",
    "    filters=16,\n",
    "    strides=1,\n",
    "    activation=tf.keras.activations.relu,\n",
    "    kernel_initializer=tf.keras.initializers.VarianceScaling()\n",
    "))\n",
    "\n",
    "model.add(tf.keras.layers.MaxPooling2D(\n",
    "    pool_size=(2, 2),\n",
    "    strides=(2, 2)\n",
    "))\n",
    "\n",
    "model.add(tf.keras.layers.Flatten())\n",
    "\n",
    "model.add(tf.keras.layers.Dense(\n",
    "    units=128,\n",
    "    activation=tf.keras.activations.relu\n",
    "));\n",
    "\n",
    "model.add(tf.keras.layers.Dropout(0.2))\n",
    "\n",
    "model.add(tf.keras.layers.Dense(\n",
    "    units=10,\n",
    "    activation=tf.keras.activations.softmax,\n",
    "    kernel_initializer=tf.keras.initializers.VarianceScaling()\n",
    "))"
   ]
  },
  {
   "cell_type": "markdown",
   "id": "fd195421",
   "metadata": {
    "papermill": {
     "duration": null,
     "end_time": null,
     "exception": null,
     "start_time": null,
     "status": "pending"
    },
    "tags": []
   },
   "source": [
    "### 5.1. Summary of the training model \n",
    "\n",
    "Here is our model summary so far."
   ]
  },
  {
   "cell_type": "code",
   "execution_count": 26,
   "id": "48d1c71f",
   "metadata": {
    "execution": {
     "iopub.execute_input": "2023-03-31T09:12:49.242517Z",
     "iopub.status.busy": "2023-03-31T09:12:49.242073Z",
     "iopub.status.idle": "2023-03-31T09:12:49.250259Z",
     "shell.execute_reply": "2023-03-31T09:12:49.249297Z",
     "shell.execute_reply.started": "2023-03-31T09:12:49.242483Z"
    },
    "papermill": {
     "duration": null,
     "end_time": null,
     "exception": null,
     "start_time": null,
     "status": "pending"
    },
    "tags": []
   },
   "outputs": [
    {
     "name": "stdout",
     "output_type": "stream",
     "text": [
      "Model: \"sequential\"\n",
      "_________________________________________________________________\n",
      " Layer (type)                Output Shape              Param #   \n",
      "=================================================================\n",
      " conv2d (Conv2D)             (None, 24, 24, 8)         208       \n",
      "                                                                 \n",
      " max_pooling2d (MaxPooling2D  (None, 12, 12, 8)        0         \n",
      " )                                                               \n",
      "                                                                 \n",
      " conv2d_1 (Conv2D)           (None, 8, 8, 16)          3216      \n",
      "                                                                 \n",
      " max_pooling2d_1 (MaxPooling  (None, 4, 4, 16)         0         \n",
      " 2D)                                                             \n",
      "                                                                 \n",
      " flatten (Flatten)           (None, 256)               0         \n",
      "                                                                 \n",
      " dense (Dense)               (None, 128)               32896     \n",
      "                                                                 \n",
      " dropout (Dropout)           (None, 128)               0         \n",
      "                                                                 \n",
      " dense_1 (Dense)             (None, 10)                1290      \n",
      "                                                                 \n",
      "=================================================================\n",
      "Total params: 37,610\n",
      "Trainable params: 37,610\n",
      "Non-trainable params: 0\n",
      "_________________________________________________________________\n"
     ]
    }
   ],
   "source": [
    "model.summary()"
   ]
  },
  {
   "cell_type": "markdown",
   "id": "d26c305a",
   "metadata": {
    "papermill": {
     "duration": null,
     "end_time": null,
     "exception": null,
     "start_time": null,
     "status": "pending"
    },
    "tags": []
   },
   "source": [
    "In order to plot the model the graphviz should be installed."
   ]
  },
  {
   "cell_type": "code",
   "execution_count": 27,
   "id": "56328921",
   "metadata": {
    "execution": {
     "iopub.execute_input": "2023-03-31T09:12:55.679985Z",
     "iopub.status.busy": "2023-03-31T09:12:55.679496Z",
     "iopub.status.idle": "2023-03-31T09:12:56.931360Z",
     "shell.execute_reply": "2023-03-31T09:12:56.930243Z",
     "shell.execute_reply.started": "2023-03-31T09:12:55.679948Z"
    },
    "papermill": {
     "duration": null,
     "end_time": null,
     "exception": null,
     "start_time": null,
     "status": "pending"
    },
    "tags": []
   },
   "outputs": [
    {
     "name": "stdout",
     "output_type": "stream",
     "text": [
      "You must install pydot (`pip install pydot`) and install graphviz (see instructions at https://graphviz.gitlab.io/download/) for plot_model to work.\n"
     ]
    }
   ],
   "source": [
    "tf.keras.utils.plot_model(\n",
    "    model,\n",
    "    show_shapes=True,\n",
    "    show_layer_names=True,\n",
    ")"
   ]
  },
  {
   "cell_type": "markdown",
   "id": "0a7ad303",
   "metadata": {
    "papermill": {
     "duration": null,
     "end_time": null,
     "exception": null,
     "start_time": null,
     "status": "pending"
    },
    "tags": []
   },
   "source": [
    "### 5.3 Compile the model using keras.optimizers.Adam "
   ]
  },
  {
   "cell_type": "code",
   "execution_count": 28,
   "id": "4335c1b3",
   "metadata": {
    "execution": {
     "iopub.execute_input": "2023-03-31T09:13:03.301861Z",
     "iopub.status.busy": "2023-03-31T09:13:03.301362Z",
     "iopub.status.idle": "2023-03-31T09:13:03.323031Z",
     "shell.execute_reply": "2023-03-31T09:13:03.321603Z",
     "shell.execute_reply.started": "2023-03-31T09:13:03.301816Z"
    },
    "papermill": {
     "duration": null,
     "end_time": null,
     "exception": null,
     "start_time": null,
     "status": "pending"
    },
    "tags": []
   },
   "outputs": [],
   "source": [
    "adam_optimizer = tf.keras.optimizers.Adam(learning_rate=0.001)\n",
    "\n",
    "model.compile(\n",
    "    optimizer=adam_optimizer,\n",
    "    loss=tf.keras.losses.sparse_categorical_crossentropy,\n",
    "    metrics=['accuracy']\n",
    ")"
   ]
  },
  {
   "cell_type": "markdown",
   "id": "7b8b0f8a",
   "metadata": {
    "papermill": {
     "duration": null,
     "end_time": null,
     "exception": null,
     "start_time": null,
     "status": "pending"
    },
    "tags": []
   },
   "source": [
    "### 5.4 Train the model \n"
   ]
  },
  {
   "cell_type": "code",
   "execution_count": 29,
   "id": "9f41e048",
   "metadata": {
    "execution": {
     "iopub.execute_input": "2023-03-31T09:13:07.586361Z",
     "iopub.status.busy": "2023-03-31T09:13:07.585819Z",
     "iopub.status.idle": "2023-03-31T09:15:12.991073Z",
     "shell.execute_reply": "2023-03-31T09:15:12.989347Z",
     "shell.execute_reply.started": "2023-03-31T09:13:07.586326Z"
    },
    "papermill": {
     "duration": null,
     "end_time": null,
     "exception": null,
     "start_time": null,
     "status": "pending"
    },
    "tags": []
   },
   "outputs": [
    {
     "name": "stdout",
     "output_type": "stream",
     "text": [
      "Epoch 1/10\n",
      "1875/1875 [==============================] - 50s 25ms/step - loss: 0.5495 - accuracy: 0.8002 - val_loss: 0.3739 - val_accuracy: 0.8628\n",
      "Epoch 2/10\n",
      "1875/1875 [==============================] - 45s 24ms/step - loss: 0.3707 - accuracy: 0.8666 - val_loss: 0.3328 - val_accuracy: 0.8753\n",
      "Epoch 3/10\n",
      "1875/1875 [==============================] - 46s 24ms/step - loss: 0.3298 - accuracy: 0.8791 - val_loss: 0.3045 - val_accuracy: 0.8876\n",
      "Epoch 4/10\n",
      "1875/1875 [==============================] - 45s 24ms/step - loss: 0.3061 - accuracy: 0.8869 - val_loss: 0.2897 - val_accuracy: 0.8941\n",
      "Epoch 5/10\n",
      "1875/1875 [==============================] - 46s 25ms/step - loss: 0.2847 - accuracy: 0.8947 - val_loss: 0.2884 - val_accuracy: 0.8918\n",
      "Epoch 6/10\n",
      "1875/1875 [==============================] - 44s 24ms/step - loss: 0.2708 - accuracy: 0.8990 - val_loss: 0.2713 - val_accuracy: 0.8994\n",
      "Epoch 7/10\n",
      "1875/1875 [==============================] - 45s 24ms/step - loss: 0.2585 - accuracy: 0.9043 - val_loss: 0.2622 - val_accuracy: 0.9045\n",
      "Epoch 8/10\n",
      "1875/1875 [==============================] - 45s 24ms/step - loss: 0.2480 - accuracy: 0.9081 - val_loss: 0.2621 - val_accuracy: 0.9045\n",
      "Epoch 9/10\n",
      "1875/1875 [==============================] - 45s 24ms/step - loss: 0.2391 - accuracy: 0.9100 - val_loss: 0.2860 - val_accuracy: 0.8970\n",
      "Epoch 10/10\n",
      "1875/1875 [==============================] - 53s 28ms/step - loss: 0.2313 - accuracy: 0.9123 - val_loss: 0.2593 - val_accuracy: 0.9070\n"
     ]
    }
   ],
   "source": [
    "log_dir=\".logs/fit/\" + datetime.datetime.now().strftime(\"%Y%m%d-%H%M%S\")\n",
    "tensorboard_callback = tf.keras.callbacks.TensorBoard(log_dir=log_dir, histogram_freq=1)\n",
    "\n",
    "training_history = model.fit(\n",
    "    x_train_normalized,\n",
    "    y_train_re,\n",
    "    epochs=10,\n",
    "    validation_data=(x_test_normalized, y_test_re),\n",
    "    callbacks=[tensorboard_callback]\n",
    ")"
   ]
  },
  {
   "cell_type": "markdown",
   "id": "fbb8cb55",
   "metadata": {
    "papermill": {
     "duration": null,
     "end_time": null,
     "exception": null,
     "start_time": null,
     "status": "pending"
    },
    "tags": []
   },
   "source": [
    "### 6. Model evaluation"
   ]
  },
  {
   "cell_type": "code",
   "execution_count": 30,
   "id": "f0023027",
   "metadata": {
    "execution": {
     "iopub.execute_input": "2023-03-31T09:15:19.335457Z",
     "iopub.status.busy": "2023-03-31T09:15:19.334989Z",
     "iopub.status.idle": "2023-03-31T09:15:19.563764Z",
     "shell.execute_reply": "2023-03-31T09:15:19.562859Z",
     "shell.execute_reply.started": "2023-03-31T09:15:19.335425Z"
    },
    "papermill": {
     "duration": null,
     "end_time": null,
     "exception": null,
     "start_time": null,
     "status": "pending"
    },
    "tags": []
   },
   "outputs": [
    {
     "data": {
      "text/plain": [
       "<matplotlib.legend.Legend at 0x2549f201940>"
      ]
     },
     "execution_count": 30,
     "metadata": {},
     "output_type": "execute_result"
    },
    {
     "data": {
      "image/png": "[encoded data removed]",
      "text/plain": [
       "<Figure size 640x480 with 1 Axes>"
      ]
     },
     "metadata": {},
     "output_type": "display_data"
    }
   ],
   "source": [
    "plt.xlabel('Epoch Number')\n",
    "plt.ylabel('Accuracy')\n",
    "plt.plot(training_history.history['loss'], label='training set')\n",
    "plt.plot(training_history.history['val_loss'], label='testing set')\n",
    "plt.legend()"
   ]
  },
  {
   "cell_type": "markdown",
   "id": "efc4e713",
   "metadata": {
    "papermill": {
     "duration": null,
     "end_time": null,
     "exception": null,
     "start_time": null,
     "status": "pending"
    },
    "tags": []
   },
   "source": [
    "### 6.2. Accuracy plot curve for training and testing"
   ]
  },
  {
   "cell_type": "code",
   "execution_count": 31,
   "id": "100328cd",
   "metadata": {
    "execution": {
     "iopub.execute_input": "2023-03-31T09:15:23.214375Z",
     "iopub.status.busy": "2023-03-31T09:15:23.213968Z",
     "iopub.status.idle": "2023-03-31T09:15:23.371160Z",
     "shell.execute_reply": "2023-03-31T09:15:23.369780Z",
     "shell.execute_reply.started": "2023-03-31T09:15:23.214340Z"
    },
    "papermill": {
     "duration": null,
     "end_time": null,
     "exception": null,
     "start_time": null,
     "status": "pending"
    },
    "tags": []
   },
   "outputs": [
    {
     "data": {
      "text/plain": [
       "<matplotlib.legend.Legend at 0x2549f3afc10>"
      ]
     },
     "execution_count": 31,
     "metadata": {},
     "output_type": "execute_result"
    },
    {
     "data": {
      "image/png": "[encoded data removed]",
      "text/plain": [
       "<Figure size 640x480 with 1 Axes>"
      ]
     },
     "metadata": {},
     "output_type": "display_data"
    }
   ],
   "source": [
    "plt.xlabel('Epoch Number')\n",
    "plt.ylabel('Accuracy')\n",
    "plt.plot(training_history.history['accuracy'], label='training set')\n",
    "plt.plot(training_history.history['val_accuracy'], label='testing set')\n",
    "plt.legend()"
   ]
  },
  {
   "cell_type": "markdown",
   "id": "081cc0fe",
   "metadata": {
    "papermill": {
     "duration": null,
     "end_time": null,
     "exception": null,
     "start_time": null,
     "status": "pending"
    },
    "tags": []
   },
   "source": [
    "### 6.3. Evaluation of the model accuracy\n",
    "We need to compare the accuracy of our model on training set and on test set. We expect our model to perform similarly on both sets. If the performance on a test set will be poor comparing to a training set it would be an indicator for us that the model is overfitted and we have a \"high variance\" issue."
   ]
  },
  {
   "cell_type": "markdown",
   "id": "dd9c86bb",
   "metadata": {
    "papermill": {
     "duration": null,
     "end_time": null,
     "exception": null,
     "start_time": null,
     "status": "pending"
    },
    "tags": []
   },
   "source": [
    "### 6.3.1 Performance of training dataset "
   ]
  },
  {
   "cell_type": "code",
   "execution_count": 32,
   "id": "358c76aa",
   "metadata": {
    "execution": {
     "iopub.execute_input": "2023-03-31T09:15:26.551161Z",
     "iopub.status.busy": "2023-03-31T09:15:26.550740Z",
     "iopub.status.idle": "2023-03-31T09:15:33.015686Z",
     "shell.execute_reply": "2023-03-31T09:15:33.014374Z",
     "shell.execute_reply.started": "2023-03-31T09:15:26.551130Z"
    },
    "papermill": {
     "duration": null,
     "end_time": null,
     "exception": null,
     "start_time": null,
     "status": "pending"
    },
    "tags": []
   },
   "outputs": [],
   "source": [
    "%%capture\n",
    "train_loss, train_accuracy = model.evaluate(x_train_normalized, y_train_re)"
   ]
  },
  {
   "cell_type": "code",
   "execution_count": 33,
   "id": "e632c104",
   "metadata": {
    "execution": {
     "iopub.execute_input": "2023-03-31T09:15:35.181135Z",
     "iopub.status.busy": "2023-03-31T09:15:35.180407Z",
     "iopub.status.idle": "2023-03-31T09:15:35.187192Z",
     "shell.execute_reply": "2023-03-31T09:15:35.186036Z",
     "shell.execute_reply.started": "2023-03-31T09:15:35.181099Z"
    },
    "papermill": {
     "duration": null,
     "end_time": null,
     "exception": null,
     "start_time": null,
     "status": "pending"
    },
    "tags": []
   },
   "outputs": [
    {
     "name": "stdout",
     "output_type": "stream",
     "text": [
      "Train loss:  0.1934959590435028\n",
      "Train accuracy:  0.9280999898910522\n"
     ]
    }
   ],
   "source": [
    "print('Train loss: ', train_loss)\n",
    "print('Train accuracy: ', train_accuracy)"
   ]
  },
  {
   "cell_type": "markdown",
   "id": "b778e0ea",
   "metadata": {
    "papermill": {
     "duration": null,
     "end_time": null,
     "exception": null,
     "start_time": null,
     "status": "pending"
    },
    "tags": []
   },
   "source": [
    "### 6.3.2. Performance of the test dataset "
   ]
  },
  {
   "cell_type": "code",
   "execution_count": 34,
   "id": "f859157e",
   "metadata": {
    "execution": {
     "iopub.execute_input": "2023-03-31T09:15:41.387332Z",
     "iopub.status.busy": "2023-03-31T09:15:41.386175Z",
     "iopub.status.idle": "2023-03-31T09:15:42.294137Z",
     "shell.execute_reply": "2023-03-31T09:15:42.292783Z",
     "shell.execute_reply.started": "2023-03-31T09:15:41.387288Z"
    },
    "papermill": {
     "duration": null,
     "end_time": null,
     "exception": null,
     "start_time": null,
     "status": "pending"
    },
    "tags": []
   },
   "outputs": [],
   "source": [
    "%%capture\n",
    "validation_loss, validation_accuracy = model.evaluate(x_test_normalized, y_test_re)"
   ]
  },
  {
   "cell_type": "code",
   "execution_count": 35,
   "id": "0ec850c1",
   "metadata": {
    "execution": {
     "iopub.execute_input": "2023-03-31T09:15:46.399092Z",
     "iopub.status.busy": "2023-03-31T09:15:46.398643Z",
     "iopub.status.idle": "2023-03-31T09:15:46.406156Z",
     "shell.execute_reply": "2023-03-31T09:15:46.404658Z",
     "shell.execute_reply.started": "2023-03-31T09:15:46.399049Z"
    },
    "papermill": {
     "duration": null,
     "end_time": null,
     "exception": null,
     "start_time": null,
     "status": "pending"
    },
    "tags": []
   },
   "outputs": [
    {
     "name": "stdout",
     "output_type": "stream",
     "text": [
      "Testing loss:  0.25928470492362976\n",
      "Testing accuracy:  0.9070000052452087\n"
     ]
    }
   ],
   "source": [
    "print('Testing loss: ', validation_loss)\n",
    "print('Testing accuracy: ', validation_accuracy)"
   ]
  },
  {
   "cell_type": "markdown",
   "id": "754f59f1",
   "metadata": {
    "papermill": {
     "duration": null,
     "end_time": null,
     "exception": null,
     "start_time": null,
     "status": "pending"
    },
    "tags": []
   },
   "source": [
    "### 6.3.3. Save and load the model\n",
    "\n",
    "We will save the entire model to a HDF5 file. The .h5 extension of the file indicates that the model shuold be saved in Keras format as HDF5 file. To use this model on the front-end we will convert it (later in this notebook) to Javascript understandable format (tfjs_layers_model with .json and .bin files) using tensorflowjs_converter."
   ]
  },
  {
   "cell_type": "code",
   "execution_count": 36,
   "id": "5603b794",
   "metadata": {
    "execution": {
     "iopub.execute_input": "2023-03-31T09:15:49.952778Z",
     "iopub.status.busy": "2023-03-31T09:15:49.952375Z",
     "iopub.status.idle": "2023-03-31T09:15:49.990573Z",
     "shell.execute_reply": "2023-03-31T09:15:49.989226Z",
     "shell.execute_reply.started": "2023-03-31T09:15:49.952746Z"
    },
    "papermill": {
     "duration": null,
     "end_time": null,
     "exception": null,
     "start_time": null,
     "status": "pending"
    },
    "tags": []
   },
   "outputs": [],
   "source": [
    "model_name = 'fashion_mnist_cnn.h5'\n",
    "model.save(model_name, save_format='h5')"
   ]
  },
  {
   "cell_type": "code",
   "execution_count": 37,
   "id": "23519074",
   "metadata": {
    "execution": {
     "iopub.execute_input": "2023-03-31T09:16:00.249596Z",
     "iopub.status.busy": "2023-03-31T09:16:00.249158Z",
     "iopub.status.idle": "2023-03-31T09:16:00.347289Z",
     "shell.execute_reply": "2023-03-31T09:16:00.345977Z",
     "shell.execute_reply.started": "2023-03-31T09:16:00.249563Z"
    },
    "papermill": {
     "duration": null,
     "end_time": null,
     "exception": null,
     "start_time": null,
     "status": "pending"
    },
    "tags": []
   },
   "outputs": [],
   "source": [
    "loaded_model = tf.keras.models.load_model(model_name)"
   ]
  },
  {
   "cell_type": "markdown",
   "id": "a7125269",
   "metadata": {
    "papermill": {
     "duration": null,
     "end_time": null,
     "exception": null,
     "start_time": null,
     "status": "pending"
    },
    "tags": []
   },
   "source": [
    "### 6.3.4. Visualize test predicted image category"
   ]
  },
  {
   "cell_type": "markdown",
   "id": "802f4f5c",
   "metadata": {
    "papermill": {
     "duration": null,
     "end_time": null,
     "exception": null,
     "start_time": null,
     "status": "pending"
    },
    "tags": []
   },
   "source": [
    "To use the model that we've just trained for image classification we need to call predict() method."
   ]
  },
  {
   "cell_type": "code",
   "execution_count": 38,
   "id": "65751161",
   "metadata": {
    "execution": {
     "iopub.execute_input": "2023-03-31T09:16:06.056175Z",
     "iopub.status.busy": "2023-03-31T09:16:06.055755Z",
     "iopub.status.idle": "2023-03-31T09:16:06.915250Z",
     "shell.execute_reply": "2023-03-31T09:16:06.914079Z",
     "shell.execute_reply.started": "2023-03-31T09:16:06.056144Z"
    },
    "papermill": {
     "duration": null,
     "end_time": null,
     "exception": null,
     "start_time": null,
     "status": "pending"
    },
    "tags": []
   },
   "outputs": [
    {
     "name": "stdout",
     "output_type": "stream",
     "text": [
      "313/313 [==============================] - 4s 12ms/step\n"
     ]
    }
   ],
   "source": [
    "predictions_one_hot = loaded_model.predict([x_test_normalized])"
   ]
  },
  {
   "cell_type": "code",
   "execution_count": 39,
   "id": "28d43faa",
   "metadata": {
    "execution": {
     "iopub.execute_input": "2023-03-31T09:16:10.536025Z",
     "iopub.status.busy": "2023-03-31T09:16:10.535531Z",
     "iopub.status.idle": "2023-03-31T09:16:10.545059Z",
     "shell.execute_reply": "2023-03-31T09:16:10.543791Z",
     "shell.execute_reply.started": "2023-03-31T09:16:10.535986Z"
    },
    "papermill": {
     "duration": null,
     "end_time": null,
     "exception": null,
     "start_time": null,
     "status": "pending"
    },
    "tags": []
   },
   "outputs": [
    {
     "data": {
      "text/plain": [
       "array([9.9455911e-01, 2.0008097e-10, 1.1273507e-03, 5.1689585e-05,\n",
       "       2.4221210e-06, 9.0460278e-10, 4.2501325e-03, 8.8847341e-12,\n",
       "       9.3124827e-06, 1.3183763e-11], dtype=float32)"
      ]
     },
     "execution_count": 39,
     "metadata": {},
     "output_type": "execute_result"
    }
   ],
   "source": [
    "predictions_one_hot[0]"
   ]
  },
  {
   "cell_type": "code",
   "execution_count": 40,
   "id": "e4f7c5fe",
   "metadata": {
    "execution": {
     "iopub.execute_input": "2023-03-31T09:16:13.528614Z",
     "iopub.status.busy": "2023-03-31T09:16:13.526955Z",
     "iopub.status.idle": "2023-03-31T09:16:13.536018Z",
     "shell.execute_reply": "2023-03-31T09:16:13.534686Z",
     "shell.execute_reply.started": "2023-03-31T09:16:13.528535Z"
    },
    "papermill": {
     "duration": null,
     "end_time": null,
     "exception": null,
     "start_time": null,
     "status": "pending"
    },
    "tags": []
   },
   "outputs": [
    {
     "name": "stdout",
     "output_type": "stream",
     "text": [
      "predictions_one_hot: (10000, 10)\n"
     ]
    }
   ],
   "source": [
    "print('predictions_one_hot:', predictions_one_hot.shape)"
   ]
  },
  {
   "cell_type": "markdown",
   "id": "86ffc437",
   "metadata": {
    "papermill": {
     "duration": null,
     "end_time": null,
     "exception": null,
     "start_time": null,
     "status": "pending"
    },
    "tags": []
   },
   "source": [
    "Each prediction consists of 10 probabilities (one for each number from 0 to 9). We need to pick the image number with the highest probability since this would be an image that our model most confident with."
   ]
  },
  {
   "cell_type": "code",
   "execution_count": 41,
   "id": "a35d8f6b",
   "metadata": {
    "execution": {
     "iopub.execute_input": "2023-03-31T09:16:17.843998Z",
     "iopub.status.busy": "2023-03-31T09:16:17.843528Z",
     "iopub.status.idle": "2023-03-31T09:16:17.871856Z",
     "shell.execute_reply": "2023-03-31T09:16:17.870344Z",
     "shell.execute_reply.started": "2023-03-31T09:16:17.843953Z"
    },
    "papermill": {
     "duration": null,
     "end_time": null,
     "exception": null,
     "start_time": null,
     "status": "pending"
    },
    "tags": []
   },
   "outputs": [
    {
     "data": {
      "text/html": [
       "<div>\n",
       "<style scoped>\n",
       "    .dataframe tbody tr th:only-of-type {\n",
       "        vertical-align: middle;\n",
       "    }\n",
       "\n",
       "    .dataframe tbody tr th {\n",
       "        vertical-align: top;\n",
       "    }\n",
       "\n",
       "    .dataframe thead th {\n",
       "        text-align: right;\n",
       "    }\n",
       "</style>\n",
       "<table border=\"1\" class=\"dataframe\">\n",
       "  <thead>\n",
       "    <tr style=\"text-align: right;\">\n",
       "      <th></th>\n",
       "      <th>0</th>\n",
       "      <th>1</th>\n",
       "      <th>2</th>\n",
       "      <th>3</th>\n",
       "      <th>4</th>\n",
       "      <th>5</th>\n",
       "      <th>6</th>\n",
       "      <th>7</th>\n",
       "      <th>8</th>\n",
       "      <th>9</th>\n",
       "    </tr>\n",
       "  </thead>\n",
       "  <tbody>\n",
       "    <tr>\n",
       "      <th>0</th>\n",
       "      <td>9.945591e-01</td>\n",
       "      <td>2.000810e-10</td>\n",
       "      <td>1.127351e-03</td>\n",
       "      <td>5.168959e-05</td>\n",
       "      <td>2.422121e-06</td>\n",
       "      <td>9.046028e-10</td>\n",
       "      <td>4.250132e-03</td>\n",
       "      <td>8.884734e-12</td>\n",
       "      <td>9.312483e-06</td>\n",
       "      <td>1.318376e-11</td>\n",
       "    </tr>\n",
       "    <tr>\n",
       "      <th>1</th>\n",
       "      <td>3.082171e-13</td>\n",
       "      <td>1.000000e+00</td>\n",
       "      <td>1.410651e-15</td>\n",
       "      <td>2.926859e-13</td>\n",
       "      <td>4.194153e-14</td>\n",
       "      <td>1.646523e-21</td>\n",
       "      <td>4.424361e-14</td>\n",
       "      <td>7.379019e-25</td>\n",
       "      <td>2.075961e-13</td>\n",
       "      <td>1.632738e-21</td>\n",
       "    </tr>\n",
       "    <tr>\n",
       "      <th>2</th>\n",
       "      <td>9.347943e-03</td>\n",
       "      <td>1.147732e-06</td>\n",
       "      <td>8.922358e-01</td>\n",
       "      <td>1.549093e-03</td>\n",
       "      <td>8.771669e-04</td>\n",
       "      <td>2.063081e-06</td>\n",
       "      <td>9.596983e-02</td>\n",
       "      <td>6.408623e-09</td>\n",
       "      <td>1.490038e-05</td>\n",
       "      <td>2.069406e-06</td>\n",
       "    </tr>\n",
       "    <tr>\n",
       "      <th>3</th>\n",
       "      <td>2.556956e-01</td>\n",
       "      <td>1.831645e-04</td>\n",
       "      <td>8.371591e-03</td>\n",
       "      <td>5.197893e-01</td>\n",
       "      <td>2.244952e-03</td>\n",
       "      <td>9.915035e-06</td>\n",
       "      <td>2.129232e-01</td>\n",
       "      <td>6.851961e-08</td>\n",
       "      <td>7.821732e-04</td>\n",
       "      <td>6.899928e-08</td>\n",
       "    </tr>\n",
       "    <tr>\n",
       "      <th>4</th>\n",
       "      <td>8.439372e-04</td>\n",
       "      <td>3.853525e-06</td>\n",
       "      <td>9.681159e-03</td>\n",
       "      <td>9.461275e-01</td>\n",
       "      <td>1.339123e-02</td>\n",
       "      <td>3.401271e-07</td>\n",
       "      <td>2.995177e-02</td>\n",
       "      <td>3.136570e-10</td>\n",
       "      <td>2.706851e-07</td>\n",
       "      <td>1.044716e-08</td>\n",
       "    </tr>\n",
       "    <tr>\n",
       "      <th>...</th>\n",
       "      <td>...</td>\n",
       "      <td>...</td>\n",
       "      <td>...</td>\n",
       "      <td>...</td>\n",
       "      <td>...</td>\n",
       "      <td>...</td>\n",
       "      <td>...</td>\n",
       "      <td>...</td>\n",
       "      <td>...</td>\n",
       "      <td>...</td>\n",
       "    </tr>\n",
       "    <tr>\n",
       "      <th>9995</th>\n",
       "      <td>8.879991e-01</td>\n",
       "      <td>8.638535e-06</td>\n",
       "      <td>1.097388e-02</td>\n",
       "      <td>6.474175e-02</td>\n",
       "      <td>3.424142e-05</td>\n",
       "      <td>1.703635e-07</td>\n",
       "      <td>3.622711e-02</td>\n",
       "      <td>8.085738e-09</td>\n",
       "      <td>1.512601e-05</td>\n",
       "      <td>2.308202e-08</td>\n",
       "    </tr>\n",
       "    <tr>\n",
       "      <th>9996</th>\n",
       "      <td>6.415001e-03</td>\n",
       "      <td>9.531997e-07</td>\n",
       "      <td>4.349839e-01</td>\n",
       "      <td>1.984527e-03</td>\n",
       "      <td>8.245006e-03</td>\n",
       "      <td>6.763918e-07</td>\n",
       "      <td>5.482371e-01</td>\n",
       "      <td>7.099356e-09</td>\n",
       "      <td>1.326028e-04</td>\n",
       "      <td>2.365508e-07</td>\n",
       "    </tr>\n",
       "    <tr>\n",
       "      <th>9997</th>\n",
       "      <td>1.015730e-08</td>\n",
       "      <td>1.216366e-11</td>\n",
       "      <td>2.224820e-09</td>\n",
       "      <td>1.830675e-08</td>\n",
       "      <td>4.613959e-09</td>\n",
       "      <td>1.063347e-10</td>\n",
       "      <td>2.962709e-10</td>\n",
       "      <td>4.936944e-11</td>\n",
       "      <td>1.000000e+00</td>\n",
       "      <td>6.520705e-12</td>\n",
       "    </tr>\n",
       "    <tr>\n",
       "      <th>9998</th>\n",
       "      <td>1.348387e-04</td>\n",
       "      <td>3.963896e-06</td>\n",
       "      <td>1.068937e-05</td>\n",
       "      <td>8.828088e-07</td>\n",
       "      <td>1.551309e-07</td>\n",
       "      <td>2.349269e-09</td>\n",
       "      <td>5.970565e-04</td>\n",
       "      <td>2.781589e-10</td>\n",
       "      <td>9.992524e-01</td>\n",
       "      <td>4.679829e-09</td>\n",
       "    </tr>\n",
       "    <tr>\n",
       "      <th>9999</th>\n",
       "      <td>7.284679e-04</td>\n",
       "      <td>9.509521e-01</td>\n",
       "      <td>6.702630e-03</td>\n",
       "      <td>4.273314e-03</td>\n",
       "      <td>2.543348e-02</td>\n",
       "      <td>2.050142e-06</td>\n",
       "      <td>3.788099e-03</td>\n",
       "      <td>9.520685e-08</td>\n",
       "      <td>8.115212e-03</td>\n",
       "      <td>4.585359e-06</td>\n",
       "    </tr>\n",
       "  </tbody>\n",
       "</table>\n",
       "<p>10000 rows × 10 columns</p>\n",
       "</div>"
      ],
      "text/plain": [
       "                 0             1             2             3             4  \\\n",
       "0     9.945591e-01  2.000810e-10  1.127351e-03  5.168959e-05  2.422121e-06   \n",
       "1     3.082171e-13  1.000000e+00  1.410651e-15  2.926859e-13  4.194153e-14   \n",
       "2     9.347943e-03  1.147732e-06  8.922358e-01  1.549093e-03  8.771669e-04   \n",
       "3     2.556956e-01  1.831645e-04  8.371591e-03  5.197893e-01  2.244952e-03   \n",
       "4     8.439372e-04  3.853525e-06  9.681159e-03  9.461275e-01  1.339123e-02   \n",
       "...            ...           ...           ...           ...           ...   \n",
       "9995  8.879991e-01  8.638535e-06  1.097388e-02  6.474175e-02  3.424142e-05   \n",
       "9996  6.415001e-03  9.531997e-07  4.349839e-01  1.984527e-03  8.245006e-03   \n",
       "9997  1.015730e-08  1.216366e-11  2.224820e-09  1.830675e-08  4.613959e-09   \n",
       "9998  1.348387e-04  3.963896e-06  1.068937e-05  8.828088e-07  1.551309e-07   \n",
       "9999  7.284679e-04  9.509521e-01  6.702630e-03  4.273314e-03  2.543348e-02   \n",
       "\n",
       "                 5             6             7             8             9  \n",
       "0     9.046028e-10  4.250132e-03  8.884734e-12  9.312483e-06  1.318376e-11  \n",
       "1     1.646523e-21  4.424361e-14  7.379019e-25  2.075961e-13  1.632738e-21  \n",
       "2     2.063081e-06  9.596983e-02  6.408623e-09  1.490038e-05  2.069406e-06  \n",
       "3     9.915035e-06  2.129232e-01  6.851961e-08  7.821732e-04  6.899928e-08  \n",
       "4     3.401271e-07  2.995177e-02  3.136570e-10  2.706851e-07  1.044716e-08  \n",
       "...            ...           ...           ...           ...           ...  \n",
       "9995  1.703635e-07  3.622711e-02  8.085738e-09  1.512601e-05  2.308202e-08  \n",
       "9996  6.763918e-07  5.482371e-01  7.099356e-09  1.326028e-04  2.365508e-07  \n",
       "9997  1.063347e-10  2.962709e-10  4.936944e-11  1.000000e+00  6.520705e-12  \n",
       "9998  2.349269e-09  5.970565e-04  2.781589e-10  9.992524e-01  4.679829e-09  \n",
       "9999  2.050142e-06  3.788099e-03  9.520685e-08  8.115212e-03  4.585359e-06  \n",
       "\n",
       "[10000 rows x 10 columns]"
      ]
     },
     "execution_count": 41,
     "metadata": {},
     "output_type": "execute_result"
    }
   ],
   "source": [
    "# Predictions in form of one-hot vectors (arrays of probabilities).\n",
    "pd.DataFrame(predictions_one_hot)"
   ]
  },
  {
   "cell_type": "code",
   "execution_count": 42,
   "id": "545ed48f",
   "metadata": {
    "execution": {
     "iopub.execute_input": "2023-03-31T09:16:21.335864Z",
     "iopub.status.busy": "2023-03-31T09:16:21.335379Z",
     "iopub.status.idle": "2023-03-31T09:16:21.349653Z",
     "shell.execute_reply": "2023-03-31T09:16:21.348378Z",
     "shell.execute_reply.started": "2023-03-31T09:16:21.335828Z"
    },
    "papermill": {
     "duration": null,
     "end_time": null,
     "exception": null,
     "start_time": null,
     "status": "pending"
    },
    "tags": []
   },
   "outputs": [
    {
     "data": {
      "text/html": [
       "<div>\n",
       "<style scoped>\n",
       "    .dataframe tbody tr th:only-of-type {\n",
       "        vertical-align: middle;\n",
       "    }\n",
       "\n",
       "    .dataframe tbody tr th {\n",
       "        vertical-align: top;\n",
       "    }\n",
       "\n",
       "    .dataframe thead th {\n",
       "        text-align: right;\n",
       "    }\n",
       "</style>\n",
       "<table border=\"1\" class=\"dataframe\">\n",
       "  <thead>\n",
       "    <tr style=\"text-align: right;\">\n",
       "      <th></th>\n",
       "      <th>0</th>\n",
       "    </tr>\n",
       "  </thead>\n",
       "  <tbody>\n",
       "    <tr>\n",
       "      <th>0</th>\n",
       "      <td>0</td>\n",
       "    </tr>\n",
       "    <tr>\n",
       "      <th>1</th>\n",
       "      <td>1</td>\n",
       "    </tr>\n",
       "    <tr>\n",
       "      <th>2</th>\n",
       "      <td>2</td>\n",
       "    </tr>\n",
       "    <tr>\n",
       "      <th>3</th>\n",
       "      <td>3</td>\n",
       "    </tr>\n",
       "    <tr>\n",
       "      <th>4</th>\n",
       "      <td>3</td>\n",
       "    </tr>\n",
       "    <tr>\n",
       "      <th>...</th>\n",
       "      <td>...</td>\n",
       "    </tr>\n",
       "    <tr>\n",
       "      <th>9995</th>\n",
       "      <td>0</td>\n",
       "    </tr>\n",
       "    <tr>\n",
       "      <th>9996</th>\n",
       "      <td>6</td>\n",
       "    </tr>\n",
       "    <tr>\n",
       "      <th>9997</th>\n",
       "      <td>8</td>\n",
       "    </tr>\n",
       "    <tr>\n",
       "      <th>9998</th>\n",
       "      <td>8</td>\n",
       "    </tr>\n",
       "    <tr>\n",
       "      <th>9999</th>\n",
       "      <td>1</td>\n",
       "    </tr>\n",
       "  </tbody>\n",
       "</table>\n",
       "<p>10000 rows × 1 columns</p>\n",
       "</div>"
      ],
      "text/plain": [
       "      0\n",
       "0     0\n",
       "1     1\n",
       "2     2\n",
       "3     3\n",
       "4     3\n",
       "...  ..\n",
       "9995  0\n",
       "9996  6\n",
       "9997  8\n",
       "9998  8\n",
       "9999  1\n",
       "\n",
       "[10000 rows x 1 columns]"
      ]
     },
     "execution_count": 42,
     "metadata": {},
     "output_type": "execute_result"
    }
   ],
   "source": [
    "# Let's extract predictions with highest probabilites and detect what digits have been actually recognized.\n",
    "predictions = np.argmax(predictions_one_hot, axis=1)\n",
    "pd.DataFrame(predictions)"
   ]
  },
  {
   "cell_type": "code",
   "execution_count": 43,
   "id": "228b8789",
   "metadata": {
    "execution": {
     "iopub.execute_input": "2023-03-31T09:16:24.642371Z",
     "iopub.status.busy": "2023-03-31T09:16:24.641949Z",
     "iopub.status.idle": "2023-03-31T09:16:24.649460Z",
     "shell.execute_reply": "2023-03-31T09:16:24.647792Z",
     "shell.execute_reply.started": "2023-03-31T09:16:24.642336Z"
    },
    "papermill": {
     "duration": null,
     "end_time": null,
     "exception": null,
     "start_time": null,
     "status": "pending"
    },
    "tags": []
   },
   "outputs": [
    {
     "name": "stdout",
     "output_type": "stream",
     "text": [
      "0\n",
      "T-shirt/top\n"
     ]
    }
   ],
   "source": [
    "print(predictions[0])\n",
    "print(clothing_class_names[predictions[0]])"
   ]
  },
  {
   "cell_type": "code",
   "execution_count": 44,
   "id": "4db7f479",
   "metadata": {
    "execution": {
     "iopub.execute_input": "2023-03-31T09:16:32.962062Z",
     "iopub.status.busy": "2023-03-31T09:16:32.961576Z",
     "iopub.status.idle": "2023-03-31T09:16:32.971223Z",
     "shell.execute_reply": "2023-03-31T09:16:32.969595Z",
     "shell.execute_reply.started": "2023-03-31T09:16:32.961982Z"
    },
    "papermill": {
     "duration": null,
     "end_time": null,
     "exception": null,
     "start_time": null,
     "status": "pending"
    },
    "tags": []
   },
   "outputs": [],
   "source": [
    "def plot_image(i, predictions_array, true_label, img):\n",
    "  predictions_array, true_label, img = predictions_array[i], true_label[i], img[i]\n",
    "  plt.grid(False)\n",
    "  plt.xticks([])\n",
    "  plt.yticks([])\n",
    "  \n",
    "  plt.imshow(img, cmap=plt.cm.binary)\n",
    "\n",
    "  predicted_label = np.argmax(predictions_array)\n",
    "  if predicted_label == true_label:\n",
    "    color = 'blue'\n",
    "  else:\n",
    "    color = 'red'\n",
    "  \n",
    "  plt.xlabel(\"{} {:2.0f}% ({})\".format(clothing_class_names[predicted_label],\n",
    "                                100*np.max(predictions_array),\n",
    "                                clothing_class_names[true_label]),\n",
    "                                color=color)"
   ]
  },
  {
   "cell_type": "code",
   "execution_count": 45,
   "id": "48e24498",
   "metadata": {
    "execution": {
     "iopub.execute_input": "2023-03-31T09:16:36.265425Z",
     "iopub.status.busy": "2023-03-31T09:16:36.264806Z",
     "iopub.status.idle": "2023-03-31T09:16:36.334688Z",
     "shell.execute_reply": "2023-03-31T09:16:36.333178Z",
     "shell.execute_reply.started": "2023-03-31T09:16:36.265376Z"
    },
    "papermill": {
     "duration": null,
     "end_time": null,
     "exception": null,
     "start_time": null,
     "status": "pending"
    },
    "tags": []
   },
   "outputs": [
    {
     "data": {
      "image/png": "[encoded data removed]",
      "text/plain": [
       "<Figure size 600x300 with 1 Axes>"
      ]
     },
     "metadata": {},
     "output_type": "display_data"
    }
   ],
   "source": [
    "i = 0\n",
    "plt.figure(figsize=(6,3))\n",
    "plt.subplot(1,2,1)\n",
    "plot_image(i, predictions_one_hot, y_test_re, x_test_normalized)"
   ]
  },
  {
   "cell_type": "markdown",
   "id": "b1ea1041",
   "metadata": {
    "papermill": {
     "duration": null,
     "end_time": null,
     "exception": null,
     "start_time": null,
     "status": "pending"
    },
    "tags": []
   },
   "source": [
    "So the model is most confident that this image is an T-shirt/top, or clothing_class_names[0]. And we can check the test label to see this is correct:"
   ]
  },
  {
   "cell_type": "markdown",
   "id": "f63cd40c",
   "metadata": {
    "papermill": {
     "duration": null,
     "end_time": null,
     "exception": null,
     "start_time": null,
     "status": "pending"
    },
    "tags": []
   },
   "source": [
    "Let's print the first image from a test set to see if model's prediction is correct.\n"
   ]
  },
  {
   "cell_type": "code",
   "execution_count": 46,
   "id": "00022121",
   "metadata": {
    "execution": {
     "iopub.execute_input": "2023-03-31T09:16:40.194598Z",
     "iopub.status.busy": "2023-03-31T09:16:40.194058Z",
     "iopub.status.idle": "2023-03-31T09:16:40.398399Z",
     "shell.execute_reply": "2023-03-31T09:16:40.396982Z",
     "shell.execute_reply.started": "2023-03-31T09:16:40.194556Z"
    },
    "papermill": {
     "duration": null,
     "end_time": null,
     "exception": null,
     "start_time": null,
     "status": "pending"
    },
    "tags": []
   },
   "outputs": [
    {
     "data": {
      "image/png": "[encoded data removed]",
      "text/plain": [
       "<Figure size 640x480 with 1 Axes>"
      ]
     },
     "metadata": {},
     "output_type": "display_data"
    }
   ],
   "source": [
    "plt.imshow(x_test_normalized[0].reshape((IMAGE_WIDTH, IMAGE_HEIGHT)), cmap=plt.cm.binary)\n",
    "plt.show()"
   ]
  },
  {
   "cell_type": "markdown",
   "id": "c1793bf8",
   "metadata": {
    "papermill": {
     "duration": null,
     "end_time": null,
     "exception": null,
     "start_time": null,
     "status": "pending"
    },
    "tags": []
   },
   "source": [
    "We see that our model made a correct prediction and it successfully recognized the image. Let's print some more test examples and correspondent predictions to see how model performs and where it does mistakes."
   ]
  },
  {
   "cell_type": "code",
   "execution_count": 47,
   "id": "ab114485",
   "metadata": {
    "execution": {
     "iopub.execute_input": "2023-03-31T09:16:43.827619Z",
     "iopub.status.busy": "2023-03-31T09:16:43.827175Z",
     "iopub.status.idle": "2023-03-31T09:16:44.109730Z",
     "shell.execute_reply": "2023-03-31T09:16:44.107274Z",
     "shell.execute_reply.started": "2023-03-31T09:16:43.827586Z"
    },
    "papermill": {
     "duration": null,
     "end_time": null,
     "exception": null,
     "start_time": null,
     "status": "pending"
    },
    "tags": []
   },
   "outputs": [],
   "source": [
    "# numbers_to_display = 36\n",
    "# num_cells = math.ceil(math.sqrt(numbers_to_display))\n",
    "# plt.figure(figsize=(15, 15))\n",
    "\n",
    "# for plot_index in range(numbers_to_display):    \n",
    "#     predicted_label = predictions[plot_index]\n",
    "#     plt.xticks([])\n",
    "#     plt.yticks([])\n",
    "#     plt.grid(False)\n",
    "#     color_map = 'Greens' if predicted_label == y_test_re[plot_index] else 'Reds'\n",
    "#     plt.subplot(num_cells, num_cells, plot_index + 1)\n",
    "#     plot_image(plot_index, predictions_one_hot, y_test_re, x_test_normalized)\n",
    "#     #plt.imshow(x_test_normalized[plot_index].reshape((IMAGE_WIDTH, IMAGE_HEIGHT)), cmap=color_map)\n",
    "#     #plt.xlabel(predicted_label)\n",
    "\n",
    "# plt.subplots_adjust(hspace=1, wspace=0.5)\n",
    "# plt.show()"
   ]
  },
  {
   "cell_type": "markdown",
   "id": "f9519ef3",
   "metadata": {
    "papermill": {
     "duration": null,
     "end_time": null,
     "exception": null,
     "start_time": null,
     "status": "pending"
    },
    "tags": []
   },
   "source": [
    "### 6.3.5. Confusion matrix of validation dataset <a class = \"anchor\" id = \"cmValidation\"></a>\n",
    "[Back to Table of Contents](#bcImp1)\n",
    "\n",
    "### Plotting a confusion matrix\n",
    "Confusion matrix shows what numbers are recognized well by the model and what numbers the model usually confuses to recognize correctly. You may see that the model performs really well but sometimes (28 times out of 10000) it may confuse number 5 with 3 or number 2 with 3."
   ]
  },
  {
   "cell_type": "code",
   "execution_count": 48,
   "id": "43ded14d",
   "metadata": {
    "execution": {
     "iopub.execute_input": "2023-03-31T09:16:56.165349Z",
     "iopub.status.busy": "2023-03-31T09:16:56.163793Z",
     "iopub.status.idle": "2023-03-31T09:16:56.796760Z",
     "shell.execute_reply": "2023-03-31T09:16:56.795439Z",
     "shell.execute_reply.started": "2023-03-31T09:16:56.165269Z"
    },
    "papermill": {
     "duration": null,
     "end_time": null,
     "exception": null,
     "start_time": null,
     "status": "pending"
    },
    "scrolled": true,
    "tags": []
   },
   "outputs": [
    {
     "data": {
      "image/png": "[encoded data removed]",
      "text/plain": [
       "<Figure size 900x700 with 2 Axes>"
      ]
     },
     "metadata": {},
     "output_type": "display_data"
    }
   ],
   "source": [
    "confusion_matrix = tf.math.confusion_matrix(y_test_re, predictions)\n",
    "f, ax = plt.subplots(figsize=(9, 7))\n",
    "sn.heatmap(\n",
    "    confusion_matrix,\n",
    "    annot=True,\n",
    "    linewidths=.5,\n",
    "    fmt=\"d\",\n",
    "    square=True,\n",
    "    ax=ax\n",
    ")\n",
    "plt.show()"
   ]
  },
  {
   "cell_type": "code",
   "execution_count": 49,
   "id": "e06ff08e",
   "metadata": {},
   "outputs": [
    {
     "name": "stdout",
     "output_type": "stream",
     "text": [
      "Recall: tf.Tensor(0.9979736575481256, shape=(), dtype=float64)\n",
      "Precision: tf.Tensor(0.9969635627530364, shape=(), dtype=float64)\n"
     ]
    }
   ],
   "source": [
    "# Extract true positives, false positives, false negatives, and true negatives\n",
    "tp = confusion_matrix[1, 1]\n",
    "fp = confusion_matrix[0, 1]\n",
    "fn = confusion_matrix[1, 0]\n",
    "tn = confusion_matrix[0, 0]\n",
    "\n",
    "# Compute recall and precision\n",
    "recall = tp / (tp + fn)\n",
    "precision = tp / (tp + fp)\n",
    "\n",
    "# Print recall and precision\n",
    "print(\"Recall:\", recall)\n",
    "print(\"Precision:\", precision)\n"
   ]
  },
  {
   "cell_type": "code",
   "execution_count": null,
   "id": "27a2a0af",
   "metadata": {},
   "outputs": [],
   "source": []
  }
 ],
 "metadata": {
  "kernelspec": {
   "display_name": "Python 3 (ipykernel)",
   "language": "python",
   "name": "python3"
  },
  "language_info": {
   "codemirror_mode": {
    "name": "ipython",
    "version": 3
   },
   "file_extension": ".py",
   "mimetype": "text/x-python",
   "name": "python",
   "nbconvert_exporter": "python",
   "pygments_lexer": "ipython3",
   "version": "3.9.13"
  },
  "papermill": {
   "default_parameters": {},
   "duration": 32.668992,
   "end_time": "2023-03-31T09:20:05.919730",
   "environment_variables": {},
   "exception": true,
   "input_path": "__notebook__.ipynb",
   "output_path": "__notebook__.ipynb",
   "parameters": {},
   "start_time": "2023-03-31T09:19:33.250738",
   "version": "2.3.4"
  }
 },
 "nbformat": 4,
 "nbformat_minor": 5
}
