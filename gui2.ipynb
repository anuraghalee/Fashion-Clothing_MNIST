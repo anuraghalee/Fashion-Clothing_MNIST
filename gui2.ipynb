{
 "cells": [
  {
   "cell_type": "code",
   "execution_count": 2,
   "id": "74d1d656",
   "metadata": {},
   "outputs": [
    {
     "name": "stderr",
     "output_type": "stream",
     "text": [
      "C:\\Users\\Anurag\\anaconda3\\lib\\site-packages\\gradio\\inputs.py:257: UserWarning: Usage of gradio.inputs is deprecated, and will not be supported in the future, please import your component from gradio.components\n",
      "  warnings.warn(\n",
      "C:\\Users\\Anurag\\anaconda3\\lib\\site-packages\\gradio\\deprecation.py:40: UserWarning: `optional` parameter is deprecated, and it has no effect\n",
      "  warnings.warn(value)\n",
      "C:\\Users\\Anurag\\anaconda3\\lib\\site-packages\\gradio\\outputs.py:197: UserWarning: Usage of gradio.outputs is deprecated, and will not be supported in the future, please import your components from gradio.components\n",
      "  warnings.warn(\n",
      "C:\\Users\\Anurag\\anaconda3\\lib\\site-packages\\gradio\\deprecation.py:40: UserWarning: The 'type' parameter has been deprecated. Use the Number component instead.\n",
      "  warnings.warn(value)\n"
     ]
    },
    {
     "name": "stdout",
     "output_type": "stream",
     "text": [
      "Running on local URL:  http://127.0.0.1:7861\n",
      "\n",
      "To create a public link, set `share=True` in `launch()`.\n"
     ]
    },
    {
     "data": {
      "text/html": [
       "<div><iframe src=\"http://127.0.0.1:7861/\" width=\"100%\" height=\"500\" allow=\"autoplay; camera; microphone; clipboard-read; clipboard-write;\" frameborder=\"0\" allowfullscreen></iframe></div>"
      ],
      "text/plain": [
       "<IPython.core.display.HTML object>"
      ]
     },
     "metadata": {},
     "output_type": "display_data"
    },
    {
     "data": {
      "text/plain": []
     },
     "execution_count": 2,
     "metadata": {},
     "output_type": "execute_result"
    },
    {
     "name": "stdout",
     "output_type": "stream",
     "text": [
      "1/1 [==============================] - 0s 184ms/step\n",
      "1/1 [==============================] - 0s 65ms/step\n",
      "1/1 [==============================] - 0s 67ms/step\n",
      "1/1 [==============================] - 0s 69ms/step\n",
      "1/1 [==============================] - 0s 68ms/step\n",
      "1/1 [==============================] - 0s 69ms/step\n"
     ]
    },
    {
     "name": "stderr",
     "output_type": "stream",
     "text": [
      "Traceback (most recent call last):\n",
      "  File \"C:\\Users\\Anurag\\anaconda3\\lib\\site-packages\\gradio\\routes.py\", line 393, in run_predict\n",
      "    output = await app.get_blocks().process_api(\n",
      "  File \"C:\\Users\\Anurag\\anaconda3\\lib\\site-packages\\gradio\\blocks.py\", line 1108, in process_api\n",
      "    result = await self.call_function(\n",
      "  File \"C:\\Users\\Anurag\\anaconda3\\lib\\site-packages\\gradio\\blocks.py\", line 915, in call_function\n",
      "    prediction = await anyio.to_thread.run_sync(\n",
      "  File \"C:\\Users\\Anurag\\anaconda3\\lib\\site-packages\\anyio\\to_thread.py\", line 28, in run_sync\n",
      "    return await get_asynclib().run_sync_in_worker_thread(func, *args, cancellable=cancellable,\n",
      "  File \"C:\\Users\\Anurag\\anaconda3\\lib\\site-packages\\anyio\\_backends\\_asyncio.py\", line 818, in run_sync_in_worker_thread\n",
      "    return await future\n",
      "  File \"C:\\Users\\Anurag\\anaconda3\\lib\\site-packages\\anyio\\_backends\\_asyncio.py\", line 754, in run\n",
      "    result = context.run(func, *args)\n",
      "  File \"C:\\Users\\Anurag\\AppData\\Local\\Temp\\ipykernel_27404\\3085349030.py\", line 42, in predict_image\n",
      "    pred_digit_class = class_names[pred_digit_index]\n",
      "IndexError: list index out of range\n"
     ]
    },
    {
     "name": "stdout",
     "output_type": "stream",
     "text": [
      "1/1 [==============================] - 0s 71ms/step\n",
      "1/1 [==============================] - 0s 68ms/step\n",
      "1/1 [==============================] - 0s 58ms/step\n",
      "1/1 [==============================] - 0s 71ms/step\n",
      "1/1 [==============================] - 0s 62ms/step\n",
      "1/1 [==============================] - 0s 63ms/step\n"
     ]
    }
   ],
   "source": [
    "import gradio as gr\n",
    "import tensorflow as tf\n",
    "import numpy as np\n",
    "from PIL import Image\n",
    "\n",
    "# Load the trained model\n",
    "model = tf.keras.models.load_model('fashion_mnist_cnn-kj.h5')\n",
    "\n",
    "# Define the input and output interfaces\n",
    "input_interface = gr.inputs.Image(shape=(28, 28))\n",
    "output_interface = gr.outputs.Label(num_top_classes=3)\n",
    "\n",
    "# Define the class names\n",
    "class_names = ['T-shirt/top', 'Trouser', 'Pullover', 'Dress', 'Coat', 'Shirt']\n",
    "\n",
    "def predict_image(img):\n",
    "    # Convert the Gradio image to a PIL Image object\n",
    "    pil_img = Image.fromarray(img.astype('uint8'), 'RGB')\n",
    "    \n",
    "    # Convert the PIL Image to grayscale\n",
    "    gray_img = pil_img.convert('L')\n",
    "    \n",
    "    # Resize the image to 28x28 pixels\n",
    "    resized_img = gray_img.resize((28, 28))\n",
    "    \n",
    "    # Convert the PIL Image to a NumPy array\n",
    "    np_img = np.array(resized_img)\n",
    "    \n",
    "    # Reshape the NumPy array to a 4D tensor with batch size 1\n",
    "    input_tensor = np_img.reshape((1, 28, 28, 1))\n",
    "    \n",
    "    # Normalize the input values\n",
    "    input_tensor = input_tensor / 255.0\n",
    "    \n",
    "    # Make the prediction\n",
    "    pred = model.predict(input_tensor)[0]\n",
    "    \n",
    "    # Get the predicted digit index\n",
    "    pred_digit_index = np.argmax(pred)\n",
    "    \n",
    "    # Get the predicted digit class name\n",
    "    pred_digit_class = class_names[pred_digit_index]\n",
    "    \n",
    "    return {pred_digit_class: round(float(pred[pred_digit_index]), 2)}\n",
    "\n",
    "# Launch the GUI with the defined interfaces and the prediction function\n",
    "gr.Interface(fn=predict_image, inputs=input_interface, outputs=output_interface, title='MNIST Classifier').launch()\n"
   ]
  },
  {
   "cell_type": "code",
   "execution_count": null,
   "id": "7128319c",
   "metadata": {},
   "outputs": [],
   "source": []
  }
 ],
 "metadata": {
  "kernelspec": {
   "display_name": "Python 3 (ipykernel)",
   "language": "python",
   "name": "python3"
  },
  "language_info": {
   "codemirror_mode": {
    "name": "ipython",
    "version": 3
   },
   "file_extension": ".py",
   "mimetype": "text/x-python",
   "name": "python",
   "nbconvert_exporter": "python",
   "pygments_lexer": "ipython3",
   "version": "3.9.13"
  }
 },
 "nbformat": 4,
 "nbformat_minor": 5
}
